{
 "cells": [
  {
   "cell_type": "code",
   "execution_count": 6,
   "metadata": {},
   "outputs": [],
   "source": [
    "import pandas as pd\n",
    "import jsonlines\n",
    "from collections import Counter\n",
    "import numpy as np"
   ]
  },
  {
   "cell_type": "code",
   "execution_count": 4,
   "metadata": {},
   "outputs": [],
   "source": [
    "script_names = [\"shawshank\",\"bourne\",\"basterds\"]\n",
    "infos = []\n",
    "\n",
    "for name in script_names:\n",
    "    info = {\"name\": name}\n",
    "    info[\"script\"] = open(f\"annotated-data/{name}.script.txt\").read()\n",
    "    info[\"coref\"] = pd.read_csv(f\"annotated-data/{name}.coref.csv\", index_col = None)\n",
    "    info[\"conll\"] = open(f\"corefhoi/data/{name}.english.conll\").read()\n",
    "    info[\"corefhoi\"] = [obj for obj in jsonlines.open(f\"corefhoi/data/{name}.english.512.jsonlines\")][0]\n",
    "    infos.append(info)"
   ]
  },
  {
   "cell_type": "code",
   "execution_count": 16,
   "metadata": {},
   "outputs": [],
   "source": [
    "pronouns = \"I me my mine myself we us our ours ourselves you your yours yourself yourselves he him his himself she her hers herself it its itself they them their theirs themself themselves\".split()"
   ]
  },
  {
   "cell_type": "code",
   "execution_count": 25,
   "metadata": {},
   "outputs": [
    {
     "name": "stdout",
     "output_type": "stream",
     "text": [
      "shawshank\n",
      "number of words: script = 6128, corefhoi = 7638, conll = 7638\n",
      "number of mentions = 887\n",
      "number of entities = 44\n",
      "number of pronominal mentions = 345\n",
      "number of difficult mentions = 8\n",
      "\n",
      "bourne\n",
      "number of words: script = 6398, corefhoi = 7616, conll = 7616\n",
      "number of mentions = 911\n",
      "number of entities = 39\n",
      "number of pronominal mentions = 304\n",
      "number of difficult mentions = 3\n",
      "\n",
      "basterds\n",
      "number of words: script = 5750, corefhoi = 7321, conll = 7321\n",
      "number of mentions = 1005\n",
      "number of entities = 23\n",
      "number of pronominal mentions = 338\n",
      "number of difficult mentions = 12\n",
      "\n"
     ]
    }
   ],
   "source": [
    "for info in infos:\n",
    "    print(info[\"name\"])\n",
    "    \n",
    "    n_words_script = len(info[\"script\"].strip().split())\n",
    "    \n",
    "    n_words_json = len(info[\"corefhoi\"][\"tokens\"])\n",
    "    \n",
    "    n_words_conll = len([line for line in info[\"conll\"].strip().split(\"\\n\") if not (line.startswith(\"#begin document\") or line.startswith(\"#end document\")) and line.strip()])\n",
    "    \n",
    "    n_mentions = len(info[\"coref\"])\n",
    "    \n",
    "    n_entities = len(info[\"coref\"][\"entityLabel\"].unique())\n",
    "    \n",
    "    mentions = [info[\"script\"][row[\"begin\"]: row[\"end\"]] for _, row in info[\"coref\"].iterrows()]\n",
    "    \n",
    "    n_pronouns = sum([mention.lower() in pronouns for mention in mentions])\n",
    "    \n",
    "    n_difficult = info[\"coref\"][\"DIFFICULT.1\"].sum()\n",
    "    \n",
    "    print(f\"number of words: script = {n_words_script}, corefhoi = {n_words_json}, conll = {n_words_conll}\")\n",
    "    print(f\"number of mentions = {n_mentions}\")\n",
    "    print(f\"number of entities = {n_entities}\")\n",
    "    print(f\"number of pronominal mentions = {n_pronouns}\")\n",
    "    print(f\"number of difficult mentions = {n_difficult}\")\n",
    "    print()"
   ]
  },
  {
   "cell_type": "code",
   "execution_count": 2,
   "metadata": {},
   "outputs": [],
   "source": [
    "test_set = [obj for obj in jsonlines.open(\"corefhoi/data/test.english.512.jsonlines\")]"
   ]
  },
  {
   "cell_type": "code",
   "execution_count": 3,
   "metadata": {},
   "outputs": [],
   "source": [
    "test_words_arr = [len(obj[\"tokens\"]) for obj in test_set]"
   ]
  },
  {
   "cell_type": "code",
   "execution_count": 7,
   "metadata": {},
   "outputs": [
    {
     "data": {
      "text/plain": [
       "487.29597701149424"
      ]
     },
     "execution_count": 7,
     "metadata": {},
     "output_type": "execute_result"
    }
   ],
   "source": [
    "np.mean(test_words_arr)"
   ]
  },
  {
   "cell_type": "code",
   "execution_count": null,
   "metadata": {},
   "outputs": [],
   "source": []
  }
 ],
 "metadata": {
  "kernelspec": {
   "display_name": "python3.6.7",
   "language": "python",
   "name": "python3.6.7"
  },
  "language_info": {
   "codemirror_mode": {
    "name": "ipython",
    "version": 3
   },
   "file_extension": ".py",
   "mimetype": "text/x-python",
   "name": "python",
   "nbconvert_exporter": "python",
   "pygments_lexer": "ipython3",
   "version": "3.6.7"
  }
 },
 "nbformat": 4,
 "nbformat_minor": 4
}
