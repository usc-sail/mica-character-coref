{
 "cells": [
  {
   "cell_type": "code",
   "execution_count": 2,
   "metadata": {},
   "outputs": [],
   "source": [
    "from transformers import AutoTokenizer\n",
    "import spacy\n",
    "from nltk import wordpunct_tokenize"
   ]
  },
  {
   "cell_type": "code",
   "execution_count": 3,
   "metadata": {},
   "outputs": [
    {
     "name": "stdout",
     "output_type": "stream",
     "text": [
      "Thank you Michele, this helps a lot! Thank you for taking the time \n",
      "to explain this to us.\n"
     ]
    }
   ],
   "source": [
    "text = \"\"\"Thank you Michele, this helps a lot! Thank you for taking the time \n",
    "to explain this to us.\"\"\"\n",
    "print(text)"
   ]
  },
  {
   "cell_type": "code",
   "execution_count": 4,
   "metadata": {},
   "outputs": [
    {
     "name": "stdout",
     "output_type": "stream",
     "text": [
      "['Thank', 'you', 'Michele', ',', 'this', 'helps', 'a', 'lot', '!', 'Thank', 'you', 'for', 'taking', 'the', 'time', 'to', 'explain', 'this', 'to', 'us', '.']\n"
     ]
    }
   ],
   "source": [
    "tokens = wordpunct_tokenize(text)\n",
    "print(tokens)"
   ]
  },
  {
   "cell_type": "code",
   "execution_count": 14,
   "metadata": {},
   "outputs": [
    {
     "data": {
      "text/plain": [
       "{'bos_token': '<s>',\n",
       " 'eos_token': '</s>',\n",
       " 'unk_token': '<unk>',\n",
       " 'sep_token': '</s>',\n",
       " 'pad_token': '<pad>',\n",
       " 'cls_token': '<s>',\n",
       " 'mask_token': '<mask>'}"
      ]
     },
     "execution_count": 14,
     "metadata": {},
     "output_type": "execute_result"
    }
   ],
   "source": [
    "tokenizer1 = AutoTokenizer.from_pretrained(\"roberta-large\", use_fast=True)\n",
    "tokenizer2 = AutoTokenizer.from_pretrained(\"roberta-large\", use_fast=True,\n",
    "                                           add_prefix_space=True)\n",
    "tokenizer1.special_tokens_map"
   ]
  },
  {
   "cell_type": "code",
   "execution_count": 18,
   "metadata": {},
   "outputs": [
    {
     "name": "stdout",
     "output_type": "stream",
     "text": [
      "[0, 13987, 47, 21656, 2156, 42, 2607, 10, 319, 27785, 3837, 47, 13, 602, 5, 86, 7, 3922, 42, 7, 201, 479, 2]\n",
      "[1, 1, 1, 1, 1, 1, 1, 1, 1, 1, 1, 1, 1, 1, 1, 1, 1, 1, 1, 1, 1, 1, 1]\n",
      "['<s>', 'Thank', 'Ġyou', 'ĠMichele', 'Ġ,', 'Ġthis', 'Ġhelps', 'Ġa', 'Ġlot', 'Ġ!', 'ĠThank', 'Ġyou', 'Ġfor', 'Ġtaking', 'Ġthe', 'Ġtime', 'Ġto', 'Ġexplain', 'Ġthis', 'Ġto', 'Ġus', 'Ġ.', '</s>']\n",
      "\n",
      "[0, 3837, 47, 21656, 2156, 42, 2607, 10, 319, 27785, 3837, 47, 13, 602, 5, 86, 7, 3922, 42, 7, 201, 479, 2]\n",
      "[1, 1, 1, 1, 1, 1, 1, 1, 1, 1, 1, 1, 1, 1, 1, 1, 1, 1, 1, 1, 1, 1, 1]\n",
      "['<s>', 'ĠThank', 'Ġyou', 'ĠMichele', 'Ġ,', 'Ġthis', 'Ġhelps', 'Ġa', 'Ġlot', 'Ġ!', 'ĠThank', 'Ġyou', 'Ġfor', 'Ġtaking', 'Ġthe', 'Ġtime', 'Ġto', 'Ġexplain', 'Ġthis', 'Ġto', 'Ġus', 'Ġ.', '</s>']\n",
      "\n"
     ]
    }
   ],
   "source": [
    "for tokenizer in [tokenizer1, tokenizer2]:\n",
    "    concat_text = \" \".join(tokens)\n",
    "    output = tokenizer(concat_text)\n",
    "    print(output[\"input_ids\"])\n",
    "    print(output[\"attention_mask\"])\n",
    "    print(tokenizer.convert_ids_to_tokens(output[\"input_ids\"]))\n",
    "    print()"
   ]
  },
  {
   "cell_type": "code",
   "execution_count": 20,
   "metadata": {},
   "outputs": [
    {
     "name": "stdout",
     "output_type": "stream",
     "text": [
      "['Thank', 'you', 'M', 'iche', 'le', ',', 'this', 'helps', 'a', 'lot', '!', 'Thank', 'you', 'for', 'taking', 'the', 'time', 'to', 'expl', 'ain', 'this', 'to', 'us', '.']\n",
      "[13987, 6968, 448, 11529, 459, 6, 9226, 44590, 102, 17508, 328, 13987, 6968, 1990, 16883, 627, 958, 560, 23242, 1851, 9226, 560, 687, 4]\n",
      "\n",
      "['ĠThank', 'Ġyou', 'ĠMichele', 'Ġ,', 'Ġthis', 'Ġhelps', 'Ġa', 'Ġlot', 'Ġ!', 'ĠThank', 'Ġyou', 'Ġfor', 'Ġtaking', 'Ġthe', 'Ġtime', 'Ġto', 'Ġexplain', 'Ġthis', 'Ġto', 'Ġus', 'Ġ.']\n",
      "[3837, 47, 21656, 2156, 42, 2607, 10, 319, 27785, 3837, 47, 13, 602, 5, 86, 7, 3922, 42, 7, 201, 479]\n",
      "\n"
     ]
    }
   ],
   "source": [
    "for tokenizer in [tokenizer1, tokenizer2]:\n",
    "    subtokens = []\n",
    "    subtoken_ids = []\n",
    "    for token in tokens:\n",
    "        _subtokens = tokenizer.tokenize(token)\n",
    "        subtokens.extend(_subtokens)\n",
    "        subtoken_ids.extend(tokenizer.convert_tokens_to_ids(_subtokens))\n",
    "    print(subtokens)\n",
    "    print(subtoken_ids)\n",
    "    print()"
   ]
  },
  {
   "cell_type": "code",
   "execution_count": 21,
   "metadata": {},
   "outputs": [
    {
     "data": {
      "text/plain": [
       "510"
      ]
     },
     "execution_count": 21,
     "metadata": {},
     "output_type": "execute_result"
    }
   ],
   "source": [
    "tokenizer2.max_len_single_sentence"
   ]
  },
  {
   "cell_type": "code",
   "execution_count": 22,
   "metadata": {},
   "outputs": [
    {
     "data": {
      "text/plain": [
       "508"
      ]
     },
     "execution_count": 22,
     "metadata": {},
     "output_type": "execute_result"
    }
   ],
   "source": [
    "tokenizer2.max_len_sentences_pair"
   ]
  },
  {
   "cell_type": "code",
   "execution_count": 23,
   "metadata": {},
   "outputs": [
    {
     "data": {
      "text/plain": [
       "{'roberta-base': 512,\n",
       " 'roberta-large': 512,\n",
       " 'roberta-large-mnli': 512,\n",
       " 'distilroberta-base': 512,\n",
       " 'roberta-base-openai-detector': 512,\n",
       " 'roberta-large-openai-detector': 512}"
      ]
     },
     "execution_count": 23,
     "metadata": {},
     "output_type": "execute_result"
    }
   ],
   "source": [
    "tokenizer.max_model_input_sizes"
   ]
  },
  {
   "cell_type": "code",
   "execution_count": null,
   "metadata": {},
   "outputs": [],
   "source": []
  }
 ],
 "metadata": {
  "kernelspec": {
   "display_name": "Python 3.10.4 ('coreference')",
   "language": "python",
   "name": "python3"
  },
  "language_info": {
   "codemirror_mode": {
    "name": "ipython",
    "version": 3
   },
   "file_extension": ".py",
   "mimetype": "text/x-python",
   "name": "python",
   "nbconvert_exporter": "python",
   "pygments_lexer": "ipython3",
   "version": "3.10.4"
  },
  "orig_nbformat": 4,
  "vscode": {
   "interpreter": {
    "hash": "6e9e5767629d26198a734ee01c9558510355f25ffdcffebbd890d86f684e7226"
   }
  }
 },
 "nbformat": 4,
 "nbformat_minor": 2
}
