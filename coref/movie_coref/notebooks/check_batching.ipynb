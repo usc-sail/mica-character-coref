{
 "cells": [
  {
   "cell_type": "code",
   "execution_count": 12,
   "metadata": {},
   "outputs": [],
   "source": [
    "import accelerate\n",
    "from accelerate import logging\n",
    "import logging as _logging\n",
    "import torch\n",
    "from torch import nn\n",
    "from torch.utils.data import Dataset, DataLoader, TensorDataset"
   ]
  },
  {
   "cell_type": "code",
   "execution_count": 15,
   "metadata": {},
   "outputs": [],
   "source": [
    "def test_batching():\n",
    "    accelerator = accelerate.Accelerator()\n",
    "    logger = logging.get_logger(\"\")\n",
    "    if accelerator.is_local_main_process:\n",
    "        log_file = \"/home/sbaruah_usc_edu/mica_text_coref/data/movie_coref/results/coreference/logs/test.log\"\n",
    "        file_handler = _logging.FileHandler(log_file, mode=\"w\")\n",
    "        logger.logger.addHandler(file_handler)\n",
    "    n_processes = accelerator.num_processes\n",
    "    batch_size = 5\n",
    "    n_iters = 3\n",
    "    x = torch.randn(batch_size * n_processes * n_iters, 10)\n",
    "    dataset = TensorDataset(x)\n",
    "    dataloader = DataLoader(dataset, batch_size=batch_size)\n",
    "    model = nn.Linear(10, 1)\n",
    "    dataloader, model = accelerator.prepare(dataloader, model)\n",
    "    for i, batch in enumerate(dataloader):\n",
    "        inp = batch[0]\n",
    "        logger.info(f\"Batch {i + 1}: input (before forward) = {inp.shape} ({inp.device})\", main_process_only=False)\n",
    "        out = model(inp)\n",
    "        logger.info(f\"Batch {i + 1}: output (after forward) = {out.shape} ({out.device})\", main_process_only=False)\n",
    "        out = accelerator.gather_for_metrics(out)\n",
    "        logger.info(f\"Batch {i + 1}: output (after gatherm) = {out.shape} ({out.device})\", main_process_only=False)"
   ]
  },
  {
   "cell_type": "code",
   "execution_count": 16,
   "metadata": {},
   "outputs": [
    {
     "name": "stdout",
     "output_type": "stream",
     "text": [
      "Launching training on 4 GPUs.\n",
      "0000\n",
      "\n",
      "\n",
      "\n"
     ]
    },
    {
     "ename": "",
     "evalue": "",
     "output_type": "error",
     "traceback": [
      "\u001b[1;31mThe Kernel crashed while executing code in the the current cell or a previous cell. Please review the code in the cell(s) to identify a possible cause of the failure. Click <a href='https://aka.ms/vscodeJupyterKernelCrash'>here</a> for more info. View Jupyter <a href='command:jupyter.viewOutput'>log</a> for further details."
     ]
    }
   ],
   "source": [
    "accelerate.notebook_launcher(test_batching, num_processes=4)"
   ]
  },
  {
   "cell_type": "code",
   "execution_count": null,
   "metadata": {},
   "outputs": [],
   "source": []
  }
 ],
 "metadata": {
  "kernelspec": {
   "display_name": "Python 3.10.4 ('coreference')",
   "language": "python",
   "name": "python3"
  },
  "language_info": {
   "codemirror_mode": {
    "name": "ipython",
    "version": 3
   },
   "file_extension": ".py",
   "mimetype": "text/x-python",
   "name": "python",
   "nbconvert_exporter": "python",
   "pygments_lexer": "ipython3",
   "version": "3.10.4"
  },
  "orig_nbformat": 4,
  "vscode": {
   "interpreter": {
    "hash": "6e9e5767629d26198a734ee01c9558510355f25ffdcffebbd890d86f684e7226"
   }
  }
 },
 "nbformat": 4,
 "nbformat_minor": 2
}
