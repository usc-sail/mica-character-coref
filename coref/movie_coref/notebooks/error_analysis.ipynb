{
 "cells": [
  {
   "cell_type": "code",
   "execution_count": 6,
   "metadata": {},
   "outputs": [],
   "source": [
    "from mica_text_coref.coref.movie_coref import rules\n",
    "\n",
    "import jsonlines\n",
    "import numpy as np\n",
    "import os\n",
    "from scorch import scores"
   ]
  },
  {
   "cell_type": "code",
   "execution_count": 2,
   "metadata": {},
   "outputs": [],
   "source": [
    "docs = []\n",
    "with jsonlines.open(os.path.join(os.getenv(\"DATA_DIR\"), \"mica_text_coref/movie_coref/results/coreference/Nov22_08:56:14PM/dev.jsonlines\")) as reader:\n",
    "    for doc in reader:\n",
    "        docs.append(doc)"
   ]
  },
  {
   "cell_type": "code",
   "execution_count": 3,
   "metadata": {},
   "outputs": [
    {
     "data": {
      "text/plain": [
       "3"
      ]
     },
     "execution_count": 3,
     "metadata": {},
     "output_type": "execute_result"
    }
   ],
   "source": [
    "len(docs)"
   ]
  },
  {
   "cell_type": "code",
   "execution_count": 13,
   "metadata": {},
   "outputs": [
    {
     "name": "stdout",
     "output_type": "stream",
     "text": [
      "shawshank\n",
      "44 gold clusters, 27 pred clusters\n",
      "888 gold mentions, 885 pred mentions\n",
      "avg F1 = 65.3\n",
      "Mention Identification: P = 91.9 R = 91.6 F1 = 91.7\n",
      "merge clusters by speakers\n",
      "keep speakers\n",
      "avg new F1 = 59.7\n",
      "\n",
      "bourne\n",
      "39 gold clusters, 22 pred clusters\n",
      "911 gold mentions, 892 pred mentions\n",
      "avg F1 = 72.6\n",
      "Mention Identification: P = 92.5 R = 90.6 F1 = 91.5\n",
      "merge clusters by speakers\n",
      "keep speakers\n",
      "avg new F1 = 67.2\n",
      "\n",
      "basterds\n",
      "23 gold clusters, 34 pred clusters\n",
      "1008 gold mentions, 1055 pred mentions\n",
      "avg F1 = 75.9\n",
      "Mention Identification: P = 90.2 R = 94.4 F1 = 92.3\n",
      "merge clusters by speakers\n",
      "keep speakers\n",
      "avg new F1 = 71.9\n",
      "\n",
      "average F1 = 71.3\n",
      "new average F1 = 66.2\n"
     ]
    }
   ],
   "source": [
    "f1s = []\n",
    "new_f1s = []\n",
    "\n",
    "for doc in docs:\n",
    "    print(doc[\"movie\"])\n",
    "    gold_clusters = [set((span[0], span[1]) for span in cluster) for cluster in doc[\"gold\"]]\n",
    "    pred_clusters = [set(tuple(span) for span in cluster) for cluster in doc[\"pred_span\"]]\n",
    "    gold_mentions = set(word_id for cluster in gold_clusters for word_id in cluster)\n",
    "    pred_mentions = set(word_id for cluster in pred_clusters for word_id in cluster)\n",
    "    print(f\"{len(gold_clusters)} gold clusters, {len(pred_clusters)} pred clusters\")\n",
    "    print(f\"{len(gold_mentions)} gold mentions, {len(pred_mentions)} pred mentions\")\n",
    "    f1 = 100*scores.conll2012(gold_clusters, pred_clusters)\n",
    "    f1s.append(f1)\n",
    "    print(f\"avg F1 = {f1:.1f}\")\n",
    "\n",
    "    precision = 100*len(gold_mentions.intersection(pred_mentions))/len(pred_mentions)\n",
    "    recall = 100*len(gold_mentions.intersection(pred_mentions))/len(gold_mentions)\n",
    "    f1 = 2*precision*recall/(precision + recall)\n",
    "    print(f\"Mention Identification: P = {precision:.1f} R = {recall:.1f} F1 = {f1:.1f}\")\n",
    "    \n",
    "    # Merge speakers\n",
    "    print(\"merge clusters by speakers\")\n",
    "    pred_clusters = rules.merge_speakers(doc[\"token\"], doc[\"parse\"], pred_clusters)\n",
    "\n",
    "    # Keep speakers\n",
    "    print(\"keep speakers\")\n",
    "    pred_clusters = rules.keep_speakers(doc[\"parse\"], pred_clusters)\n",
    "\n",
    "    f1 = 100*scores.conll2012(gold_clusters, pred_clusters)\n",
    "    new_f1s.append(f1)\n",
    "    print(f\"avg new F1 = {f1:.1f}\")\n",
    "    print()\n",
    "\n",
    "print(f\"average F1 = {np.mean(f1s):.1f}\")\n",
    "print(f\"new average F1 = {np.mean(new_f1s):.1f}\")"
   ]
  },
  {
   "cell_type": "code",
   "execution_count": null,
   "metadata": {},
   "outputs": [],
   "source": []
  }
 ],
 "metadata": {
  "kernelspec": {
   "display_name": "Python 3.10.4 ('coreference')",
   "language": "python",
   "name": "python3"
  },
  "language_info": {
   "codemirror_mode": {
    "name": "ipython",
    "version": 3
   },
   "file_extension": ".py",
   "mimetype": "text/x-python",
   "name": "python",
   "nbconvert_exporter": "python",
   "pygments_lexer": "ipython3",
   "version": "3.10.4"
  },
  "orig_nbformat": 4,
  "vscode": {
   "interpreter": {
    "hash": "b6d6049dce941f60bb2eec2e35eb23f5ec878ebd724b7ecb8ba7d6ee7900594f"
   }
  }
 },
 "nbformat": 4,
 "nbformat_minor": 2
}
