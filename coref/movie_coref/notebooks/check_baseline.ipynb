{
 "cells": [
  {
   "cell_type": "code",
   "execution_count": 1,
   "metadata": {},
   "outputs": [],
   "source": [
    "import pandas as pd\n",
    "import numpy as np\n",
    "import os"
   ]
  },
  {
   "cell_type": "code",
   "execution_count": 3,
   "metadata": {},
   "outputs": [],
   "source": [
    "baseline_df = pd.read_csv(\"/home/sbaruah_usc_edu/mica_text_coref/data/movie_coref/results/\"\n",
    "    \"coreference/baselines/baseline.tsv\", index_col=None, sep=\"\\t\")"
   ]
  },
  {
   "cell_type": "code",
   "execution_count": 4,
   "metadata": {},
   "outputs": [
    {
     "data": {
      "text/html": [
       "<div>\n",
       "<style scoped>\n",
       "    .dataframe tbody tr th:only-of-type {\n",
       "        vertical-align: middle;\n",
       "    }\n",
       "\n",
       "    .dataframe tbody tr th {\n",
       "        vertical-align: top;\n",
       "    }\n",
       "\n",
       "    .dataframe thead th {\n",
       "        text-align: right;\n",
       "    }\n",
       "</style>\n",
       "<table border=\"1\" class=\"dataframe\">\n",
       "  <thead>\n",
       "    <tr style=\"text-align: right;\">\n",
       "      <th></th>\n",
       "      <th>preprocess</th>\n",
       "      <th>genre</th>\n",
       "      <th>entity</th>\n",
       "      <th>merge_speakers</th>\n",
       "      <th>provide_gold_mentions</th>\n",
       "      <th>remove_gold_singletons</th>\n",
       "      <th>muc_precision</th>\n",
       "      <th>muc_recall</th>\n",
       "      <th>muc_f1</th>\n",
       "      <th>b_cubed_precision</th>\n",
       "      <th>b_cubed_recall</th>\n",
       "      <th>b_cubed_f1</th>\n",
       "      <th>ceafe_precision</th>\n",
       "      <th>ceafe_recall</th>\n",
       "      <th>ceafe_f1</th>\n",
       "      <th>average_f1</th>\n",
       "    </tr>\n",
       "  </thead>\n",
       "  <tbody>\n",
       "    <tr>\n",
       "      <th>0</th>\n",
       "      <td>none</td>\n",
       "      <td>bc</td>\n",
       "      <td>all</td>\n",
       "      <td>True</td>\n",
       "      <td>True</td>\n",
       "      <td>True</td>\n",
       "      <td>0.9754</td>\n",
       "      <td>0.8670</td>\n",
       "      <td>0.918011</td>\n",
       "      <td>0.7813</td>\n",
       "      <td>0.6552</td>\n",
       "      <td>0.712715</td>\n",
       "      <td>0.5809</td>\n",
       "      <td>0.6500</td>\n",
       "      <td>0.613510</td>\n",
       "      <td>0.748079</td>\n",
       "    </tr>\n",
       "    <tr>\n",
       "      <th>1</th>\n",
       "      <td>none</td>\n",
       "      <td>bc</td>\n",
       "      <td>all</td>\n",
       "      <td>True</td>\n",
       "      <td>True</td>\n",
       "      <td>False</td>\n",
       "      <td>0.9746</td>\n",
       "      <td>0.8670</td>\n",
       "      <td>0.917657</td>\n",
       "      <td>0.7806</td>\n",
       "      <td>0.6508</td>\n",
       "      <td>0.709815</td>\n",
       "      <td>0.5933</td>\n",
       "      <td>0.5261</td>\n",
       "      <td>0.557683</td>\n",
       "      <td>0.728385</td>\n",
       "    </tr>\n",
       "    <tr>\n",
       "      <th>2</th>\n",
       "      <td>none</td>\n",
       "      <td>bc</td>\n",
       "      <td>all</td>\n",
       "      <td>True</td>\n",
       "      <td>False</td>\n",
       "      <td>True</td>\n",
       "      <td>0.6086</td>\n",
       "      <td>0.8670</td>\n",
       "      <td>0.715175</td>\n",
       "      <td>0.4099</td>\n",
       "      <td>0.6552</td>\n",
       "      <td>0.504303</td>\n",
       "      <td>0.1119</td>\n",
       "      <td>0.6225</td>\n",
       "      <td>0.189700</td>\n",
       "      <td>0.469726</td>\n",
       "    </tr>\n",
       "    <tr>\n",
       "      <th>3</th>\n",
       "      <td>none</td>\n",
       "      <td>bc</td>\n",
       "      <td>all</td>\n",
       "      <td>True</td>\n",
       "      <td>False</td>\n",
       "      <td>False</td>\n",
       "      <td>0.6086</td>\n",
       "      <td>0.8670</td>\n",
       "      <td>0.715175</td>\n",
       "      <td>0.4101</td>\n",
       "      <td>0.6508</td>\n",
       "      <td>0.503145</td>\n",
       "      <td>0.1144</td>\n",
       "      <td>0.5043</td>\n",
       "      <td>0.186494</td>\n",
       "      <td>0.468271</td>\n",
       "    </tr>\n",
       "    <tr>\n",
       "      <th>4</th>\n",
       "      <td>none</td>\n",
       "      <td>bc</td>\n",
       "      <td>all</td>\n",
       "      <td>False</td>\n",
       "      <td>True</td>\n",
       "      <td>True</td>\n",
       "      <td>0.9757</td>\n",
       "      <td>0.8648</td>\n",
       "      <td>0.916909</td>\n",
       "      <td>0.8155</td>\n",
       "      <td>0.6496</td>\n",
       "      <td>0.723157</td>\n",
       "      <td>0.5595</td>\n",
       "      <td>0.6728</td>\n",
       "      <td>0.610941</td>\n",
       "      <td>0.750336</td>\n",
       "    </tr>\n",
       "  </tbody>\n",
       "</table>\n",
       "</div>"
      ],
      "text/plain": [
       "  preprocess genre entity  merge_speakers  provide_gold_mentions  \\\n",
       "0       none    bc    all            True                   True   \n",
       "1       none    bc    all            True                   True   \n",
       "2       none    bc    all            True                  False   \n",
       "3       none    bc    all            True                  False   \n",
       "4       none    bc    all           False                   True   \n",
       "\n",
       "   remove_gold_singletons  muc_precision  muc_recall    muc_f1  \\\n",
       "0                    True         0.9754      0.8670  0.918011   \n",
       "1                   False         0.9746      0.8670  0.917657   \n",
       "2                    True         0.6086      0.8670  0.715175   \n",
       "3                   False         0.6086      0.8670  0.715175   \n",
       "4                    True         0.9757      0.8648  0.916909   \n",
       "\n",
       "   b_cubed_precision  b_cubed_recall  b_cubed_f1  ceafe_precision  \\\n",
       "0             0.7813          0.6552    0.712715           0.5809   \n",
       "1             0.7806          0.6508    0.709815           0.5933   \n",
       "2             0.4099          0.6552    0.504303           0.1119   \n",
       "3             0.4101          0.6508    0.503145           0.1144   \n",
       "4             0.8155          0.6496    0.723157           0.5595   \n",
       "\n",
       "   ceafe_recall  ceafe_f1  average_f1  \n",
       "0        0.6500  0.613510    0.748079  \n",
       "1        0.5261  0.557683    0.728385  \n",
       "2        0.6225  0.189700    0.469726  \n",
       "3        0.5043  0.186494    0.468271  \n",
       "4        0.6728  0.610941    0.750336  "
      ]
     },
     "execution_count": 4,
     "metadata": {},
     "output_type": "execute_result"
    }
   ],
   "source": [
    "baseline_df.head()"
   ]
  },
  {
   "cell_type": "code",
   "execution_count": 17,
   "metadata": {},
   "outputs": [
    {
     "data": {
      "text/plain": [
       "preprocess         addsays\n",
       "genre                   wb\n",
       "entity             speaker\n",
       "merge_speakers        True\n",
       "average_f1        0.626749\n",
       "Name: 331, dtype: object"
      ]
     },
     "execution_count": 17,
     "metadata": {},
     "output_type": "execute_result"
    }
   ],
   "source": [
    "baseline_without_gold_df = baseline_df[~baseline_df.provide_gold_mentions & \n",
    "    ~baseline_df.remove_gold_singletons]\n",
    "i = baseline_without_gold_df.average_f1.argmax()\n",
    "baseline_without_gold_df.iloc[i][[\"preprocess\", \"genre\", \"entity\", \"merge_speakers\", \"average_f1\"]]"
   ]
  },
  {
   "cell_type": "code",
   "execution_count": 19,
   "metadata": {},
   "outputs": [
    {
     "name": "stdout",
     "output_type": "stream",
     "text": [
      "{'preprocess': 'addsays', 'genre': 'wb', 'entity': 'speaker', 'merge_speakers': True, 'average_f1': 0.6267494436377649}\n"
     ]
    }
   ],
   "source": [
    "best_rules = baseline_without_gold_df.iloc[i][[\"preprocess\", \"genre\", \"entity\", \"merge_speakers\",\n",
    "    \"average_f1\"]].to_dict()\n",
    "best_preprocess = best_rules[\"preprocess\"]\n",
    "best_genre = best_rules[\"genre\"]\n",
    "best_entity = best_rules[\"entity\"]\n",
    "best_merge_speakers = best_rules[\"merge_speakers\"]\n",
    "print(best_rules)"
   ]
  },
  {
   "cell_type": "code",
   "execution_count": 20,
   "metadata": {},
   "outputs": [
    {
     "data": {
      "text/html": [
       "<div>\n",
       "<style scoped>\n",
       "    .dataframe tbody tr th:only-of-type {\n",
       "        vertical-align: middle;\n",
       "    }\n",
       "\n",
       "    .dataframe tbody tr th {\n",
       "        vertical-align: top;\n",
       "    }\n",
       "\n",
       "    .dataframe thead th {\n",
       "        text-align: right;\n",
       "    }\n",
       "</style>\n",
       "<table border=\"1\" class=\"dataframe\">\n",
       "  <thead>\n",
       "    <tr style=\"text-align: right;\">\n",
       "      <th></th>\n",
       "      <th>provide_gold_mentions</th>\n",
       "      <th>remove_gold_singletons</th>\n",
       "      <th>average_f1</th>\n",
       "    </tr>\n",
       "  </thead>\n",
       "  <tbody>\n",
       "    <tr>\n",
       "      <th>328</th>\n",
       "      <td>True</td>\n",
       "      <td>True</td>\n",
       "      <td>0.708280</td>\n",
       "    </tr>\n",
       "    <tr>\n",
       "      <th>329</th>\n",
       "      <td>True</td>\n",
       "      <td>False</td>\n",
       "      <td>0.682628</td>\n",
       "    </tr>\n",
       "    <tr>\n",
       "      <th>330</th>\n",
       "      <td>False</td>\n",
       "      <td>True</td>\n",
       "      <td>0.649180</td>\n",
       "    </tr>\n",
       "    <tr>\n",
       "      <th>331</th>\n",
       "      <td>False</td>\n",
       "      <td>False</td>\n",
       "      <td>0.626749</td>\n",
       "    </tr>\n",
       "  </tbody>\n",
       "</table>\n",
       "</div>"
      ],
      "text/plain": [
       "     provide_gold_mentions  remove_gold_singletons  average_f1\n",
       "328                   True                    True    0.708280\n",
       "329                   True                   False    0.682628\n",
       "330                  False                    True    0.649180\n",
       "331                  False                   False    0.626749"
      ]
     },
     "execution_count": 20,
     "metadata": {},
     "output_type": "execute_result"
    }
   ],
   "source": [
    "baseline_df.loc[(baseline_df.preprocess == best_preprocess) & (baseline_df.genre == best_genre) & \n",
    "    (baseline_df.entity == best_entity) & (baseline_df.merge_speakers == best_merge_speakers), \n",
    "    [\"provide_gold_mentions\", \"remove_gold_singletons\", \"average_f1\"]]"
   ]
  },
  {
   "cell_type": "code",
   "execution_count": null,
   "metadata": {},
   "outputs": [],
   "source": []
  }
 ],
 "metadata": {
  "kernelspec": {
   "display_name": "Python 3.10.4 ('coreference')",
   "language": "python",
   "name": "python3"
  },
  "language_info": {
   "codemirror_mode": {
    "name": "ipython",
    "version": 3
   },
   "file_extension": ".py",
   "mimetype": "text/x-python",
   "name": "python",
   "nbconvert_exporter": "python",
   "pygments_lexer": "ipython3",
   "version": "3.10.4"
  },
  "orig_nbformat": 4,
  "vscode": {
   "interpreter": {
    "hash": "6e9e5767629d26198a734ee01c9558510355f25ffdcffebbd890d86f684e7226"
   }
  }
 },
 "nbformat": 4,
 "nbformat_minor": 2
}
