{
 "cells": [
  {
   "cell_type": "code",
   "execution_count": 38,
   "metadata": {},
   "outputs": [],
   "source": [
    "import collections\n",
    "import numpy as np\n",
    "import os\n",
    "import pandas as pd\n",
    "import re\n",
    "import tqdm"
   ]
  },
  {
   "cell_type": "code",
   "execution_count": 3,
   "metadata": {},
   "outputs": [],
   "source": [
    "genre = \"wb\""
   ]
  },
  {
   "cell_type": "code",
   "execution_count": 21,
   "metadata": {},
   "outputs": [
    {
     "name": "stdout",
     "output_type": "stream",
     "text": [
      "5184\n"
     ]
    }
   ],
   "source": [
    "files = sorted(filter(lambda x: re.match(f\"^train\\\\.preprocess_.*genre_{genre}.*baseline\\\\.tsv\", x) is not None, os.listdir(os.path.join(os.getenv(\"DATA_DIR\"), \n",
    "    \"mica_text_coref/movie_coref/results/coreference/baselines/\"))))\n",
    "print(len(files))"
   ]
  },
  {
   "cell_type": "code",
   "execution_count": 26,
   "metadata": {},
   "outputs": [
    {
     "name": "stderr",
     "output_type": "stream",
     "text": [
      "100%|██████████| 5184/5184 [00:10<00:00, 507.20it/s]\n"
     ]
    }
   ],
   "source": [
    "dfs = []\n",
    "for file in tqdm.tqdm(files):\n",
    "    df = pd.read_csv(os.path.join(os.getenv(\"DATA_DIR\"), \"mica_text_coref/movie_coref/results/coreference/baselines\", file), sep=\"\\t\")\n",
    "    dfs.append(df)"
   ]
  },
  {
   "cell_type": "code",
   "execution_count": 27,
   "metadata": {},
   "outputs": [],
   "source": [
    "df = pd.concat(dfs)"
   ]
  },
  {
   "cell_type": "code",
   "execution_count": 28,
   "metadata": {},
   "outputs": [
    {
     "data": {
      "text/plain": [
       "(108864, 14)"
      ]
     },
     "execution_count": 28,
     "metadata": {},
     "output_type": "execute_result"
    }
   ],
   "source": [
    "df.shape"
   ]
  },
  {
   "cell_type": "code",
   "execution_count": 29,
   "metadata": {},
   "outputs": [
    {
     "data": {
      "text/plain": [
       "Index(['preprocess', 'genre', 'entity', 'merge_speakers',\n",
       "       'provide_gold_mentions', 'remove_gold_singletons', 'split_len',\n",
       "       'overlap_len', 'merge_strategy', 'metric', 'movie', 'P', 'R', 'F'],\n",
       "      dtype='object')"
      ]
     },
     "execution_count": 29,
     "metadata": {},
     "output_type": "execute_result"
    }
   ],
   "source": [
    "df.columns"
   ]
  },
  {
   "cell_type": "code",
   "execution_count": 45,
   "metadata": {},
   "outputs": [],
   "source": [
    "df = df.rename(columns={\"movie\": \"metric\", \"metric\": \"movie\"})"
   ]
  },
  {
   "cell_type": "code",
   "execution_count": 46,
   "metadata": {},
   "outputs": [
    {
     "data": {
      "text/html": [
       "<div>\n",
       "<style scoped>\n",
       "    .dataframe tbody tr th:only-of-type {\n",
       "        vertical-align: middle;\n",
       "    }\n",
       "\n",
       "    .dataframe tbody tr th {\n",
       "        vertical-align: top;\n",
       "    }\n",
       "\n",
       "    .dataframe thead th {\n",
       "        text-align: right;\n",
       "    }\n",
       "</style>\n",
       "<table border=\"1\" class=\"dataframe\">\n",
       "  <thead>\n",
       "    <tr style=\"text-align: right;\">\n",
       "      <th></th>\n",
       "      <th>preprocess</th>\n",
       "      <th>genre</th>\n",
       "      <th>entity</th>\n",
       "      <th>merge_speakers</th>\n",
       "      <th>provide_gold_mentions</th>\n",
       "      <th>remove_gold_singletons</th>\n",
       "      <th>split_len</th>\n",
       "      <th>overlap_len</th>\n",
       "      <th>merge_strategy</th>\n",
       "      <th>movie</th>\n",
       "      <th>metric</th>\n",
       "      <th>P</th>\n",
       "      <th>R</th>\n",
       "      <th>F</th>\n",
       "    </tr>\n",
       "  </thead>\n",
       "  <tbody>\n",
       "    <tr>\n",
       "      <th>19</th>\n",
       "      <td>nocharacters</td>\n",
       "      <td>wb</td>\n",
       "      <td>speaker</td>\n",
       "      <td>False</td>\n",
       "      <td>False</td>\n",
       "      <td>False</td>\n",
       "      <td>2048</td>\n",
       "      <td>256</td>\n",
       "      <td>none</td>\n",
       "      <td>all</td>\n",
       "      <td>bcub</td>\n",
       "      <td>1.188510</td>\n",
       "      <td>54.874233</td>\n",
       "      <td>2.326628</td>\n",
       "    </tr>\n",
       "    <tr>\n",
       "      <th>20</th>\n",
       "      <td>nocharacters</td>\n",
       "      <td>wb</td>\n",
       "      <td>speaker</td>\n",
       "      <td>True</td>\n",
       "      <td>False</td>\n",
       "      <td>False</td>\n",
       "      <td>2048</td>\n",
       "      <td>512</td>\n",
       "      <td>max</td>\n",
       "      <td>all</td>\n",
       "      <td>ceafe</td>\n",
       "      <td>1.537168</td>\n",
       "      <td>36.038041</td>\n",
       "      <td>2.948567</td>\n",
       "    </tr>\n",
       "    <tr>\n",
       "      <th>20</th>\n",
       "      <td>nocharacters</td>\n",
       "      <td>wb</td>\n",
       "      <td>speaker</td>\n",
       "      <td>True</td>\n",
       "      <td>False</td>\n",
       "      <td>False</td>\n",
       "      <td>2048</td>\n",
       "      <td>512</td>\n",
       "      <td>average</td>\n",
       "      <td>all</td>\n",
       "      <td>ceafe</td>\n",
       "      <td>1.564838</td>\n",
       "      <td>36.686752</td>\n",
       "      <td>3.001643</td>\n",
       "    </tr>\n",
       "    <tr>\n",
       "      <th>20</th>\n",
       "      <td>nocharacters</td>\n",
       "      <td>wb</td>\n",
       "      <td>speaker</td>\n",
       "      <td>True</td>\n",
       "      <td>False</td>\n",
       "      <td>False</td>\n",
       "      <td>2048</td>\n",
       "      <td>512</td>\n",
       "      <td>before</td>\n",
       "      <td>all</td>\n",
       "      <td>ceafe</td>\n",
       "      <td>1.564838</td>\n",
       "      <td>36.686752</td>\n",
       "      <td>3.001643</td>\n",
       "    </tr>\n",
       "    <tr>\n",
       "      <th>19</th>\n",
       "      <td>nocharacters</td>\n",
       "      <td>wb</td>\n",
       "      <td>speaker</td>\n",
       "      <td>True</td>\n",
       "      <td>False</td>\n",
       "      <td>False</td>\n",
       "      <td>2048</td>\n",
       "      <td>256</td>\n",
       "      <td>none</td>\n",
       "      <td>all</td>\n",
       "      <td>bcub</td>\n",
       "      <td>1.580767</td>\n",
       "      <td>54.199134</td>\n",
       "      <td>3.071939</td>\n",
       "    </tr>\n",
       "    <tr>\n",
       "      <th>...</th>\n",
       "      <td>...</td>\n",
       "      <td>...</td>\n",
       "      <td>...</td>\n",
       "      <td>...</td>\n",
       "      <td>...</td>\n",
       "      <td>...</td>\n",
       "      <td>...</td>\n",
       "      <td>...</td>\n",
       "      <td>...</td>\n",
       "      <td>...</td>\n",
       "      <td>...</td>\n",
       "      <td>...</td>\n",
       "      <td>...</td>\n",
       "      <td>...</td>\n",
       "    </tr>\n",
       "    <tr>\n",
       "      <th>18</th>\n",
       "      <td>addsays</td>\n",
       "      <td>wb</td>\n",
       "      <td>speaker</td>\n",
       "      <td>True</td>\n",
       "      <td>False</td>\n",
       "      <td>False</td>\n",
       "      <td>5120</td>\n",
       "      <td>128</td>\n",
       "      <td>before</td>\n",
       "      <td>all</td>\n",
       "      <td>muc</td>\n",
       "      <td>80.625386</td>\n",
       "      <td>88.885107</td>\n",
       "      <td>84.554011</td>\n",
       "    </tr>\n",
       "    <tr>\n",
       "      <th>18</th>\n",
       "      <td>addsays</td>\n",
       "      <td>wb</td>\n",
       "      <td>speaker</td>\n",
       "      <td>True</td>\n",
       "      <td>False</td>\n",
       "      <td>False</td>\n",
       "      <td>5120</td>\n",
       "      <td>128</td>\n",
       "      <td>average</td>\n",
       "      <td>all</td>\n",
       "      <td>muc</td>\n",
       "      <td>80.625386</td>\n",
       "      <td>88.885107</td>\n",
       "      <td>84.554011</td>\n",
       "    </tr>\n",
       "    <tr>\n",
       "      <th>18</th>\n",
       "      <td>addsays</td>\n",
       "      <td>wb</td>\n",
       "      <td>speaker</td>\n",
       "      <td>True</td>\n",
       "      <td>False</td>\n",
       "      <td>False</td>\n",
       "      <td>5120</td>\n",
       "      <td>256</td>\n",
       "      <td>average</td>\n",
       "      <td>all</td>\n",
       "      <td>muc</td>\n",
       "      <td>80.762106</td>\n",
       "      <td>88.751030</td>\n",
       "      <td>84.568315</td>\n",
       "    </tr>\n",
       "    <tr>\n",
       "      <th>18</th>\n",
       "      <td>addsays</td>\n",
       "      <td>wb</td>\n",
       "      <td>speaker</td>\n",
       "      <td>True</td>\n",
       "      <td>False</td>\n",
       "      <td>False</td>\n",
       "      <td>5120</td>\n",
       "      <td>256</td>\n",
       "      <td>before</td>\n",
       "      <td>all</td>\n",
       "      <td>muc</td>\n",
       "      <td>80.762106</td>\n",
       "      <td>88.751030</td>\n",
       "      <td>84.568315</td>\n",
       "    </tr>\n",
       "    <tr>\n",
       "      <th>18</th>\n",
       "      <td>addsays</td>\n",
       "      <td>wb</td>\n",
       "      <td>speaker</td>\n",
       "      <td>True</td>\n",
       "      <td>False</td>\n",
       "      <td>False</td>\n",
       "      <td>5120</td>\n",
       "      <td>256</td>\n",
       "      <td>max</td>\n",
       "      <td>all</td>\n",
       "      <td>muc</td>\n",
       "      <td>80.766517</td>\n",
       "      <td>88.777390</td>\n",
       "      <td>84.582698</td>\n",
       "    </tr>\n",
       "  </tbody>\n",
       "</table>\n",
       "<p>3888 rows × 14 columns</p>\n",
       "</div>"
      ],
      "text/plain": [
       "      preprocess genre   entity  merge_speakers  provide_gold_mentions  \\\n",
       "19  nocharacters    wb  speaker           False                  False   \n",
       "20  nocharacters    wb  speaker            True                  False   \n",
       "20  nocharacters    wb  speaker            True                  False   \n",
       "20  nocharacters    wb  speaker            True                  False   \n",
       "19  nocharacters    wb  speaker            True                  False   \n",
       "..           ...   ...      ...             ...                    ...   \n",
       "18       addsays    wb  speaker            True                  False   \n",
       "18       addsays    wb  speaker            True                  False   \n",
       "18       addsays    wb  speaker            True                  False   \n",
       "18       addsays    wb  speaker            True                  False   \n",
       "18       addsays    wb  speaker            True                  False   \n",
       "\n",
       "    remove_gold_singletons  split_len  overlap_len merge_strategy movie  \\\n",
       "19                   False       2048          256           none   all   \n",
       "20                   False       2048          512            max   all   \n",
       "20                   False       2048          512        average   all   \n",
       "20                   False       2048          512         before   all   \n",
       "19                   False       2048          256           none   all   \n",
       "..                     ...        ...          ...            ...   ...   \n",
       "18                   False       5120          128         before   all   \n",
       "18                   False       5120          128        average   all   \n",
       "18                   False       5120          256        average   all   \n",
       "18                   False       5120          256         before   all   \n",
       "18                   False       5120          256            max   all   \n",
       "\n",
       "   metric          P          R          F  \n",
       "19   bcub   1.188510  54.874233   2.326628  \n",
       "20  ceafe   1.537168  36.038041   2.948567  \n",
       "20  ceafe   1.564838  36.686752   3.001643  \n",
       "20  ceafe   1.564838  36.686752   3.001643  \n",
       "19   bcub   1.580767  54.199134   3.071939  \n",
       "..    ...        ...        ...        ...  \n",
       "18    muc  80.625386  88.885107  84.554011  \n",
       "18    muc  80.625386  88.885107  84.554011  \n",
       "18    muc  80.762106  88.751030  84.568315  \n",
       "18    muc  80.762106  88.751030  84.568315  \n",
       "18    muc  80.766517  88.777390  84.582698  \n",
       "\n",
       "[3888 rows x 14 columns]"
      ]
     },
     "execution_count": 46,
     "metadata": {},
     "output_type": "execute_result"
    }
   ],
   "source": [
    "df[~df.provide_gold_mentions & ~df.remove_gold_singletons & (df.movie == \"all\")].sort_values(by=\"F\")"
   ]
  },
  {
   "cell_type": "code",
   "execution_count": 47,
   "metadata": {},
   "outputs": [
    {
     "name": "stdout",
     "output_type": "stream",
     "text": [
      "preprocess Counter({'addsays': 36288, 'nocharacters': 36288, 'none': 36288})\n",
      "entity Counter({'all': 36288, 'person': 36288, 'speaker': 36288})\n",
      "merge_speakers Counter({False: 54432, True: 54432})\n",
      "provide_gold_mentions Counter({False: 54432, True: 54432})\n",
      "remove_gold_singletons Counter({False: 54432, True: 54432})\n",
      "split_len Counter({2048: 27216, 3072: 27216, 4096: 27216, 5120: 27216})\n",
      "overlap_len Counter({128: 36288, 256: 36288, 512: 36288})\n",
      "merge_strategy Counter({'after': 18144, 'average': 18144, 'before': 18144, 'max': 18144, 'min': 18144, 'none': 18144})\n",
      "metric Counter({'muc': 36288, 'bcub': 36288, 'ceafe': 36288})\n",
      "movie Counter({'avengers_endgame': 15552, 'dead_poets_society': 15552, 'john_wick': 15552, 'prestige': 15552, 'quiet_place': 15552, 'zootopia': 15552, 'all': 15552})\n"
     ]
    }
   ],
   "source": [
    "print(\"preprocess\", collections.Counter(df.preprocess))\n",
    "print(\"entity\", collections.Counter(df.entity))\n",
    "print(\"merge_speakers\", collections.Counter(df.merge_speakers))\n",
    "print(\"provide_gold_mentions\", collections.Counter(df.provide_gold_mentions))\n",
    "print(\"remove_gold_singletons\", collections.Counter(df.remove_gold_singletons))\n",
    "print(\"split_len\", collections.Counter(df.split_len))\n",
    "print(\"overlap_len\", collections.Counter(df.overlap_len))\n",
    "print(\"merge_strategy\", collections.Counter(df.merge_strategy))\n",
    "print(\"metric\", collections.Counter(df.metric))\n",
    "print(\"movie\", collections.Counter(df.movie))"
   ]
  },
  {
   "cell_type": "code",
   "execution_count": 48,
   "metadata": {},
   "outputs": [],
   "source": [
    "df.to_csv(\"/proj/sbaruah/data/mica_text_coref/movie_coref/results/coreference/baselines/train.genre_wb.baseline.tsv\", sep=\"\\t\", index=False)"
   ]
  },
  {
   "cell_type": "code",
   "execution_count": null,
   "metadata": {},
   "outputs": [],
   "source": []
  }
 ],
 "metadata": {
  "kernelspec": {
   "display_name": "coreference",
   "language": "python",
   "name": "python3"
  },
  "language_info": {
   "codemirror_mode": {
    "name": "ipython",
    "version": 3
   },
   "file_extension": ".py",
   "mimetype": "text/x-python",
   "name": "python",
   "nbconvert_exporter": "python",
   "pygments_lexer": "ipython3",
   "version": "3.10.4"
  },
  "orig_nbformat": 4,
  "vscode": {
   "interpreter": {
    "hash": "b6d6049dce941f60bb2eec2e35eb23f5ec878ebd724b7ecb8ba7d6ee7900594f"
   }
  }
 },
 "nbformat": 4,
 "nbformat_minor": 2
}
