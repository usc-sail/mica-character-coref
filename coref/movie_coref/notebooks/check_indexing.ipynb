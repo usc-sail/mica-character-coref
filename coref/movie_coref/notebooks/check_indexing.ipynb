{
 "cells": [
  {
   "cell_type": "code",
   "execution_count": 1,
   "metadata": {},
   "outputs": [],
   "source": [
    "import torch\n",
    "from torch import nn\n",
    "from torch.utils.data import DataLoader, TensorDataset"
   ]
  },
  {
   "cell_type": "code",
   "execution_count": 2,
   "metadata": {},
   "outputs": [
    {
     "name": "stdout",
     "output_type": "stream",
     "text": [
      "tensor([[[-1.0752, -0.3575,  0.7541],\n",
      "         [ 1.0310,  0.0269,  0.3751],\n",
      "         [ 0.6719,  0.2817, -0.1625],\n",
      "         [ 0.2165,  0.6278, -0.3881],\n",
      "         [-1.0943, -0.6758,  0.6926]],\n",
      "\n",
      "        [[-0.5461,  0.6498, -1.9800],\n",
      "         [-2.6015,  0.3352,  0.2845],\n",
      "         [-1.8133,  0.0763,  1.5321],\n",
      "         [ 0.4707, -0.1743,  0.0800],\n",
      "         [ 0.9736,  1.9798,  0.3037]]])\n",
      "tensor([[0., 1., 0., 1., 1.],\n",
      "        [1., 0., 0., 1., 0.]])\n"
     ]
    }
   ],
   "source": [
    "X = torch.randn(2, 5, 3)\n",
    "m = (torch.randn(2, 5) > 0).float()\n",
    "print(X)\n",
    "print(m)"
   ]
  },
  {
   "cell_type": "code",
   "execution_count": 3,
   "metadata": {},
   "outputs": [
    {
     "data": {
      "text/plain": [
       "tensor([[ 1.0310,  0.0269,  0.3751],\n",
       "        [ 0.2165,  0.6278, -0.3881],\n",
       "        [-1.0943, -0.6758,  0.6926],\n",
       "        [-0.5461,  0.6498, -1.9800],\n",
       "        [ 0.4707, -0.1743,  0.0800]])"
      ]
     },
     "execution_count": 3,
     "metadata": {},
     "output_type": "execute_result"
    }
   ],
   "source": [
    "X[m == 1]"
   ]
  },
  {
   "cell_type": "code",
   "execution_count": 4,
   "metadata": {},
   "outputs": [
    {
     "data": {
      "text/plain": [
       "tensor([[[0, 4],\n",
       "         [0, 1],\n",
       "         [1, 1],\n",
       "         [3, 2]],\n",
       "\n",
       "        [[0, 2],\n",
       "         [3, 0],\n",
       "         [0, 4],\n",
       "         [4, 3]]])"
      ]
     },
     "execution_count": 4,
     "metadata": {},
     "output_type": "execute_result"
    }
   ],
   "source": [
    "y = torch.randint(0, 5, (2, 4, 2))\n",
    "y"
   ]
  },
  {
   "cell_type": "code",
   "execution_count": 5,
   "metadata": {},
   "outputs": [
    {
     "data": {
      "text/plain": [
       "tensor([[0, 4],\n",
       "        [0, 1],\n",
       "        [1, 1],\n",
       "        [3, 2],\n",
       "        [0, 2],\n",
       "        [3, 0],\n",
       "        [0, 4],\n",
       "        [4, 3]])"
      ]
     },
     "execution_count": 5,
     "metadata": {},
     "output_type": "execute_result"
    }
   ],
   "source": [
    "z = y[~((y[:,:,0] == 0) & (y[:,:,1] == 0))]\n",
    "z"
   ]
  },
  {
   "cell_type": "code",
   "execution_count": 6,
   "metadata": {},
   "outputs": [
    {
     "data": {
      "text/plain": [
       "tensor([[0, 4],\n",
       "        [0, 1],\n",
       "        [1, 1],\n",
       "        [3, 2],\n",
       "        [0, 2],\n",
       "        [3, 0],\n",
       "        [0, 4],\n",
       "        [4, 3]])"
      ]
     },
     "execution_count": 6,
     "metadata": {},
     "output_type": "execute_result"
    }
   ],
   "source": [
    "z - z[0, 0]"
   ]
  },
  {
   "cell_type": "code",
   "execution_count": 7,
   "metadata": {},
   "outputs": [],
   "source": [
    "class B(nn.Module):\n",
    "\n",
    "    def __init__(self) -> None:\n",
    "        super().__init__()\n",
    "        self.scorer = nn.Linear(5, 5)\n",
    "\n",
    "class A(nn.Module):\n",
    "\n",
    "    def __init__(self) -> None:\n",
    "        super().__init__()\n",
    "        self.embedding = nn.Embedding(100, 5)\n",
    "        self.b = B()"
   ]
  },
  {
   "cell_type": "code",
   "execution_count": 8,
   "metadata": {},
   "outputs": [],
   "source": [
    "a = A()"
   ]
  },
  {
   "cell_type": "code",
   "execution_count": 9,
   "metadata": {},
   "outputs": [
    {
     "name": "stdout",
     "output_type": "stream",
     "text": [
      "embedding.weight torch.Size([100, 5])\n",
      "b.scorer.weight torch.Size([5, 5])\n",
      "b.scorer.bias torch.Size([5])\n",
      "\n",
      "scorer.weight torch.Size([5, 5])\n",
      "scorer.bias torch.Size([5])\n",
      "\n",
      "weight torch.Size([5, 5])\n",
      "bias torch.Size([5])\n"
     ]
    }
   ],
   "source": [
    "for name, param in a.state_dict().items():\n",
    "    print(name, param.shape)\n",
    "print()\n",
    "for name, param in a.b.state_dict().items():\n",
    "    print(name, param.shape)\n",
    "print()\n",
    "for name, param in a.b.scorer.state_dict().items():\n",
    "    print(name, param.shape)"
   ]
  },
  {
   "cell_type": "code",
   "execution_count": 10,
   "metadata": {},
   "outputs": [],
   "source": [
    "weights = torch.load(\n",
    "    \"/home/sbaruah_usc_edu/mica_text_coref/data/word_level_coref/\"\n",
    "    \"roberta_(e20_2021.05.02_01.16)_release.pt\")"
   ]
  },
  {
   "cell_type": "code",
   "execution_count": 11,
   "metadata": {},
   "outputs": [
    {
     "data": {
      "text/plain": [
       "dict_keys(['bert', 'we', 'rough_scorer', 'pw', 'a_scorer', 'sp', 'epochs_trained'])"
      ]
     },
     "execution_count": 11,
     "metadata": {},
     "output_type": "execute_result"
    }
   ],
   "source": [
    "weights.keys()"
   ]
  },
  {
   "cell_type": "code",
   "execution_count": 12,
   "metadata": {},
   "outputs": [
    {
     "data": {
      "text/plain": [
       "{'bilinear.weight': tensor([[ 1.7543e-01, -2.7519e-02,  1.4653e-02,  ..., -1.0604e-02,\n",
       "           2.5374e-02, -1.7066e-03],\n",
       "         [ 4.9204e-02,  1.3426e-01, -9.1869e-03,  ..., -4.4060e-03,\n",
       "           8.7263e-03, -9.5577e-03],\n",
       "         [-1.7296e-02, -1.0086e-02,  5.9279e-02,  ...,  1.6338e-05,\n",
       "          -3.0986e-02, -2.6442e-02],\n",
       "         ...,\n",
       "         [-8.4727e-04, -7.4070e-02, -3.5817e-02,  ...,  1.2996e-01,\n",
       "          -6.5809e-02, -1.6725e-02],\n",
       "         [-2.8037e-02,  2.8999e-03,  3.8483e-02,  ..., -9.9639e-03,\n",
       "           1.5081e-01, -3.2012e-02],\n",
       "         [ 7.8245e-03,  2.4031e-02, -1.3260e-03,  ...,  1.7210e-02,\n",
       "           2.2953e-02,  7.6747e-02]], device='cuda:0'),\n",
       " 'bilinear.bias': tensor([ 0.0298, -0.0126, -0.0024,  ..., -0.0076, -0.0152, -0.0162],\n",
       "        device='cuda:0'),\n",
       " 'attn.weight': tensor([[-0.0294,  0.0403, -0.0034,  ..., -0.0082, -0.0159, -0.0712]],\n",
       "        device='cuda:0'),\n",
       " 'attn.bias': tensor([-0.0024], device='cuda:0')}"
      ]
     },
     "execution_count": 12,
     "metadata": {},
     "output_type": "execute_result"
    }
   ],
   "source": [
    "{**weights[\"rough_scorer\"], **weights[\"we\"]}"
   ]
  },
  {
   "cell_type": "code",
   "execution_count": 13,
   "metadata": {},
   "outputs": [],
   "source": [
    "a = torch.randn(16, 5, 2)\n",
    "b = torch.randn(16, 10, 3)\n",
    "dataset = TensorDataset(a, b)\n",
    "dataloader = DataLoader(dataset, batch_size=4)"
   ]
  },
  {
   "cell_type": "code",
   "execution_count": 4,
   "metadata": {},
   "outputs": [],
   "source": [
    "w = torch.randn(8, 10)\n",
    "z = torch.zeros(2, 10)\n",
    "x = torch.cat([w, z], dim=0)"
   ]
  },
  {
   "cell_type": "code",
   "execution_count": 18,
   "metadata": {},
   "outputs": [],
   "source": [
    "m = torch.all(x == 0, dim=2)"
   ]
  },
  {
   "cell_type": "code",
   "execution_count": 19,
   "metadata": {},
   "outputs": [
    {
     "data": {
      "text/plain": [
       "tensor([-1.7250, -0.0444, -0.5992,  0.2924,  0.3578,  0.3092, -1.1077,  1.5696,\n",
       "        -0.7574,  0.5782,  0.4106,  0.7527, -1.3133,  0.7745, -0.1598,  1.0465,\n",
       "        -1.4606, -3.2379, -0.8222, -0.6616])"
      ]
     },
     "execution_count": 19,
     "metadata": {},
     "output_type": "execute_result"
    }
   ],
   "source": [
    "y = torch.randn(10, 10)\n",
    "y[m]"
   ]
  },
  {
   "cell_type": "code",
   "execution_count": 20,
   "metadata": {},
   "outputs": [
    {
     "name": "stdout",
     "output_type": "stream",
     "text": [
      "{'a': 2, 'b': 3, 'c': 4}\n"
     ]
    },
    {
     "ename": "",
     "evalue": "",
     "output_type": "error",
     "traceback": [
      "\u001b[1;31mThe Kernel crashed while executing code in the the current cell or a previous cell. Please review the code in the cell(s) to identify a possible cause of the failure. Click <a href='https://aka.ms/vscodeJupyterKernelCrash'>here</a> for more info. View Jupyter <a href='command:jupyter.viewOutput'>log</a> for further details."
     ]
    }
   ],
   "source": [
    "def f(a, b, c):\n",
    "    print(locals())\n",
    "\n",
    "f(2, 3, 4)"
   ]
  },
  {
   "cell_type": "code",
   "execution_count": 5,
   "metadata": {},
   "outputs": [
    {
     "data": {
      "text/plain": [
       "tensor([[ 0.9250,  0.3608, -3.0117,  0.1590, -0.0606,  2.3719,  0.9134, -0.0360,\n",
       "         -0.5744,  0.2070],\n",
       "        [ 1.0417,  1.2063,  0.3591,  0.2993, -0.3557, -0.7325,  0.0092, -0.4611,\n",
       "          1.0492, -0.4233],\n",
       "        [-0.3487, -1.9598, -1.3769,  0.1079,  1.1457,  0.4545,  0.2155, -0.5677,\n",
       "         -1.0215,  0.4028],\n",
       "        [-1.3148,  0.5996,  0.1653,  0.0870, -1.1551, -0.6461,  0.6678, -1.7923,\n",
       "          0.4132, -0.2877],\n",
       "        [ 1.0405, -0.4415,  0.5741, -0.4718,  0.2769, -1.5073,  0.6070, -0.1545,\n",
       "         -0.2004, -1.3671],\n",
       "        [ 1.3014, -1.3853, -0.0137, -1.2518, -0.1628,  1.3376,  2.1291, -0.4357,\n",
       "         -0.4761,  0.9772],\n",
       "        [-1.5233, -0.0439,  0.1956,  0.5214,  1.2178, -0.4873, -0.7024, -0.1746,\n",
       "         -2.5409, -0.8621],\n",
       "        [ 2.3561, -0.5601,  2.0302,  0.9249,  0.5761,  0.0125,  0.1271,  0.1514,\n",
       "          0.7440,  0.2006],\n",
       "        [ 0.0000,  0.0000,  0.0000,  0.0000,  0.0000,  0.0000,  0.0000,  0.0000,\n",
       "          0.0000,  0.0000],\n",
       "        [ 0.0000,  0.0000,  0.0000,  0.0000,  0.0000,  0.0000,  0.0000,  0.0000,\n",
       "          0.0000,  0.0000]])"
      ]
     },
     "execution_count": 5,
     "metadata": {},
     "output_type": "execute_result"
    }
   ],
   "source": [
    "x"
   ]
  },
  {
   "cell_type": "code",
   "execution_count": 8,
   "metadata": {},
   "outputs": [
    {
     "data": {
      "text/plain": [
       "tensor([[ 0.9250,  0.3608, -3.0117,  0.1590, -0.0606,  2.3719,  0.9134, -0.0360,\n",
       "         -0.5744,  0.2070],\n",
       "        [ 1.0417,  1.2063,  0.3591,  0.2993, -0.3557, -0.7325,  0.0092, -0.4611,\n",
       "          1.0492, -0.4233],\n",
       "        [-0.3487, -1.9598, -1.3769,  0.1079,  1.1457,  0.4545,  0.2155, -0.5677,\n",
       "         -1.0215,  0.4028],\n",
       "        [-1.3148,  0.5996,  0.1653,  0.0870, -1.1551, -0.6461,  0.6678, -1.7923,\n",
       "          0.4132, -0.2877],\n",
       "        [ 1.0405, -0.4415,  0.5741, -0.4718,  0.2769, -1.5073,  0.6070, -0.1545,\n",
       "         -0.2004, -1.3671],\n",
       "        [ 1.3014, -1.3853, -0.0137, -1.2518, -0.1628,  1.3376,  2.1291, -0.4357,\n",
       "         -0.4761,  0.9772],\n",
       "        [-1.5233, -0.0439,  0.1956,  0.5214,  1.2178, -0.4873, -0.7024, -0.1746,\n",
       "         -2.5409, -0.8621],\n",
       "        [ 2.3561, -0.5601,  2.0302,  0.9249,  0.5761,  0.0125,  0.1271,  0.1514,\n",
       "          0.7440,  0.2006]])"
      ]
     },
     "execution_count": 8,
     "metadata": {},
     "output_type": "execute_result"
    },
    {
     "ename": "",
     "evalue": "",
     "output_type": "error",
     "traceback": [
      "\u001b[1;31mThe Kernel crashed while executing code in the the current cell or a previous cell. Please review the code in the cell(s) to identify a possible cause of the failure. Click <a href='https://aka.ms/vscodeJupyterKernelCrash'>here</a> for more info. View Jupyter <a href='command:jupyter.viewOutput'>log</a> for further details."
     ]
    }
   ],
   "source": [
    "x[~(x == 0).all(dim=1)]"
   ]
  },
  {
   "cell_type": "code",
   "execution_count": null,
   "metadata": {},
   "outputs": [],
   "source": []
  }
 ],
 "metadata": {
  "kernelspec": {
   "display_name": "Python 3.10.4 ('coreference')",
   "language": "python",
   "name": "python3"
  },
  "language_info": {
   "codemirror_mode": {
    "name": "ipython",
    "version": 3
   },
   "file_extension": ".py",
   "mimetype": "text/x-python",
   "name": "python",
   "nbconvert_exporter": "python",
   "pygments_lexer": "ipython3",
   "version": "3.10.4"
  },
  "orig_nbformat": 4,
  "vscode": {
   "interpreter": {
    "hash": "6e9e5767629d26198a734ee01c9558510355f25ffdcffebbd890d86f684e7226"
   }
  }
 },
 "nbformat": 4,
 "nbformat_minor": 2
}
