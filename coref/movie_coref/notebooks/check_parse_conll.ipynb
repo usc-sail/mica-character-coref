{
 "cells": [
  {
   "cell_type": "code",
   "execution_count": 61,
   "metadata": {},
   "outputs": [],
   "source": [
    "from collections import defaultdict\n",
    "import re"
   ]
  },
  {
   "cell_type": "code",
   "execution_count": 2,
   "metadata": {},
   "outputs": [],
   "source": [
    "content = open(\"/home/sbaruah_usc_edu/mica_text_coref/test.txt\").read()"
   ]
  },
  {
   "cell_type": "code",
   "execution_count": 3,
   "metadata": {},
   "outputs": [],
   "source": [
    "score_pattern = re.compile(\"Recall: \\([0-9.]+ / [0-9.]+\\) ([0-9.]+)%\\s+Precision: \\([0-9.]+ / [0-9.]+\\) ([0-9.]+)%\\s+F1: ([0-9.]+)%\")\n",
    "document_pattern = re.compile(\"====> (\\w+);\", flags=re.ASCII)\n",
    "metric_pattern = re.compile(\"METRIC (\\w+):\")"
   ]
  },
  {
   "cell_type": "code",
   "execution_count": 51,
   "metadata": {},
   "outputs": [],
   "source": [
    "pattern = re.compile(f\"({score_pattern.pattern})|({document_pattern.pattern})|({metric_pattern.pattern})\")"
   ]
  },
  {
   "cell_type": "code",
   "execution_count": 52,
   "metadata": {},
   "outputs": [
    {
     "data": {
      "text/plain": [
       "re.compile(r'(Recall: \\([0-9.]+ / [0-9.]+\\) ([0-9.]+)%\\s+Precision: \\([0-9.]+ / [0-9.]+\\) ([0-9.]+)%\\s+F1: ([0-9.]+)%)|(====> (\\w+);)|(METRIC (\\w+):)',\n",
       "           re.UNICODE)"
      ]
     },
     "execution_count": 52,
     "metadata": {},
     "output_type": "execute_result"
    }
   ],
   "source": [
    "pattern"
   ]
  },
  {
   "cell_type": "code",
   "execution_count": 57,
   "metadata": {},
   "outputs": [
    {
     "name": "stdout",
     "output_type": "stream",
     "text": [
      "Metric: muc\n",
      "Document: movie = bourne\n",
      "Document: movie = bourne\n",
      "Score: recall = 86.7900, precision = 54.9100, f1 = 67.2700\n",
      "Document: movie = basterds\n",
      "Document: movie = basterds\n",
      "Score: recall = 81.3700, precision = 57.5700, f1 = 67.4300\n",
      "Document: movie = shawshank\n",
      "Document: movie = shawshank\n",
      "Score: recall = 86.1500, precision = 60.9200, f1 = 71.3700\n",
      "Score: recall = 89.2300, precision = 54.6100, f1 = 67.7600\n",
      "Score: recall = 84.7000, precision = 57.6300, f1 = 68.5900\n",
      "Metric: bcub\n",
      "Document: movie = shawshank\n",
      "Document: movie = shawshank\n",
      "Score: recall = 47.5700, precision = 39.2400, f1 = 43.0100\n",
      "Document: movie = basterds\n",
      "Document: movie = basterds\n",
      "Score: recall = 41.6800, precision = 31.9200, f1 = 36.1500\n",
      "Document: movie = bourne\n",
      "Document: movie = bourne\n",
      "Score: recall = 65.9500, precision = 39.8700, f1 = 49.6900\n",
      "Score: recall = 89.2300, precision = 54.6100, f1 = 67.7600\n",
      "Score: recall = 51.7100, precision = 37.0300, f1 = 43.1500\n",
      "Metric: ceafe\n",
      "Document: movie = bourne\n",
      "Document: movie = bourne\n",
      "Score: recall = 51.2700, precision = 9.8300, f1 = 16.5000\n",
      "Document: movie = basterds\n",
      "Document: movie = basterds\n",
      "Score: recall = 44.4100, precision = 6.2600, f1 = 10.9800\n",
      "Document: movie = shawshank\n",
      "Document: movie = shawshank\n",
      "Score: recall = 48.7800, precision = 10.9600, f1 = 17.9000\n",
      "Score: recall = 89.2300, precision = 54.6100, f1 = 67.7600\n",
      "Score: recall = 48.5900, precision = 9.0900, f1 = 15.3200\n"
     ]
    }
   ],
   "source": [
    "for match in pattern.finditer(content):\n",
    "    if match.group(1):\n",
    "        recall = float(match.group(2))\n",
    "        precision = float(match.group(3))\n",
    "        f1 = float(match.group(4))\n",
    "        print(f\"Score: recall = {recall:.4f}, precision = {precision:.4f}, f1 = {f1:.4f}\")\n",
    "    elif match.group(5):\n",
    "        movie = match.group(6)\n",
    "        print(f\"Document: movie = {movie}\")\n",
    "    else:\n",
    "        metric = match.group(8)\n",
    "        print(f\"Metric: {metric}\")"
   ]
  },
  {
   "cell_type": "code",
   "execution_count": 58,
   "metadata": {},
   "outputs": [
    {
     "name": "stdout",
     "output_type": "stream",
     "text": [
      "{'bourne', 'shawshank', 'basterds'}\n"
     ]
    }
   ],
   "source": [
    "movies = set()\n",
    "for match in document_pattern.finditer(content):\n",
    "    movies.add(match.group(1))\n",
    "print(movies)"
   ]
  },
  {
   "cell_type": "code",
   "execution_count": 60,
   "metadata": {},
   "outputs": [
    {
     "data": {
      "text/plain": [
       "{'basterds', 'bourne', 'shawshank'}"
      ]
     },
     "execution_count": 60,
     "metadata": {},
     "output_type": "execute_result"
    }
   ],
   "source": [
    "set(map(lambda match: match.group(1), document_pattern.finditer(content)))"
   ]
  },
  {
   "cell_type": "code",
   "execution_count": 64,
   "metadata": {},
   "outputs": [],
   "source": [
    "result = defaultdict(lambda: defaultdict(tuple[float, float, float]))"
   ]
  },
  {
   "cell_type": "code",
   "execution_count": 65,
   "metadata": {},
   "outputs": [
    {
     "data": {
      "text/plain": [
       "()"
      ]
     },
     "execution_count": 65,
     "metadata": {},
     "output_type": "execute_result"
    }
   ],
   "source": [
    "result[0][1]"
   ]
  },
  {
   "cell_type": "code",
   "execution_count": null,
   "metadata": {},
   "outputs": [],
   "source": []
  }
 ],
 "metadata": {
  "kernelspec": {
   "display_name": "Python 3.10.4 ('coreference')",
   "language": "python",
   "name": "python3"
  },
  "language_info": {
   "codemirror_mode": {
    "name": "ipython",
    "version": 3
   },
   "file_extension": ".py",
   "mimetype": "text/x-python",
   "name": "python",
   "nbconvert_exporter": "python",
   "pygments_lexer": "ipython3",
   "version": "3.10.4"
  },
  "orig_nbformat": 4,
  "vscode": {
   "interpreter": {
    "hash": "6e9e5767629d26198a734ee01c9558510355f25ffdcffebbd890d86f684e7226"
   }
  }
 },
 "nbformat": 4,
 "nbformat_minor": 2
}
