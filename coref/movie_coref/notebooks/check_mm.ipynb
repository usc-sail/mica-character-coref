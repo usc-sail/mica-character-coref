{
 "cells": [
  {
   "cell_type": "code",
   "execution_count": 2,
   "metadata": {},
   "outputs": [],
   "source": [
    "import accelerate\n",
    "import torch\n",
    "from torch import nn\n",
    "from torch.utils.data import TensorDataset, DataLoader\n",
    "from torch.optim import AdamW"
   ]
  },
  {
   "cell_type": "code",
   "execution_count": 5,
   "metadata": {},
   "outputs": [],
   "source": [
    "def train():\n",
    "    n = 10000\n",
    "    accelerator = accelerate.Accelerator()\n",
    "    embeddings = torch.randn((8, n, 1024))\n",
    "    labels = torch.sigmoid(torch.randn((8, n,n)))\n",
    "    dataset = TensorDataset(embeddings, labels)\n",
    "    dataloader = DataLoader(dataset, batch_size=1)\n",
    "    model = nn.Linear(1024, 1024)\n",
    "    optimizer = AdamW(model.parameters(), lr=1e-3)\n",
    "    model, dataloader, optimizer = accelerator.prepare(\n",
    "        model, dataloader, optimizer)\n",
    "    bce = nn.BCEWithLogitsLoss()\n",
    "    model.train()\n",
    "    for i, (batch_embeddings, batch_labels) in enumerate(dataloader):\n",
    "        batch_embeddings = batch_embeddings.squeeze()\n",
    "        batch_labels = batch_labels.squeeze()\n",
    "        print(f\"batch {i + 1:2d}: \"\n",
    "                          f\"embeddings: {batch_embeddings.shape}, \"\n",
    "                          f\"labels: {batch_labels.shape}\")\n",
    "        out = model(batch_embeddings).mm(batch_embeddings.T)\n",
    "        loss = bce(out, batch_labels)\n",
    "        print(f\"batch {i + 1:2d}: loss = {loss.item()}\")\n",
    "        accelerator.backward(loss)\n",
    "        optimizer.step()\n",
    "        optimizer.zero_grad()"
   ]
  },
  {
   "cell_type": "code",
   "execution_count": 6,
   "metadata": {},
   "outputs": [
    {
     "name": "stdout",
     "output_type": "stream",
     "text": [
      "Launching training on one GPU.\n",
      "batch  1: embeddings: torch.Size([10000, 1024]), labels: torch.Size([10000, 10000])\n",
      "batch  1: loss = 7.4055681228637695\n",
      "batch  2: embeddings: torch.Size([10000, 1024]), labels: torch.Size([10000, 10000])\n",
      "batch  2: loss = 7.086696147918701\n",
      "batch  3: embeddings: torch.Size([10000, 1024]), labels: torch.Size([10000, 10000])\n",
      "batch  3: loss = 6.776832103729248\n",
      "batch  4: embeddings: torch.Size([10000, 1024]), labels: torch.Size([10000, 10000])\n",
      "batch  4: loss = 6.458182334899902\n",
      "batch  5: embeddings: torch.Size([10000, 1024]), labels: torch.Size([10000, 10000])\n",
      "batch  5: loss = 6.1594557762146\n",
      "batch  6: embeddings: torch.Size([10000, 1024]), labels: torch.Size([10000, 10000])\n",
      "batch  6: loss = 5.851268291473389\n",
      "batch  7: embeddings: torch.Size([10000, 1024]), labels: torch.Size([10000, 10000])\n",
      "batch  7: loss = 5.554714679718018\n",
      "batch  8: embeddings: torch.Size([10000, 1024]), labels: torch.Size([10000, 10000])\n",
      "batch  8: loss = 5.257957935333252\n"
     ]
    }
   ],
   "source": [
    "accelerate.notebook_launcher(train, num_processes=1)"
   ]
  },
  {
   "cell_type": "code",
   "execution_count": 7,
   "metadata": {},
   "outputs": [],
   "source": [
    "a = torch.randn((5, 2))"
   ]
  },
  {
   "cell_type": "code",
   "execution_count": 9,
   "metadata": {},
   "outputs": [
    {
     "data": {
      "text/plain": [
       "torch.Size([5])"
      ]
     },
     "execution_count": 9,
     "metadata": {},
     "output_type": "execute_result"
    }
   ],
   "source": [
    "a[:,0].shape"
   ]
  },
  {
   "cell_type": "code",
   "execution_count": null,
   "metadata": {},
   "outputs": [],
   "source": []
  }
 ],
 "metadata": {
  "kernelspec": {
   "display_name": "Python 3.10.4 ('coreference')",
   "language": "python",
   "name": "python3"
  },
  "language_info": {
   "codemirror_mode": {
    "name": "ipython",
    "version": 3
   },
   "file_extension": ".py",
   "mimetype": "text/x-python",
   "name": "python",
   "nbconvert_exporter": "python",
   "pygments_lexer": "ipython3",
   "version": "3.10.4"
  },
  "orig_nbformat": 4,
  "vscode": {
   "interpreter": {
    "hash": "6e9e5767629d26198a734ee01c9558510355f25ffdcffebbd890d86f684e7226"
   }
  }
 },
 "nbformat": 4,
 "nbformat_minor": 2
}
