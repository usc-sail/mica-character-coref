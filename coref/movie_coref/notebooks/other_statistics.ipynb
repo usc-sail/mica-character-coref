{
 "cells": [
  {
   "cell_type": "code",
   "execution_count": 1,
   "metadata": {},
   "outputs": [],
   "source": [
    "import jsonlines"
   ]
  },
  {
   "cell_type": "code",
   "execution_count": null,
   "metadata": {},
   "outputs": [],
   "source": [
    "dev_path = \"/proj/sbaruah/data/mica_text_coref/conll-2012/gold/dev.english.jsonlines\"\n",
    "test_path = \"/proj/sbaruah/data/mica_text_coref/conll-2012/gold/test.english.jsonlines\"\n",
    "train_path = \"/proj/sbaruah/data/mica_text_coref/conll-2012/gold/train.english.jsonlines\""
   ]
  }
 ],
 "metadata": {
  "kernelspec": {
   "display_name": "coreference",
   "language": "python",
   "name": "python3"
  },
  "language_info": {
   "codemirror_mode": {
    "name": "ipython",
    "version": 3
   },
   "file_extension": ".py",
   "mimetype": "text/x-python",
   "name": "python",
   "nbconvert_exporter": "python",
   "pygments_lexer": "ipython3",
   "version": "3.10.4"
  },
  "orig_nbformat": 4,
  "vscode": {
   "interpreter": {
    "hash": "b6d6049dce941f60bb2eec2e35eb23f5ec878ebd724b7ecb8ba7d6ee7900594f"
   }
  }
 },
 "nbformat": 4,
 "nbformat_minor": 2
}
