{
 "cells": [
  {
   "cell_type": "code",
   "execution_count": 1,
   "metadata": {},
   "outputs": [],
   "source": [
    "from mica_text_coref.coref.movie_coref import data\n",
    "\n",
    "import collections\n",
    "import numpy as np\n",
    "import os"
   ]
  },
  {
   "cell_type": "code",
   "execution_count": 2,
   "metadata": {},
   "outputs": [],
   "source": [
    "corpus = data.CorefCorpus(\"/home/sbaruah_usc_edu/mica_text_coref/data/movie_coref/results/regular/movie.jsonlines\")"
   ]
  },
  {
   "cell_type": "code",
   "execution_count": 3,
   "metadata": {},
   "outputs": [],
   "source": [
    "parse_tags = []\n",
    "pos_tags = []\n",
    "ner_tags = []\n",
    "\n",
    "for document in corpus:\n",
    "    parse_tags.extend(document.parse)\n",
    "    pos_tags.extend(document.pos)\n",
    "    ner_tags.extend(document.ner)"
   ]
  },
  {
   "cell_type": "code",
   "execution_count": 4,
   "metadata": {},
   "outputs": [
    {
     "name": "stdout",
     "output_type": "stream",
     "text": [
      "parse: Counter({'N': 101599, 'D': 73447, 'C': 11794, 'S': 9608, 'E': 3637, 'O': 1214, 'T': 355, 'M': 150})\n",
      "pos: Counter({'NN': 24800, 'NNP': 22512, '.': 21130, 'IN': 15429, 'DT': 15086, 'PRP': 11687, 'VBZ': 9033, ',': 8231, 'RB': 7654, 'JJ': 7022, 'NNS': 6670, 'VB': 5664, 'VBP': 5260, 'VBG': 3711, 'CC': 3701, 'PRP$': 3571, ':': 2822, 'CD': 2502, \"''\": 2423, 'RP': 2174, 'VBD': 2098, 'VBN': 1955, '-RRB-': 1950, '-LRB-': 1940, 'TO': 1923, 'UH': 1832, 'HYPH': 1727, 'POS': 1413, '``': 1210, 'MD': 1178, 'WP': 844, 'WRB': 629, 'NFP': 621, 'WDT': 266, 'JJR': 245, 'NNPS': 178, 'RBR': 168, 'EX': 142, 'JJS': 106, 'PDT': 96, 'LS': 73, 'SYM': 51, 'FW': 33, 'RBS': 24, 'XX': 8, 'ADD': 6, 'WP$': 5, 'AFX': 1})\n",
      "ner: Counter({'-': 187471, 'ORG': 5406, 'PERSON': 4528, 'CARDINAL': 1511, 'GPE': 886, 'DATE': 605, 'NORP': 215, 'ORDINAL': 181, 'WORK_OF_ART': 147, 'TIME': 145, 'FAC': 141, 'PRODUCT': 137, 'QUANTITY': 126, 'LOC': 77, 'LAW': 59, 'MONEY': 56, 'LANGUAGE': 54, 'EVENT': 34, 'PERCENT': 25})\n"
     ]
    }
   ],
   "source": [
    "print(f\"parse: {collections.Counter(parse_tags)}\")\n",
    "print(f\"pos: {collections.Counter(pos_tags)}\")\n",
    "print(f\"ner: {collections.Counter(ner_tags)}\")"
   ]
  },
  {
   "cell_type": "code",
   "execution_count": null,
   "metadata": {},
   "outputs": [],
   "source": []
  }
 ],
 "metadata": {
  "kernelspec": {
   "display_name": "Python 3.10.4 ('coreference')",
   "language": "python",
   "name": "python3"
  },
  "language_info": {
   "codemirror_mode": {
    "name": "ipython",
    "version": 3
   },
   "file_extension": ".py",
   "mimetype": "text/x-python",
   "name": "python",
   "nbconvert_exporter": "python",
   "pygments_lexer": "ipython3",
   "version": "3.10.4"
  },
  "orig_nbformat": 4,
  "vscode": {
   "interpreter": {
    "hash": "6e9e5767629d26198a734ee01c9558510355f25ffdcffebbd890d86f684e7226"
   }
  }
 },
 "nbformat": 4,
 "nbformat_minor": 2
}
