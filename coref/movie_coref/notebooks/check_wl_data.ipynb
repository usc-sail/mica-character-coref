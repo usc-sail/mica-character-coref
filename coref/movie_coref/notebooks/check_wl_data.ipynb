{
 "cells": [
  {
   "cell_type": "code",
   "execution_count": 1,
   "metadata": {},
   "outputs": [],
   "source": [
    "import jsonlines"
   ]
  },
  {
   "cell_type": "code",
   "execution_count": 2,
   "metadata": {},
   "outputs": [
    {
     "name": "stdout",
     "output_type": "stream",
     "text": [
      "Number of documents in test data = 348\n",
      "Number of documents in test head data = 348\n"
     ]
    }
   ],
   "source": [
    "def read_data(file: str) -> list[dict[str, any]]:\n",
    "    data = []\n",
    "    for record in jsonlines.open(file):\n",
    "        data.append(record)\n",
    "    return data\n",
    "\n",
    "test_data = read_data((\"/home/sbaruah_usc_edu/mica_text_coref/data/\"\n",
    "                       \"word_level_coref/data/english_test.jsonlines\"))\n",
    "test_head_data = read_data((\"/home/sbaruah_usc_edu/mica_text_coref/data/\"\n",
    "                            \"word_level_coref/data/english_test_head.jsonlines\"))\n",
    "\n",
    "print(f\"Number of documents in test data = {len(test_data)}\")\n",
    "print(f\"Number of documents in test head data = {len(test_head_data)}\")"
   ]
  },
  {
   "cell_type": "code",
   "execution_count": 3,
   "metadata": {},
   "outputs": [
    {
     "name": "stdout",
     "output_type": "stream",
     "text": [
      "Test data keys:\n",
      "['cased_words', 'clusters', 'deprel', 'document_id', 'head', 'part_id', 'pos', 'sent_id', 'speaker']\n",
      "\n",
      "Test head data keys:\n",
      "['cased_words', 'deprel', 'document_id', 'head', 'head2span', 'part_id', 'pos', 'sent_id', 'span_clusters', 'speaker', 'word_clusters']\n"
     ]
    }
   ],
   "source": [
    "print(\"Test data keys:\")\n",
    "print(sorted(test_data[0].keys()))\n",
    "print()\n",
    "print(\"Test head data keys:\")\n",
    "print(sorted(test_head_data[0].keys()))"
   ]
  },
  {
   "cell_type": "code",
   "execution_count": 8,
   "metadata": {},
   "outputs": [
    {
     "name": "stdout",
     "output_type": "stream",
     "text": [
      "document_id\n",
      "bc/cctv/00/cctv_0005\n",
      "\n",
      "cased_words\n",
      "['--', 'basically', ',', 'it', 'was', 'unanimously', 'agreed', 'upon', 'by', 'the', 'various', 'relevant', 'parties', '.', 'To', 'express', 'its', 'determination', ',', 'the', 'Chinese', 'securities', 'regulatory', 'department', 'compares', 'this', 'stock', 'reform', 'to', 'a', 'die', 'that', 'has', 'been', 'cast', '.', 'It', 'takes', 'time', 'to', 'prove', 'whether', 'the', 'stock', 'reform', 'can', 'really', 'meet', 'expectations', ',', 'and', 'whether', 'any', 'deviations', 'that', 'arise', 'during', 'the', 'stock', 'reform', 'can', 'be', 'promptly', 'corrected', '.', 'Dear', 'viewers', ',', 'the', 'China', 'News', 'program', 'will', 'end', 'here', '.', 'This', 'is', 'Xu', 'Li', '.', 'Thank', 'you', 'everyone', 'for', 'watching', '.', 'Coming', 'up', 'is', 'the', 'Focus', 'Today', 'program', 'hosted', 'by', 'Wang', 'Shilin', '.', 'Good-bye', ',', 'dear', 'viewers', '.']\n",
      "\n",
      "sent_id\n",
      "[0, 0, 0, 0, 0, 0, 0, 0, 0, 0, 0, 0, 0, 0, 1, 1, 1, 1, 1, 1, 1, 1, 1, 1, 1, 1, 1, 1, 1, 1, 1, 1, 1, 1, 1, 1, 2, 2, 2, 2, 2, 2, 2, 2, 2, 2, 2, 2, 2, 2, 2, 2, 2, 2, 2, 2, 2, 2, 2, 2, 2, 2, 2, 2, 2, 3, 3, 3, 3, 3, 3, 3, 3, 3, 3, 3, 4, 4, 4, 4, 4, 5, 5, 5, 5, 5, 5, 6, 6, 6, 6, 6, 6, 6, 6, 6, 6, 6, 6, 7, 7, 7, 7, 7]\n",
      "\n",
      "part_id\n",
      "0\n",
      "\n",
      "speaker\n",
      "['speaker#1', 'speaker#1', 'speaker#1', 'speaker#1', 'speaker#1', 'speaker#1', 'speaker#1', 'speaker#1', 'speaker#1', 'speaker#1', 'speaker#1', 'speaker#1', 'speaker#1', 'speaker#1', 'speaker#1', 'speaker#1', 'speaker#1', 'speaker#1', 'speaker#1', 'speaker#1', 'speaker#1', 'speaker#1', 'speaker#1', 'speaker#1', 'speaker#1', 'speaker#1', 'speaker#1', 'speaker#1', 'speaker#1', 'speaker#1', 'speaker#1', 'speaker#1', 'speaker#1', 'speaker#1', 'speaker#1', 'speaker#1', 'speaker#1', 'speaker#1', 'speaker#1', 'speaker#1', 'speaker#1', 'speaker#1', 'speaker#1', 'speaker#1', 'speaker#1', 'speaker#1', 'speaker#1', 'speaker#1', 'speaker#1', 'speaker#1', 'speaker#1', 'speaker#1', 'speaker#1', 'speaker#1', 'speaker#1', 'speaker#1', 'speaker#1', 'speaker#1', 'speaker#1', 'speaker#1', 'speaker#1', 'speaker#1', 'speaker#1', 'speaker#1', 'speaker#1', 'Xu_li', 'Xu_li', 'Xu_li', 'Xu_li', 'Xu_li', 'Xu_li', 'Xu_li', 'Xu_li', 'Xu_li', 'Xu_li', 'Xu_li', 'Xu_li', 'Xu_li', 'Xu_li', 'Xu_li', 'Xu_li', 'Xu_li', 'Xu_li', 'Xu_li', 'Xu_li', 'Xu_li', 'Xu_li', 'Xu_li', 'Xu_li', 'Xu_li', 'Xu_li', 'Xu_li', 'Xu_li', 'Xu_li', 'Xu_li', 'Xu_li', 'Xu_li', 'Xu_li', 'Xu_li', 'Xu_li', 'Xu_li', 'Xu_li', 'Xu_li', 'Xu_li']\n",
      "\n",
      "pos\n",
      "[':', 'RB', ',', 'PRP', 'VBD', 'RB', 'VBN', 'IN', 'IN', 'DT', 'JJ', 'JJ', 'NNS', '.', 'TO', 'VB', 'PRP$', 'NN', ',', 'DT', 'JJ', 'NNS', 'JJ', 'NN', 'VBZ', 'DT', 'NN', 'NN', 'IN', 'DT', 'NN', 'WDT', 'VBZ', 'VBN', 'VBN', '.', 'PRP', 'VBZ', 'NN', 'TO', 'VB', 'IN', 'DT', 'NN', 'NN', 'MD', 'RB', 'VB', 'NNS', ',', 'CC', 'IN', 'DT', 'NNS', 'WDT', 'VBP', 'IN', 'DT', 'NN', 'NN', 'MD', 'VB', 'RB', 'VBN', '.', 'NNP', 'NNS', ',', 'DT', 'NNP', 'NNP', 'NN', 'MD', 'VB', 'RB', '.', 'DT', 'VBZ', 'JJ', 'NNP', '.', 'VBP', 'PRP', 'NN', 'IN', 'VBG', '.', 'VBG', 'RP', 'VBZ', 'DT', 'NNP', 'NNP', 'NN', 'VBN', 'IN', 'NNP', 'NNP', '.', 'UH', ',', 'NN', 'NNS', '.']\n",
      "\n",
      "deprel\n",
      "['punct', 'advmod', 'punct', 'nsubjpass', 'auxpass', 'advmod', 'root', 'prep', 'prep', 'det', 'amod', 'amod', 'pobj', 'punct', 'aux', 'advcl', 'poss', 'dobj', 'punct', 'det', 'amod', 'nn', 'amod', 'nsubj', 'root', 'det', 'nn', 'dobj', 'prep', 'det', 'pobj', 'nsubjpass', 'aux', 'auxpass', 'rcmod', 'punct', 'nsubj', 'root', 'dobj', 'aux', 'xcomp', 'mark', 'det', 'nn', 'nsubj', 'aux', 'advmod', 'ccomp', 'dobj', 'punct', 'cc', 'mark', 'det', 'nsubjpass', 'nsubj', 'rcmod', 'prep', 'det', 'nn', 'pobj', 'aux', 'auxpass', 'advmod', 'conj', 'punct', 'nn', 'nsubj', 'punct', 'det', 'nn', 'nn', 'nsubj', 'aux', 'root', 'advmod', 'punct', 'nsubj', 'cop', 'amod', 'root', 'punct', 'root', 'iobj', 'dobj', 'prep', 'pcomp', 'punct', 'root', 'prt', 'aux', 'det', 'nn', 'nn', 'nsubj', 'partmod', 'prep', 'nn', 'pobj', 'punct', 'discourse', 'punct', 'nn', 'root', 'punct']\n",
      "\n",
      "head\n",
      "[6, 6, 6, 6, 6, 6, None, 6, 6, 12, 12, 12, 8, 6, 15, 24, 17, 15, 24, 23, 23, 23, 23, 24, None, 27, 27, 24, 24, 30, 28, 34, 34, 34, 30, 24, 37, None, 37, 40, 37, 47, 44, 44, 47, 47, 47, 40, 47, 47, 47, 63, 53, 63, 55, 53, 55, 59, 59, 56, 63, 63, 63, 47, 37, 66, 73, 73, 71, 70, 71, 73, 73, None, 73, 73, 79, 79, 79, None, 79, None, 81, 81, 81, 84, 81, None, 87, 87, 93, 92, 93, 87, 93, 94, 97, 95, 87, 102, 102, 102, None, 102]\n",
      "\n",
      "clusters\n",
      "[[[16, 17], [19, 24]], [[25, 28], [42, 45], [57, 60]], [[82, 83], [83, 84]]]\n",
      "\n"
     ]
    }
   ],
   "source": [
    "i = 0\n",
    "for key, value in test_data[i].items():\n",
    "    print(key)\n",
    "    print(value)\n",
    "    print()"
   ]
  },
  {
   "cell_type": "code",
   "execution_count": 9,
   "metadata": {},
   "outputs": [
    {
     "name": "stdout",
     "output_type": "stream",
     "text": [
      "document_id\n",
      "bc/cctv/00/cctv_0005\n",
      "\n",
      "cased_words\n",
      "['--', 'basically', ',', 'it', 'was', 'unanimously', 'agreed', 'upon', 'by', 'the', 'various', 'relevant', 'parties', '.', 'To', 'express', 'its', 'determination', ',', 'the', 'Chinese', 'securities', 'regulatory', 'department', 'compares', 'this', 'stock', 'reform', 'to', 'a', 'die', 'that', 'has', 'been', 'cast', '.', 'It', 'takes', 'time', 'to', 'prove', 'whether', 'the', 'stock', 'reform', 'can', 'really', 'meet', 'expectations', ',', 'and', 'whether', 'any', 'deviations', 'that', 'arise', 'during', 'the', 'stock', 'reform', 'can', 'be', 'promptly', 'corrected', '.', 'Dear', 'viewers', ',', 'the', 'China', 'News', 'program', 'will', 'end', 'here', '.', 'This', 'is', 'Xu', 'Li', '.', 'Thank', 'you', 'everyone', 'for', 'watching', '.', 'Coming', 'up', 'is', 'the', 'Focus', 'Today', 'program', 'hosted', 'by', 'Wang', 'Shilin', '.', 'Good-bye', ',', 'dear', 'viewers', '.']\n",
      "\n",
      "sent_id\n",
      "[0, 0, 0, 0, 0, 0, 0, 0, 0, 0, 0, 0, 0, 0, 1, 1, 1, 1, 1, 1, 1, 1, 1, 1, 1, 1, 1, 1, 1, 1, 1, 1, 1, 1, 1, 1, 2, 2, 2, 2, 2, 2, 2, 2, 2, 2, 2, 2, 2, 2, 2, 2, 2, 2, 2, 2, 2, 2, 2, 2, 2, 2, 2, 2, 2, 3, 3, 3, 3, 3, 3, 3, 3, 3, 3, 3, 4, 4, 4, 4, 4, 5, 5, 5, 5, 5, 5, 6, 6, 6, 6, 6, 6, 6, 6, 6, 6, 6, 6, 7, 7, 7, 7, 7]\n",
      "\n",
      "part_id\n",
      "0\n",
      "\n",
      "speaker\n",
      "['speaker#1', 'speaker#1', 'speaker#1', 'speaker#1', 'speaker#1', 'speaker#1', 'speaker#1', 'speaker#1', 'speaker#1', 'speaker#1', 'speaker#1', 'speaker#1', 'speaker#1', 'speaker#1', 'speaker#1', 'speaker#1', 'speaker#1', 'speaker#1', 'speaker#1', 'speaker#1', 'speaker#1', 'speaker#1', 'speaker#1', 'speaker#1', 'speaker#1', 'speaker#1', 'speaker#1', 'speaker#1', 'speaker#1', 'speaker#1', 'speaker#1', 'speaker#1', 'speaker#1', 'speaker#1', 'speaker#1', 'speaker#1', 'speaker#1', 'speaker#1', 'speaker#1', 'speaker#1', 'speaker#1', 'speaker#1', 'speaker#1', 'speaker#1', 'speaker#1', 'speaker#1', 'speaker#1', 'speaker#1', 'speaker#1', 'speaker#1', 'speaker#1', 'speaker#1', 'speaker#1', 'speaker#1', 'speaker#1', 'speaker#1', 'speaker#1', 'speaker#1', 'speaker#1', 'speaker#1', 'speaker#1', 'speaker#1', 'speaker#1', 'speaker#1', 'speaker#1', 'Xu_li', 'Xu_li', 'Xu_li', 'Xu_li', 'Xu_li', 'Xu_li', 'Xu_li', 'Xu_li', 'Xu_li', 'Xu_li', 'Xu_li', 'Xu_li', 'Xu_li', 'Xu_li', 'Xu_li', 'Xu_li', 'Xu_li', 'Xu_li', 'Xu_li', 'Xu_li', 'Xu_li', 'Xu_li', 'Xu_li', 'Xu_li', 'Xu_li', 'Xu_li', 'Xu_li', 'Xu_li', 'Xu_li', 'Xu_li', 'Xu_li', 'Xu_li', 'Xu_li', 'Xu_li', 'Xu_li', 'Xu_li', 'Xu_li', 'Xu_li', 'Xu_li']\n",
      "\n",
      "pos\n",
      "[':', 'RB', ',', 'PRP', 'VBD', 'RB', 'VBN', 'IN', 'IN', 'DT', 'JJ', 'JJ', 'NNS', '.', 'TO', 'VB', 'PRP$', 'NN', ',', 'DT', 'JJ', 'NNS', 'JJ', 'NN', 'VBZ', 'DT', 'NN', 'NN', 'IN', 'DT', 'NN', 'WDT', 'VBZ', 'VBN', 'VBN', '.', 'PRP', 'VBZ', 'NN', 'TO', 'VB', 'IN', 'DT', 'NN', 'NN', 'MD', 'RB', 'VB', 'NNS', ',', 'CC', 'IN', 'DT', 'NNS', 'WDT', 'VBP', 'IN', 'DT', 'NN', 'NN', 'MD', 'VB', 'RB', 'VBN', '.', 'NNP', 'NNS', ',', 'DT', 'NNP', 'NNP', 'NN', 'MD', 'VB', 'RB', '.', 'DT', 'VBZ', 'JJ', 'NNP', '.', 'VBP', 'PRP', 'NN', 'IN', 'VBG', '.', 'VBG', 'RP', 'VBZ', 'DT', 'NNP', 'NNP', 'NN', 'VBN', 'IN', 'NNP', 'NNP', '.', 'UH', ',', 'NN', 'NNS', '.']\n",
      "\n",
      "deprel\n",
      "['punct', 'advmod', 'punct', 'nsubjpass', 'auxpass', 'advmod', 'root', 'prep', 'prep', 'det', 'amod', 'amod', 'pobj', 'punct', 'aux', 'advcl', 'poss', 'dobj', 'punct', 'det', 'amod', 'nn', 'amod', 'nsubj', 'root', 'det', 'nn', 'dobj', 'prep', 'det', 'pobj', 'nsubjpass', 'aux', 'auxpass', 'rcmod', 'punct', 'nsubj', 'root', 'dobj', 'aux', 'xcomp', 'mark', 'det', 'nn', 'nsubj', 'aux', 'advmod', 'ccomp', 'dobj', 'punct', 'cc', 'mark', 'det', 'nsubjpass', 'nsubj', 'rcmod', 'prep', 'det', 'nn', 'pobj', 'aux', 'auxpass', 'advmod', 'conj', 'punct', 'nn', 'nsubj', 'punct', 'det', 'nn', 'nn', 'nsubj', 'aux', 'root', 'advmod', 'punct', 'nsubj', 'cop', 'amod', 'root', 'punct', 'root', 'iobj', 'dobj', 'prep', 'pcomp', 'punct', 'root', 'prt', 'aux', 'det', 'nn', 'nn', 'nsubj', 'partmod', 'prep', 'nn', 'pobj', 'punct', 'discourse', 'punct', 'nn', 'root', 'punct']\n",
      "\n",
      "head\n",
      "[6, 6, 6, 6, 6, 6, None, 6, 6, 12, 12, 12, 8, 6, 15, 24, 17, 15, 24, 23, 23, 23, 23, 24, None, 27, 27, 24, 24, 30, 28, 34, 34, 34, 30, 24, 37, None, 37, 40, 37, 47, 44, 44, 47, 47, 47, 40, 47, 47, 47, 63, 53, 63, 55, 53, 55, 59, 59, 56, 63, 63, 63, 47, 37, 66, 73, 73, 71, 70, 71, 73, 73, None, 73, 73, 79, 79, 79, None, 79, None, 81, 81, 81, 84, 81, None, 87, 87, 93, 92, 93, 87, 93, 94, 97, 95, 87, 102, 102, 102, None, 102]\n",
      "\n",
      "head2span\n",
      "[[16, 16, 17], [23, 19, 24], [27, 25, 28], [44, 42, 45], [59, 57, 60], [82, 82, 83], [83, 83, 84]]\n",
      "\n",
      "word_clusters\n",
      "[[16, 23], [27, 44, 59], [82, 83]]\n",
      "\n",
      "span_clusters\n",
      "[[[16, 17], [19, 24]], [[25, 28], [42, 45], [57, 60]], [[82, 83], [83, 84]]]\n",
      "\n"
     ]
    }
   ],
   "source": [
    "i = 0\n",
    "for key, value in test_head_data[i].items():\n",
    "    print(key)\n",
    "    print(value)\n",
    "    print()"
   ]
  },
  {
   "cell_type": "code",
   "execution_count": null,
   "metadata": {},
   "outputs": [],
   "source": []
  }
 ],
 "metadata": {
  "kernelspec": {
   "display_name": "Python 3.10.4 ('coreference')",
   "language": "python",
   "name": "python3"
  },
  "language_info": {
   "codemirror_mode": {
    "name": "ipython",
    "version": 3
   },
   "file_extension": ".py",
   "mimetype": "text/x-python",
   "name": "python",
   "nbconvert_exporter": "python",
   "pygments_lexer": "ipython3",
   "version": "3.10.4"
  },
  "orig_nbformat": 4,
  "vscode": {
   "interpreter": {
    "hash": "6e9e5767629d26198a734ee01c9558510355f25ffdcffebbd890d86f684e7226"
   }
  }
 },
 "nbformat": 4,
 "nbformat_minor": 2
}
