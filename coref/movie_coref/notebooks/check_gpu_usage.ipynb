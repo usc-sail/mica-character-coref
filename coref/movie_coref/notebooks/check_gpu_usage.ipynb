{
 "cells": [
  {
   "cell_type": "code",
   "execution_count": 1,
   "metadata": {},
   "outputs": [],
   "source": [
    "import gpustat"
   ]
  },
  {
   "cell_type": "code",
   "execution_count": 2,
   "metadata": {},
   "outputs": [
    {
     "ename": "NVMLError_LibRmVersionMismatch",
     "evalue": "RM has detected an NVML/RM version mismatch.",
     "output_type": "error",
     "traceback": [
      "\u001b[0;31m---------------------------------------------------------------------------\u001b[0m",
      "\u001b[0;31mNVMLError_LibRmVersionMismatch\u001b[0m            Traceback (most recent call last)",
      "\u001b[1;32m/home/sbaruah_usc_edu/mica_text_coref/coref/movie_coref/notebooks/check_gpu_usage.ipynb Cell 2\u001b[0m in \u001b[0;36m<cell line: 1>\u001b[0;34m()\u001b[0m\n\u001b[0;32m----> <a href='vscode-notebook-cell://ssh-remote%2Bsailnlp.us-west1-b.sail-ccmi/home/sbaruah_usc_edu/mica_text_coref/coref/movie_coref/notebooks/check_gpu_usage.ipynb#W1sdnNjb2RlLXJlbW90ZQ%3D%3D?line=0'>1</a>\u001b[0m gpu_collection \u001b[39m=\u001b[39m gpustat\u001b[39m.\u001b[39;49mnew_query()\n",
      "File \u001b[0;32m~/anaconda3/envs/coreference/lib/python3.10/site-packages/gpustat/core.py:510\u001b[0m, in \u001b[0;36mnew_query\u001b[0;34m()\u001b[0m\n\u001b[1;32m    505\u001b[0m \u001b[39mdef\u001b[39;00m \u001b[39mnew_query\u001b[39m():\n\u001b[1;32m    506\u001b[0m     \u001b[39m'''\u001b[39;00m\n\u001b[1;32m    507\u001b[0m \u001b[39m    Obtain a new GPUStatCollection instance by querying nvidia-smi\u001b[39;00m\n\u001b[1;32m    508\u001b[0m \u001b[39m    to get the list of GPUs and running process information.\u001b[39;00m\n\u001b[1;32m    509\u001b[0m \u001b[39m    '''\u001b[39;00m\n\u001b[0;32m--> 510\u001b[0m     \u001b[39mreturn\u001b[39;00m GPUStatCollection\u001b[39m.\u001b[39;49mnew_query()\n",
      "File \u001b[0;32m~/anaconda3/envs/coreference/lib/python3.10/site-packages/gpustat/core.py:281\u001b[0m, in \u001b[0;36mGPUStatCollection.new_query\u001b[0;34m()\u001b[0m\n\u001b[1;32m    277\u001b[0m \u001b[39m@staticmethod\u001b[39m\n\u001b[1;32m    278\u001b[0m \u001b[39mdef\u001b[39;00m \u001b[39mnew_query\u001b[39m():\n\u001b[1;32m    279\u001b[0m     \u001b[39m\"\"\"Query the information of all the GPUs on local machine\"\"\"\u001b[39;00m\n\u001b[0;32m--> 281\u001b[0m     N\u001b[39m.\u001b[39;49mnvmlInit()\n\u001b[1;32m    283\u001b[0m     \u001b[39mdef\u001b[39;00m \u001b[39m_decode\u001b[39m(b):\n\u001b[1;32m    284\u001b[0m         \u001b[39mif\u001b[39;00m \u001b[39misinstance\u001b[39m(b, \u001b[39mbytes\u001b[39m):\n",
      "File \u001b[0;32m~/anaconda3/envs/coreference/lib/python3.10/site-packages/pynvml.py:615\u001b[0m, in \u001b[0;36mnvmlInit\u001b[0;34m()\u001b[0m\n\u001b[1;32m    613\u001b[0m fn \u001b[39m=\u001b[39m _nvmlGetFunctionPointer(\u001b[39m\"\u001b[39m\u001b[39mnvmlInit_v2\u001b[39m\u001b[39m\"\u001b[39m)\n\u001b[1;32m    614\u001b[0m ret \u001b[39m=\u001b[39m fn()\n\u001b[0;32m--> 615\u001b[0m _nvmlCheckReturn(ret)\n\u001b[1;32m    617\u001b[0m \u001b[39m# Atomically update refcount\u001b[39;00m\n\u001b[1;32m    618\u001b[0m \u001b[39mglobal\u001b[39;00m _nvmlLib_refcount\n",
      "File \u001b[0;32m~/anaconda3/envs/coreference/lib/python3.10/site-packages/pynvml.py:310\u001b[0m, in \u001b[0;36m_nvmlCheckReturn\u001b[0;34m(ret)\u001b[0m\n\u001b[1;32m    308\u001b[0m \u001b[39mdef\u001b[39;00m \u001b[39m_nvmlCheckReturn\u001b[39m(ret):\n\u001b[1;32m    309\u001b[0m     \u001b[39mif\u001b[39;00m (ret \u001b[39m!=\u001b[39m NVML_SUCCESS):\n\u001b[0;32m--> 310\u001b[0m         \u001b[39mraise\u001b[39;00m NVMLError(ret)\n\u001b[1;32m    311\u001b[0m     \u001b[39mreturn\u001b[39;00m ret\n",
      "\u001b[0;31mNVMLError_LibRmVersionMismatch\u001b[0m: RM has detected an NVML/RM version mismatch."
     ]
    }
   ],
   "source": [
    "gpu_collection = gpustat.new_query()"
   ]
  },
  {
   "cell_type": "code",
   "execution_count": 3,
   "metadata": {},
   "outputs": [
    {
     "data": {
      "text/plain": [
       "GPUStatCollection(host=sailnlp, [\n",
       "  [0] Tesla T4         | 45'C,   0 % |   495 / 15360 MB | gdm(95M) gdm(8M)\n",
       "  [1] Tesla T4         | 45'C,   0 % |   395 / 15360 MB | gdm(4M)\n",
       "  [2] Tesla T4         | 48'C,   0 % |   395 / 15360 MB | gdm(4M)\n",
       "  [3] Tesla T4         | 47'C,   0 % |   395 / 15360 MB | gdm(4M)\n",
       "])"
      ]
     },
     "execution_count": 3,
     "metadata": {},
     "output_type": "execute_result"
    }
   ],
   "source": [
    "gpu_collection"
   ]
  },
  {
   "cell_type": "code",
   "execution_count": 4,
   "metadata": {},
   "outputs": [
    {
     "data": {
      "text/plain": [
       "[[0] Tesla T4         | 45'C,   0 % |   495 / 15360 MB | gdm(95M) gdm(8M),\n",
       " [1] Tesla T4         | 45'C,   0 % |   395 / 15360 MB | gdm(4M),\n",
       " [2] Tesla T4         | 48'C,   0 % |   395 / 15360 MB | gdm(4M),\n",
       " [3] Tesla T4         | 47'C,   0 % |   395 / 15360 MB | gdm(4M)]"
      ]
     },
     "execution_count": 4,
     "metadata": {},
     "output_type": "execute_result"
    }
   ],
   "source": [
    "gpu_collection.gpus"
   ]
  },
  {
   "cell_type": "code",
   "execution_count": 5,
   "metadata": {},
   "outputs": [],
   "source": [
    "gpu = gpu_collection.gpus[0]"
   ]
  },
  {
   "cell_type": "code",
   "execution_count": 6,
   "metadata": {},
   "outputs": [
    {
     "data": {
      "text/plain": [
       "15360"
      ]
     },
     "execution_count": 6,
     "metadata": {},
     "output_type": "execute_result"
    }
   ],
   "source": [
    "gpu.memory_total"
   ]
  },
  {
   "cell_type": "code",
   "execution_count": 7,
   "metadata": {},
   "outputs": [
    {
     "data": {
      "text/plain": [
       "495"
      ]
     },
     "execution_count": 7,
     "metadata": {},
     "output_type": "execute_result"
    }
   ],
   "source": [
    "gpu.memory_used"
   ]
  },
  {
   "cell_type": "code",
   "execution_count": 8,
   "metadata": {},
   "outputs": [
    {
     "data": {
      "text/plain": [
       "14865"
      ]
     },
     "execution_count": 8,
     "metadata": {},
     "output_type": "execute_result"
    }
   ],
   "source": [
    "gpu.memory_free"
   ]
  },
  {
   "cell_type": "code",
   "execution_count": 9,
   "metadata": {},
   "outputs": [
    {
     "data": {
      "text/plain": [
       "14865"
      ]
     },
     "execution_count": 9,
     "metadata": {},
     "output_type": "execute_result"
    }
   ],
   "source": [
    "gpu.memory_available"
   ]
  },
  {
   "cell_type": "code",
   "execution_count": 10,
   "metadata": {},
   "outputs": [
    {
     "data": {
      "text/plain": [
       "0"
      ]
     },
     "execution_count": 10,
     "metadata": {},
     "output_type": "execute_result"
    }
   ],
   "source": [
    "gpu.index"
   ]
  },
  {
   "cell_type": "code",
   "execution_count": null,
   "metadata": {},
   "outputs": [],
   "source": []
  }
 ],
 "metadata": {
  "kernelspec": {
   "display_name": "Python 3.10.4 ('coreference')",
   "language": "python",
   "name": "python3"
  },
  "language_info": {
   "codemirror_mode": {
    "name": "ipython",
    "version": 3
   },
   "file_extension": ".py",
   "mimetype": "text/x-python",
   "name": "python",
   "nbconvert_exporter": "python",
   "pygments_lexer": "ipython3",
   "version": "3.10.4"
  },
  "orig_nbformat": 4,
  "vscode": {
   "interpreter": {
    "hash": "6e9e5767629d26198a734ee01c9558510355f25ffdcffebbd890d86f684e7226"
   }
  }
 },
 "nbformat": 4,
 "nbformat_minor": 2
}
