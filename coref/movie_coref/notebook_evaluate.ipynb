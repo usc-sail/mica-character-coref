{
 "cells": [
  {
   "cell_type": "code",
   "execution_count": 14,
   "metadata": {},
   "outputs": [],
   "source": [
    "import jsonlines\n",
    "import os"
   ]
  },
  {
   "cell_type": "code",
   "execution_count": 13,
   "metadata": {},
   "outputs": [
    {
     "name": "stdout",
     "output_type": "stream",
     "text": [
      "['avengers_endgame', 'dead_poets_society', 'john_wick', 'prestige', 'quiet_place', 'zootopia', 'shawshank', 'bourne', 'basterds']\n"
     ]
    }
   ],
   "source": [
    "movies_file = \"/workspace/mica-text-coref/data/annotation/movies.txt\"\n",
    "\n",
    "lines = open(movies_file).read().splitlines()\n",
    "\n",
    "movies = []\n",
    "\n",
    "for line in lines:\n",
    "    movie = line.split()[0]\n",
    "    movies.append(movie)\n",
    "\n",
    "print(movies)"
   ]
  },
  {
   "cell_type": "code",
   "execution_count": 6,
   "metadata": {},
   "outputs": [],
   "source": [
    "with jsonlines.open(\"./results/input/normal/movie_coref.wl.jsonlines\") as reader:\n",
    "    movie_coref = list(reader)\n",
    "\n",
    "for movie_data in movie_coref:\n",
    "    movie = movie_data[\"document_id\"][3:]\n",
    "    with jsonlines.open(f\"./results/input/normal/{movie}_coref.wl.jsonlines\", \"w\") as writer:\n",
    "        writer.write(movie_data)"
   ]
  },
  {
   "cell_type": "code",
   "execution_count": 12,
   "metadata": {},
   "outputs": [],
   "source": [
    "with jsonlines.open(\"./results/input/with_says/movie_with_says_coref.wl.jsonlines\") as reader:\n",
    "    movie_coref = list(reader)\n",
    "\n",
    "for movie_data in movie_coref:\n",
    "    movie = movie_data[\"document_id\"][3:]\n",
    "    with jsonlines.open(f\"./results/input/with_says/{movie}_with_says_coref.wl.jsonlines\", \"w\") as writer:\n",
    "        writer.write(movie_data)"
   ]
  },
  {
   "cell_type": "code",
   "execution_count": 10,
   "metadata": {},
   "outputs": [
    {
     "name": "stdout",
     "output_type": "stream",
     "text": [
      "8\n"
     ]
    }
   ],
   "source": [
    "movie_coref_output = []\n",
    "\n",
    "for movie in movies:\n",
    "\n",
    "    if movie == \"prestige\":\n",
    "        continue\n",
    "\n",
    "    with jsonlines.open(f\"./results/output/normal/{movie}_coref.wl.output.jsonlines\") as reader:\n",
    "        movie_data = list(reader)\n",
    "    \n",
    "    movie_coref_output += movie_data\n",
    "\n",
    "print(len(movie_coref_output))\n",
    "\n",
    "with jsonlines.open(\"./results/output/normal/movie_coref.wl.output.jsonlines\", \"w\") as writer:\n",
    "    for movie_data in movie_coref_output:\n",
    "        writer.write(movie_data)"
   ]
  },
  {
   "cell_type": "code",
   "execution_count": 16,
   "metadata": {},
   "outputs": [
    {
     "name": "stdout",
     "output_type": "stream",
     "text": [
      "7\n"
     ]
    }
   ],
   "source": [
    "movie_coref_output = []\n",
    "\n",
    "for movie in movies:\n",
    "\n",
    "    if os.path.exists(f\"./results/output/with_says/{movie}_with_says_coref.wl.output.jsonlines\"):\n",
    "\n",
    "        with jsonlines.open(f\"./results/output/with_says/{movie}_with_says_coref.wl.output.jsonlines\") as reader:\n",
    "            movie_data = list(reader)\n",
    "        \n",
    "        movie_coref_output += movie_data\n",
    "\n",
    "print(len(movie_coref_output))\n",
    "\n",
    "with jsonlines.open(\"./results/output/with_says/movie_with_says_coref.wl.output.jsonlines\", \"w\") as writer:\n",
    "    for movie_data in movie_coref_output:\n",
    "        writer.write(movie_data)"
   ]
  },
  {
   "cell_type": "code",
   "execution_count": null,
   "metadata": {},
   "outputs": [],
   "source": []
  }
 ],
 "metadata": {
  "interpreter": {
   "hash": "b6490c4b63b0bc740951354f4151b7620c31d919c9d1018450a3c8417b0dd2f7"
  },
  "kernelspec": {
   "display_name": "Python 3.8.12 ('coref')",
   "language": "python",
   "name": "python3"
  },
  "language_info": {
   "codemirror_mode": {
    "name": "ipython",
    "version": 3
   },
   "file_extension": ".py",
   "mimetype": "text/x-python",
   "name": "python",
   "nbconvert_exporter": "python",
   "pygments_lexer": "ipython3",
   "version": "3.8.12"
  },
  "orig_nbformat": 4
 },
 "nbformat": 4,
 "nbformat_minor": 2
}
