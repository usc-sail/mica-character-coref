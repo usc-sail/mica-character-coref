{
 "cells": [
  {
   "cell_type": "code",
   "execution_count": 1,
   "metadata": {},
   "outputs": [],
   "source": [
    "import pandas as pd\n",
    "import numpy as np"
   ]
  },
  {
   "cell_type": "code",
   "execution_count": 2,
   "metadata": {},
   "outputs": [],
   "source": [
    "results = pd.read_csv(\"results/coreference_evaluation.all.csv\", index_col=None)"
   ]
  },
  {
   "cell_type": "code",
   "execution_count": 3,
   "metadata": {},
   "outputs": [
    {
     "data": {
      "text/plain": [
       "(1728, 30)"
      ]
     },
     "execution_count": 3,
     "metadata": {},
     "output_type": "execute_result"
    }
   ],
   "source": [
    "results.shape"
   ]
  },
  {
   "cell_type": "code",
   "execution_count": 4,
   "metadata": {},
   "outputs": [
    {
     "data": {
      "text/plain": [
       "Index(['script', 'keep_only_speaker_gold_clusters',\n",
       "       'remove_singleton_gold_clusters', 'heuristic_pronoun_resolution',\n",
       "       'use_speaker_sep', 'keep_person_sys_clusters',\n",
       "       'keep_speaker_sys_clusters', 'heuristic_speaker_resolution',\n",
       "       'min_speaker_sim', 'max_speaker_merges', 'muc_R', 'muc_P', 'muc_F1',\n",
       "       'bcubed_R', 'bcubed_P', 'bcubed_F1', 'ceafe_R', 'ceafe_P', 'ceafe_F1',\n",
       "       'conll2012_R', 'conll2012_P', 'conll2012_F1', 'nec_F1',\n",
       "       'nec_per_chains_missed', 'nec_name_F1', 'nec_pronoun_F1',\n",
       "       'nec_nominal_F1', 'mention_P', 'mention_R', 'mention_F1'],\n",
       "      dtype='object')"
      ]
     },
     "execution_count": 4,
     "metadata": {},
     "output_type": "execute_result"
    }
   ],
   "source": [
    "results.columns"
   ]
  },
  {
   "cell_type": "code",
   "execution_count": 12,
   "metadata": {},
   "outputs": [
    {
     "data": {
      "text/html": [
       "<div>\n",
       "<style scoped>\n",
       "    .dataframe tbody tr th:only-of-type {\n",
       "        vertical-align: middle;\n",
       "    }\n",
       "\n",
       "    .dataframe tbody tr th {\n",
       "        vertical-align: top;\n",
       "    }\n",
       "\n",
       "    .dataframe thead th {\n",
       "        text-align: right;\n",
       "    }\n",
       "</style>\n",
       "<table border=\"1\" class=\"dataframe\">\n",
       "  <thead>\n",
       "    <tr style=\"text-align: right;\">\n",
       "      <th></th>\n",
       "      <th></th>\n",
       "      <th></th>\n",
       "      <th></th>\n",
       "      <th>muc_F1</th>\n",
       "      <th>conll2012_F1</th>\n",
       "    </tr>\n",
       "    <tr>\n",
       "      <th>use_speaker_sep</th>\n",
       "      <th>keep_person_sys_clusters</th>\n",
       "      <th>keep_speaker_sys_clusters</th>\n",
       "      <th>heuristic_speaker_resolution</th>\n",
       "      <th></th>\n",
       "      <th></th>\n",
       "    </tr>\n",
       "  </thead>\n",
       "  <tbody>\n",
       "    <tr>\n",
       "      <th rowspan=\"8\" valign=\"top\">False</th>\n",
       "      <th rowspan=\"4\" valign=\"top\">False</th>\n",
       "      <th rowspan=\"2\" valign=\"top\">False</th>\n",
       "      <th>False</th>\n",
       "      <td>0.697405</td>\n",
       "      <td>0.425499</td>\n",
       "    </tr>\n",
       "    <tr>\n",
       "      <th>True</th>\n",
       "      <td>0.729265</td>\n",
       "      <td>0.454440</td>\n",
       "    </tr>\n",
       "    <tr>\n",
       "      <th rowspan=\"2\" valign=\"top\">True</th>\n",
       "      <th>False</th>\n",
       "      <td>0.777597</td>\n",
       "      <td>0.514110</td>\n",
       "    </tr>\n",
       "    <tr>\n",
       "      <th>True</th>\n",
       "      <td>0.813855</td>\n",
       "      <td>0.562461</td>\n",
       "    </tr>\n",
       "    <tr>\n",
       "      <th rowspan=\"4\" valign=\"top\">True</th>\n",
       "      <th rowspan=\"2\" valign=\"top\">False</th>\n",
       "      <th>False</th>\n",
       "      <td>0.708032</td>\n",
       "      <td>0.454078</td>\n",
       "    </tr>\n",
       "    <tr>\n",
       "      <th>True</th>\n",
       "      <td>0.761363</td>\n",
       "      <td>0.521414</td>\n",
       "    </tr>\n",
       "    <tr>\n",
       "      <th rowspan=\"2\" valign=\"top\">True</th>\n",
       "      <th>False</th>\n",
       "      <td>0.713869</td>\n",
       "      <td>0.450576</td>\n",
       "    </tr>\n",
       "    <tr>\n",
       "      <th>True</th>\n",
       "      <td>0.768831</td>\n",
       "      <td>0.529049</td>\n",
       "    </tr>\n",
       "    <tr>\n",
       "      <th rowspan=\"8\" valign=\"top\">True</th>\n",
       "      <th rowspan=\"4\" valign=\"top\">False</th>\n",
       "      <th rowspan=\"2\" valign=\"top\">False</th>\n",
       "      <th>False</th>\n",
       "      <td>0.732497</td>\n",
       "      <td>0.477263</td>\n",
       "    </tr>\n",
       "    <tr>\n",
       "      <th>True</th>\n",
       "      <td>0.747812</td>\n",
       "      <td>0.499472</td>\n",
       "    </tr>\n",
       "    <tr>\n",
       "      <th rowspan=\"2\" valign=\"top\">True</th>\n",
       "      <th>False</th>\n",
       "      <td>0.815214</td>\n",
       "      <td>0.591059</td>\n",
       "    </tr>\n",
       "    <tr>\n",
       "      <th>True</th>\n",
       "      <td>0.832517</td>\n",
       "      <td>0.625046</td>\n",
       "    </tr>\n",
       "    <tr>\n",
       "      <th rowspan=\"4\" valign=\"top\">True</th>\n",
       "      <th rowspan=\"2\" valign=\"top\">False</th>\n",
       "      <th>False</th>\n",
       "      <td>0.788163</td>\n",
       "      <td>0.533759</td>\n",
       "    </tr>\n",
       "    <tr>\n",
       "      <th>True</th>\n",
       "      <td>0.808940</td>\n",
       "      <td>0.588007</td>\n",
       "    </tr>\n",
       "    <tr>\n",
       "      <th rowspan=\"2\" valign=\"top\">True</th>\n",
       "      <th>False</th>\n",
       "      <td>0.801358</td>\n",
       "      <td>0.543596</td>\n",
       "    </tr>\n",
       "    <tr>\n",
       "      <th>True</th>\n",
       "      <td>0.822705</td>\n",
       "      <td>0.605636</td>\n",
       "    </tr>\n",
       "  </tbody>\n",
       "</table>\n",
       "</div>"
      ],
      "text/plain": [
       "                                                                                                   muc_F1  \\\n",
       "use_speaker_sep keep_person_sys_clusters keep_speaker_sys_clusters heuristic_speaker_resolution             \n",
       "False           False                    False                     False                         0.697405   \n",
       "                                                                   True                          0.729265   \n",
       "                                         True                      False                         0.777597   \n",
       "                                                                   True                          0.813855   \n",
       "                True                     False                     False                         0.708032   \n",
       "                                                                   True                          0.761363   \n",
       "                                         True                      False                         0.713869   \n",
       "                                                                   True                          0.768831   \n",
       "True            False                    False                     False                         0.732497   \n",
       "                                                                   True                          0.747812   \n",
       "                                         True                      False                         0.815214   \n",
       "                                                                   True                          0.832517   \n",
       "                True                     False                     False                         0.788163   \n",
       "                                                                   True                          0.808940   \n",
       "                                         True                      False                         0.801358   \n",
       "                                                                   True                          0.822705   \n",
       "\n",
       "                                                                                                 conll2012_F1  \n",
       "use_speaker_sep keep_person_sys_clusters keep_speaker_sys_clusters heuristic_speaker_resolution                \n",
       "False           False                    False                     False                             0.425499  \n",
       "                                                                   True                              0.454440  \n",
       "                                         True                      False                             0.514110  \n",
       "                                                                   True                              0.562461  \n",
       "                True                     False                     False                             0.454078  \n",
       "                                                                   True                              0.521414  \n",
       "                                         True                      False                             0.450576  \n",
       "                                                                   True                              0.529049  \n",
       "True            False                    False                     False                             0.477263  \n",
       "                                                                   True                              0.499472  \n",
       "                                         True                      False                             0.591059  \n",
       "                                                                   True                              0.625046  \n",
       "                True                     False                     False                             0.533759  \n",
       "                                                                   True                              0.588007  \n",
       "                                         True                      False                             0.543596  \n",
       "                                                                   True                              0.605636  "
      ]
     },
     "execution_count": 12,
     "metadata": {},
     "output_type": "execute_result"
    }
   ],
   "source": [
    "results[(results[\"min_speaker_sim\"] == 1) & (results[\"max_speaker_merges\"] == 3)].groupby([\"use_speaker_sep\", \"keep_person_sys_clusters\", \"keep_speaker_sys_clusters\", \"heuristic_speaker_resolution\"])[\"muc_F1\", \"bcubed_F1\", \"ceafe_F1\", \"conll2012_F1\", \"nec_name_F1\"].mean()"
   ]
  },
  {
   "cell_type": "code",
   "execution_count": null,
   "metadata": {},
   "outputs": [],
   "source": []
  }
 ],
 "metadata": {
  "kernelspec": {
   "display_name": "python3.6.7",
   "language": "python",
   "name": "python3.6.7"
  },
  "language_info": {
   "codemirror_mode": {
    "name": "ipython",
    "version": 3
   },
   "file_extension": ".py",
   "mimetype": "text/x-python",
   "name": "python",
   "nbconvert_exporter": "python",
   "pygments_lexer": "ipython3",
   "version": "3.6.7"
  }
 },
 "nbformat": 4,
 "nbformat_minor": 4
}
