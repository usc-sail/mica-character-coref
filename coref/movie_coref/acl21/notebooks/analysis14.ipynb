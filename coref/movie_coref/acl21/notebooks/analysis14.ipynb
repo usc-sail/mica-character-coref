{
 "cells": [
  {
   "cell_type": "code",
   "execution_count": 19,
   "metadata": {},
   "outputs": [],
   "source": [
    "import pandas as pd\n",
    "import numpy as np\n",
    "import random\n",
    "from tqdm import tqdm, trange\n",
    "from allennlp.predictors.predictor import Predictor\n",
    "from evaluate_by_joining_elements import evaluate_coreference_by_joining_elements\n",
    "from collections import defaultdict\n",
    "import spacy\n",
    "from mlxtend import evaluate\n",
    "from evaluate_coreference import evaluate_coreference\n",
    "from scipy import stats"
   ]
  },
  {
   "cell_type": "code",
   "execution_count": 2,
   "metadata": {},
   "outputs": [
    {
     "name": "stderr",
     "output_type": "stream",
     "text": [
      "Did not use initialization regex that was passed: _context_layer._module.weight_hh.*\n",
      "Did not use initialization regex that was passed: _context_layer._module.weight_ih.*\n"
     ]
    }
   ],
   "source": [
    "predictor = Predictor.from_path(\"https://storage.googleapis.com/allennlp-public-models/coref-spanbert-large-2020.02.27.tar.gz\")"
   ]
  },
  {
   "cell_type": "code",
   "execution_count": 3,
   "metadata": {},
   "outputs": [],
   "source": [
    "basterds_parsed_file = f\"data/annotation/basterds.script_parsed.txt\"\n",
    "basterds_coref_file = f\"data/annotation/basterds.coref.mapped.csv\"\n",
    "\n",
    "bourne_parsed_file = f\"data/annotation/bourne.script_parsed.txt\"\n",
    "bourne_coref_file = f\"data/annotation/bourne.coref.mapped.csv\"\n",
    "\n",
    "shawshank_parsed_file = f\"data/annotation/shawshank.script_parsed.txt\"\n",
    "shawshank_coref_file = f\"data/annotation/shawshank.coref.mapped.csv\""
   ]
  },
  {
   "cell_type": "markdown",
   "metadata": {},
   "source": [
    "## Baseline"
   ]
  },
  {
   "cell_type": "code",
   "execution_count": 32,
   "metadata": {},
   "outputs": [
    {
     "name": "stdout",
     "output_type": "stream",
     "text": [
      "loading spacy model\n"
     ]
    },
    {
     "name": "stderr",
     "output_type": "stream",
     "text": [
      "  2%|▏         | 10/591 [00:00<00:06, 95.37it/s]"
     ]
    },
    {
     "name": "stdout",
     "output_type": "stream",
     "text": [
      "spacy tokenization of screenplay elements\n"
     ]
    },
    {
     "name": "stderr",
     "output_type": "stream",
     "text": [
      "100%|██████████| 591/591 [00:06<00:00, 88.59it/s]\n"
     ]
    },
    {
     "name": "stdout",
     "output_type": "stream",
     "text": [
      "finding global gold mention positions\n",
      "\t1008 gold mentions\n",
      "\t988 (98.02%) gold mentions found after parse\n",
      "\t980 (97.22%) gold mentions' spacy tokenization span found\n",
      "finding gold clusters\n",
      "23 gold clusters\n",
      "finding sys clusters\n",
      "\tallennlp coreference resolution\n",
      "\tspacy ner on document\n",
      "\tkeeping person sys clusters\n",
      "35 sys clusters\n",
      "MUC  : P = 0.8011 R = 0.6228 F1 = 0.7008\n",
      "B3   : P = 0.4809 R = 0.2044 F1 = 0.2868\n",
      "CEAFe: P = 0.2796 R = 0.4255 F1 = 0.3375\n",
      "CoNLL 2012 score: 0.4417\n",
      "loading spacy model\n"
     ]
    },
    {
     "name": "stderr",
     "output_type": "stream",
     "text": [
      "  1%|▏         | 9/649 [00:00<00:07, 89.48it/s]"
     ]
    },
    {
     "name": "stdout",
     "output_type": "stream",
     "text": [
      "spacy tokenization of screenplay elements\n"
     ]
    },
    {
     "name": "stderr",
     "output_type": "stream",
     "text": [
      "100%|██████████| 649/649 [00:07<00:00, 86.98it/s] \n"
     ]
    },
    {
     "name": "stdout",
     "output_type": "stream",
     "text": [
      "finding global gold mention positions\n",
      "\t911 gold mentions\n",
      "\t894 (98.13%) gold mentions found after parse\n",
      "\t887 (97.37%) gold mentions' spacy tokenization span found\n",
      "finding gold clusters\n",
      "38 gold clusters\n",
      "finding sys clusters\n",
      "\tallennlp coreference resolution\n",
      "\tspacy ner on document\n",
      "\tkeeping person sys clusters\n",
      "18 sys clusters\n",
      "MUC  : P = 0.8446 R = 0.7232 F1 = 0.7792\n",
      "B3   : P = 0.6379 R = 0.4518 F1 = 0.5289\n",
      "CEAFe: P = 0.2563 R = 0.1214 F1 = 0.1648\n",
      "CoNLL 2012 score: 0.4910\n",
      "loading spacy model\n"
     ]
    },
    {
     "name": "stderr",
     "output_type": "stream",
     "text": [
      "  2%|▏         | 8/525 [00:00<00:08, 63.61it/s]"
     ]
    },
    {
     "name": "stdout",
     "output_type": "stream",
     "text": [
      "spacy tokenization of screenplay elements\n"
     ]
    },
    {
     "name": "stderr",
     "output_type": "stream",
     "text": [
      "100%|██████████| 525/525 [00:06<00:00, 81.21it/s]\n"
     ]
    },
    {
     "name": "stdout",
     "output_type": "stream",
     "text": [
      "finding global gold mention positions\n",
      "\t888 gold mentions\n",
      "\t881 (99.21%) gold mentions found after parse\n",
      "\t880 (99.10%) gold mentions' spacy tokenization span found\n",
      "finding gold clusters\n",
      "44 gold clusters\n",
      "finding sys clusters\n",
      "\tallennlp coreference resolution\n",
      "\tspacy ner on document\n",
      "\tkeeping person sys clusters\n",
      "23 sys clusters\n",
      "MUC  : P = 0.8649 R = 0.5132 F1 = 0.6441\n",
      "B3   : P = 0.5397 R = 0.3619 F1 = 0.4333\n",
      "CEAFe: P = 0.3077 R = 0.1609 F1 = 0.2113\n",
      "CoNLL 2012 score: 0.4296\n"
     ]
    }
   ],
   "source": [
    "basterds_baseline_result = evaluate_coreference_by_joining_elements(basterds_parsed_file, basterds_coref_file, coreference_model=predictor, use_speaker_sep=False, keep_person_sys_clusters=True, heuristic_speaker_resolution=False, min_speaker_sim=0.6, max_speaker_merges=3)\n",
    "\n",
    "bourne_baseline_result = evaluate_coreference_by_joining_elements(bourne_parsed_file, bourne_coref_file, coreference_model=predictor, use_speaker_sep=False, keep_person_sys_clusters=True, heuristic_speaker_resolution=False, min_speaker_sim=0.6, max_speaker_merges=3)\n",
    "\n",
    "shawshank_baseline_result = evaluate_coreference_by_joining_elements(shawshank_parsed_file, shawshank_coref_file, coreference_model=predictor, use_speaker_sep=False, keep_person_sys_clusters=True, heuristic_speaker_resolution=False, min_speaker_sim=0.6, max_speaker_merges=3)"
   ]
  },
  {
   "cell_type": "markdown",
   "metadata": {},
   "source": [
    "## Model"
   ]
  },
  {
   "cell_type": "code",
   "execution_count": 4,
   "metadata": {
    "collapsed": true,
    "jupyter": {
     "outputs_hidden": true
    }
   },
   "outputs": [
    {
     "name": "stdout",
     "output_type": "stream",
     "text": [
      "loading spacy model\n"
     ]
    },
    {
     "name": "stderr",
     "output_type": "stream",
     "text": [
      "  1%|▏         | 8/591 [00:00<00:08, 72.59it/s]"
     ]
    },
    {
     "name": "stdout",
     "output_type": "stream",
     "text": [
      "spacy tokenization of screenplay elements\n"
     ]
    },
    {
     "name": "stderr",
     "output_type": "stream",
     "text": [
      "100%|██████████| 591/591 [00:07<00:00, 78.37it/s]\n"
     ]
    },
    {
     "name": "stdout",
     "output_type": "stream",
     "text": [
      "finding global gold mention positions\n",
      "\t1008 gold mentions\n",
      "\t988 (98.02%) gold mentions found after parse\n",
      "\t980 (97.22%) gold mentions' spacy tokenization span found\n",
      "finding gold clusters\n",
      "23 gold clusters\n",
      "finding sys clusters\n",
      "\tusing 'says' after character names\n",
      "\tallennlp coreference resolution\n"
     ]
    },
    {
     "name": "stderr",
     "output_type": "stream",
     "text": [
      "/pytorch/aten/src/ATen/native/BinaryOps.cpp:81: UserWarning: Integer division of tensors using div or / is deprecated, and in a future release div will perform true division as in Python 3. Use true_divide or floor_divide (// in Python) instead.\n"
     ]
    },
    {
     "name": "stdout",
     "output_type": "stream",
     "text": [
      "\tspacy ner on document\n",
      "\tkeeping speaker sys clusters\n",
      "\theuristic speaker clustering\n",
      "42 sys clusters\n",
      "MUC  : P = 0.7940 R = 0.7492 F1 = 0.7710\n",
      "B3   : P = 0.4604 R = 0.4563 F1 = 0.4583\n",
      "CEAFe: P = 0.2021 R = 0.3690 F1 = 0.2611\n",
      "CoNLL 2012 score: 0.4968\n",
      "loading spacy model\n"
     ]
    },
    {
     "name": "stderr",
     "output_type": "stream",
     "text": [
      "  1%|▏         | 9/649 [00:00<00:07, 86.57it/s]"
     ]
    },
    {
     "name": "stdout",
     "output_type": "stream",
     "text": [
      "spacy tokenization of screenplay elements\n"
     ]
    },
    {
     "name": "stderr",
     "output_type": "stream",
     "text": [
      "100%|██████████| 649/649 [00:07<00:00, 83.90it/s]\n"
     ]
    },
    {
     "name": "stdout",
     "output_type": "stream",
     "text": [
      "finding global gold mention positions\n",
      "\t911 gold mentions\n",
      "\t894 (98.13%) gold mentions found after parse\n",
      "\t887 (97.37%) gold mentions' spacy tokenization span found\n",
      "finding gold clusters\n",
      "38 gold clusters\n",
      "finding sys clusters\n",
      "\tusing 'says' after character names\n",
      "\tallennlp coreference resolution\n",
      "\tspacy ner on document\n",
      "\tkeeping speaker sys clusters\n",
      "\theuristic speaker clustering\n",
      "18 sys clusters\n",
      "MUC  : P = 0.9027 R = 0.8198 F1 = 0.8593\n",
      "B3   : P = 0.8070 R = 0.7005 F1 = 0.7500\n",
      "CEAFe: P = 0.5528 R = 0.2619 F1 = 0.3554\n",
      "CoNLL 2012 score: 0.6549\n",
      "loading spacy model\n"
     ]
    },
    {
     "name": "stderr",
     "output_type": "stream",
     "text": [
      "  2%|▏         | 8/525 [00:00<00:08, 58.85it/s]"
     ]
    },
    {
     "name": "stdout",
     "output_type": "stream",
     "text": [
      "spacy tokenization of screenplay elements\n"
     ]
    },
    {
     "name": "stderr",
     "output_type": "stream",
     "text": [
      "100%|██████████| 525/525 [00:06<00:00, 79.68it/s]\n"
     ]
    },
    {
     "name": "stdout",
     "output_type": "stream",
     "text": [
      "finding global gold mention positions\n",
      "\t888 gold mentions\n",
      "\t881 (99.21%) gold mentions found after parse\n",
      "\t880 (99.10%) gold mentions' spacy tokenization span found\n",
      "finding gold clusters\n",
      "44 gold clusters\n",
      "finding sys clusters\n",
      "\tusing 'says' after character names\n",
      "\tallennlp coreference resolution\n",
      "\tspacy ner on document\n",
      "\tkeeping speaker sys clusters\n",
      "\theuristic speaker clustering\n",
      "20 sys clusters\n",
      "MUC  : P = 0.9055 R = 0.8254 F1 = 0.8636\n",
      "B3   : P = 0.6002 R = 0.7177 F1 = 0.6537\n",
      "CEAFe: P = 0.6685 R = 0.3039 F1 = 0.4178\n",
      "CoNLL 2012 score: 0.6450\n"
     ]
    }
   ],
   "source": [
    "basterds_result = evaluate_coreference_by_joining_elements(basterds_parsed_file, basterds_coref_file, coreference_model=predictor, use_speaker_sep=True, keep_speaker_sys_clusters=True, heuristic_speaker_resolution=True, min_speaker_sim=0.6, max_speaker_merges=3)\n",
    "\n",
    "bourne_result = evaluate_coreference_by_joining_elements(bourne_parsed_file, bourne_coref_file, coreference_model=predictor, use_speaker_sep=True, keep_speaker_sys_clusters=True, heuristic_speaker_resolution=True, min_speaker_sim=0.6, max_speaker_merges=3)\n",
    "\n",
    "shawshank_result = evaluate_coreference_by_joining_elements(shawshank_parsed_file, shawshank_coref_file, coreference_model=predictor, use_speaker_sep=True, keep_speaker_sys_clusters=True, heuristic_speaker_resolution=True, min_speaker_sim=0.6, max_speaker_merges=3)"
   ]
  },
  {
   "cell_type": "markdown",
   "metadata": {},
   "source": [
    "## Model - Says"
   ]
  },
  {
   "cell_type": "code",
   "execution_count": 5,
   "metadata": {
    "collapsed": true,
    "jupyter": {
     "outputs_hidden": true
    }
   },
   "outputs": [
    {
     "name": "stdout",
     "output_type": "stream",
     "text": [
      "loading spacy model\n"
     ]
    },
    {
     "name": "stderr",
     "output_type": "stream",
     "text": [
      "  2%|▏         | 9/591 [00:00<00:06, 87.77it/s]"
     ]
    },
    {
     "name": "stdout",
     "output_type": "stream",
     "text": [
      "spacy tokenization of screenplay elements\n"
     ]
    },
    {
     "name": "stderr",
     "output_type": "stream",
     "text": [
      "100%|██████████| 591/591 [00:07<00:00, 82.45it/s]\n"
     ]
    },
    {
     "name": "stdout",
     "output_type": "stream",
     "text": [
      "finding global gold mention positions\n",
      "\t1008 gold mentions\n",
      "\t988 (98.02%) gold mentions found after parse\n",
      "\t980 (97.22%) gold mentions' spacy tokenization span found\n",
      "finding gold clusters\n",
      "23 gold clusters\n",
      "finding sys clusters\n",
      "\tallennlp coreference resolution\n",
      "\tspacy ner on document\n",
      "\tkeeping speaker sys clusters\n",
      "\theuristic speaker clustering\n",
      "47 sys clusters\n",
      "MUC  : P = 0.7674 R = 0.7273 F1 = 0.7468\n",
      "B3   : P = 0.3660 R = 0.2948 F1 = 0.3265\n",
      "CEAFe: P = 0.1727 R = 0.3529 F1 = 0.2319\n",
      "CoNLL 2012 score: 0.4351\n",
      "loading spacy model\n"
     ]
    },
    {
     "name": "stderr",
     "output_type": "stream",
     "text": [
      "  1%|          | 8/649 [00:00<00:08, 72.85it/s]"
     ]
    },
    {
     "name": "stdout",
     "output_type": "stream",
     "text": [
      "spacy tokenization of screenplay elements\n"
     ]
    },
    {
     "name": "stderr",
     "output_type": "stream",
     "text": [
      "100%|██████████| 649/649 [00:07<00:00, 84.17it/s]\n"
     ]
    },
    {
     "name": "stdout",
     "output_type": "stream",
     "text": [
      "finding global gold mention positions\n",
      "\t911 gold mentions\n",
      "\t894 (98.13%) gold mentions found after parse\n",
      "\t887 (97.37%) gold mentions' spacy tokenization span found\n",
      "finding gold clusters\n",
      "38 gold clusters\n",
      "finding sys clusters\n",
      "\tallennlp coreference resolution\n",
      "\tspacy ner on document\n",
      "\tkeeping speaker sys clusters\n",
      "\theuristic speaker clustering\n",
      "17 sys clusters\n",
      "MUC  : P = 0.9164 R = 0.7880 F1 = 0.8474\n",
      "B3   : P = 0.6962 R = 0.5334 F1 = 0.6040\n",
      "CEAFe: P = 0.5663 R = 0.2534 F1 = 0.3501\n",
      "CoNLL 2012 score: 0.6005\n",
      "loading spacy model\n"
     ]
    },
    {
     "name": "stderr",
     "output_type": "stream",
     "text": [
      "  2%|▏         | 8/525 [00:00<00:09, 52.50it/s]"
     ]
    },
    {
     "name": "stdout",
     "output_type": "stream",
     "text": [
      "spacy tokenization of screenplay elements\n"
     ]
    },
    {
     "name": "stderr",
     "output_type": "stream",
     "text": [
      "100%|██████████| 525/525 [00:06<00:00, 78.94it/s]\n"
     ]
    },
    {
     "name": "stdout",
     "output_type": "stream",
     "text": [
      "finding global gold mention positions\n",
      "\t888 gold mentions\n",
      "\t881 (99.21%) gold mentions found after parse\n",
      "\t880 (99.10%) gold mentions' spacy tokenization span found\n",
      "finding gold clusters\n",
      "44 gold clusters\n",
      "finding sys clusters\n",
      "\tallennlp coreference resolution\n",
      "\tspacy ner on document\n",
      "\tkeeping speaker sys clusters\n",
      "\theuristic speaker clustering\n",
      "21 sys clusters\n",
      "MUC  : P = 0.8906 R = 0.8086 F1 = 0.8476\n",
      "B3   : P = 0.5318 R = 0.5891 F1 = 0.5590\n",
      "CEAFe: P = 0.5555 R = 0.2651 F1 = 0.3589\n",
      "CoNLL 2012 score: 0.5885\n"
     ]
    }
   ],
   "source": [
    "basterds_result1 = evaluate_coreference_by_joining_elements(basterds_parsed_file, basterds_coref_file, coreference_model=predictor, use_speaker_sep=False, keep_speaker_sys_clusters=True, heuristic_speaker_resolution=True, min_speaker_sim=0.6, max_speaker_merges=3)\n",
    "\n",
    "bourne_result1 = evaluate_coreference_by_joining_elements(bourne_parsed_file, bourne_coref_file, coreference_model=predictor, use_speaker_sep=False, keep_speaker_sys_clusters=True, heuristic_speaker_resolution=True, min_speaker_sim=0.6, max_speaker_merges=3)\n",
    "\n",
    "shawshank_result1 = evaluate_coreference_by_joining_elements(shawshank_parsed_file, shawshank_coref_file, coreference_model=predictor, use_speaker_sep=False, keep_speaker_sys_clusters=True, heuristic_speaker_resolution=True, min_speaker_sim=0.6, max_speaker_merges=3)"
   ]
  },
  {
   "cell_type": "markdown",
   "metadata": {},
   "source": [
    "## Model - Speaker"
   ]
  },
  {
   "cell_type": "code",
   "execution_count": 6,
   "metadata": {
    "collapsed": true,
    "jupyter": {
     "outputs_hidden": true
    }
   },
   "outputs": [
    {
     "name": "stdout",
     "output_type": "stream",
     "text": [
      "loading spacy model\n"
     ]
    },
    {
     "name": "stderr",
     "output_type": "stream",
     "text": [
      "  1%|▏         | 8/591 [00:00<00:07, 79.35it/s]"
     ]
    },
    {
     "name": "stdout",
     "output_type": "stream",
     "text": [
      "spacy tokenization of screenplay elements\n"
     ]
    },
    {
     "name": "stderr",
     "output_type": "stream",
     "text": [
      "100%|██████████| 591/591 [00:06<00:00, 84.98it/s] \n"
     ]
    },
    {
     "name": "stdout",
     "output_type": "stream",
     "text": [
      "finding global gold mention positions\n",
      "\t1008 gold mentions\n",
      "\t988 (98.02%) gold mentions found after parse\n",
      "\t980 (97.22%) gold mentions' spacy tokenization span found\n",
      "finding gold clusters\n",
      "23 gold clusters\n",
      "finding sys clusters\n",
      "\tusing 'says' after character names\n",
      "\tallennlp coreference resolution\n",
      "\tspacy ner on document\n",
      "\tkeeping person sys clusters\n",
      "\theuristic speaker clustering\n",
      "59 sys clusters\n",
      "MUC  : P = 0.7885 R = 0.7482 F1 = 0.7678\n",
      "B3   : P = 0.4540 R = 0.4516 F1 = 0.4528\n",
      "CEAFe: P = 0.1923 R = 0.4934 F1 = 0.2768\n",
      "CoNLL 2012 score: 0.4991\n",
      "loading spacy model\n"
     ]
    },
    {
     "name": "stderr",
     "output_type": "stream",
     "text": [
      "  2%|▏         | 10/649 [00:00<00:06, 92.85it/s]"
     ]
    },
    {
     "name": "stdout",
     "output_type": "stream",
     "text": [
      "spacy tokenization of screenplay elements\n"
     ]
    },
    {
     "name": "stderr",
     "output_type": "stream",
     "text": [
      "100%|██████████| 649/649 [00:07<00:00, 85.02it/s]\n"
     ]
    },
    {
     "name": "stdout",
     "output_type": "stream",
     "text": [
      "finding global gold mention positions\n",
      "\t911 gold mentions\n",
      "\t894 (98.13%) gold mentions found after parse\n",
      "\t887 (97.37%) gold mentions' spacy tokenization span found\n",
      "finding gold clusters\n",
      "38 gold clusters\n",
      "finding sys clusters\n",
      "\tusing 'says' after character names\n",
      "\tallennlp coreference resolution\n",
      "\tspacy ner on document\n",
      "\tkeeping person sys clusters\n",
      "\theuristic speaker clustering\n",
      "30 sys clusters\n",
      "MUC  : P = 0.8586 R = 0.7939 F1 = 0.8250\n",
      "B3   : P = 0.7698 R = 0.6681 F1 = 0.7153\n",
      "CEAFe: P = 0.3243 R = 0.2560 F1 = 0.2862\n",
      "CoNLL 2012 score: 0.6088\n",
      "loading spacy model\n"
     ]
    },
    {
     "name": "stderr",
     "output_type": "stream",
     "text": [
      "  2%|▏         | 8/525 [00:00<00:07, 65.63it/s]"
     ]
    },
    {
     "name": "stdout",
     "output_type": "stream",
     "text": [
      "spacy tokenization of screenplay elements\n"
     ]
    },
    {
     "name": "stderr",
     "output_type": "stream",
     "text": [
      "100%|██████████| 525/525 [00:06<00:00, 79.02it/s]\n"
     ]
    },
    {
     "name": "stdout",
     "output_type": "stream",
     "text": [
      "finding global gold mention positions\n",
      "\t888 gold mentions\n",
      "\t881 (99.21%) gold mentions found after parse\n",
      "\t880 (99.10%) gold mentions' spacy tokenization span found\n",
      "finding gold clusters\n",
      "44 gold clusters\n",
      "finding sys clusters\n",
      "\tusing 'says' after character names\n",
      "\tallennlp coreference resolution\n",
      "\tspacy ner on document\n",
      "\tkeeping person sys clusters\n",
      "\theuristic speaker clustering\n",
      "39 sys clusters\n",
      "MUC  : P = 0.8807 R = 0.7859 F1 = 0.8306\n",
      "B3   : P = 0.5782 R = 0.6752 F1 = 0.6229\n",
      "CEAFe: P = 0.3454 R = 0.3061 F1 = 0.3246\n",
      "CoNLL 2012 score: 0.5927\n"
     ]
    }
   ],
   "source": [
    "basterds_result2 = evaluate_coreference_by_joining_elements(basterds_parsed_file, basterds_coref_file, coreference_model=predictor, use_speaker_sep=True, keep_person_sys_clusters=True, heuristic_speaker_resolution=True, min_speaker_sim=0.6, max_speaker_merges=3)\n",
    "\n",
    "bourne_result2 = evaluate_coreference_by_joining_elements(bourne_parsed_file, bourne_coref_file, coreference_model=predictor, use_speaker_sep=True, keep_person_sys_clusters=True, heuristic_speaker_resolution=True, min_speaker_sim=0.6, max_speaker_merges=3)\n",
    "\n",
    "shawshank_result2 = evaluate_coreference_by_joining_elements(shawshank_parsed_file, shawshank_coref_file, coreference_model=predictor, use_speaker_sep=True, keep_person_sys_clusters=True, heuristic_speaker_resolution=True, min_speaker_sim=0.6, max_speaker_merges=3)"
   ]
  },
  {
   "cell_type": "markdown",
   "metadata": {},
   "source": [
    "## Model - Speaker Cluster"
   ]
  },
  {
   "cell_type": "code",
   "execution_count": 7,
   "metadata": {
    "collapsed": true,
    "jupyter": {
     "outputs_hidden": true
    }
   },
   "outputs": [
    {
     "name": "stdout",
     "output_type": "stream",
     "text": [
      "loading spacy model\n"
     ]
    },
    {
     "name": "stderr",
     "output_type": "stream",
     "text": [
      "  2%|▏         | 9/591 [00:00<00:06, 87.33it/s]"
     ]
    },
    {
     "name": "stdout",
     "output_type": "stream",
     "text": [
      "spacy tokenization of screenplay elements\n"
     ]
    },
    {
     "name": "stderr",
     "output_type": "stream",
     "text": [
      "100%|██████████| 591/591 [00:07<00:00, 84.18it/s] \n"
     ]
    },
    {
     "name": "stdout",
     "output_type": "stream",
     "text": [
      "finding global gold mention positions\n",
      "\t1008 gold mentions\n",
      "\t988 (98.02%) gold mentions found after parse\n",
      "\t980 (97.22%) gold mentions' spacy tokenization span found\n",
      "finding gold clusters\n",
      "23 gold clusters\n",
      "finding sys clusters\n",
      "\tusing 'says' after character names\n",
      "\tallennlp coreference resolution\n",
      "\tspacy ner on document\n",
      "\tkeeping speaker sys clusters\n",
      "40 sys clusters\n",
      "MUC  : P = 0.7876 R = 0.6782 F1 = 0.7288\n",
      "B3   : P = 0.5691 R = 0.2532 F1 = 0.3505\n",
      "CEAFe: P = 0.2100 R = 0.3653 F1 = 0.2667\n",
      "CoNLL 2012 score: 0.4487\n",
      "loading spacy model\n"
     ]
    },
    {
     "name": "stderr",
     "output_type": "stream",
     "text": [
      "  1%|▏         | 9/649 [00:00<00:07, 87.19it/s]"
     ]
    },
    {
     "name": "stdout",
     "output_type": "stream",
     "text": [
      "spacy tokenization of screenplay elements\n"
     ]
    },
    {
     "name": "stderr",
     "output_type": "stream",
     "text": [
      "100%|██████████| 649/649 [00:07<00:00, 86.07it/s]\n"
     ]
    },
    {
     "name": "stdout",
     "output_type": "stream",
     "text": [
      "finding global gold mention positions\n",
      "\t911 gold mentions\n",
      "\t894 (98.13%) gold mentions found after parse\n",
      "\t887 (97.37%) gold mentions' spacy tokenization span found\n",
      "finding gold clusters\n",
      "38 gold clusters\n",
      "finding sys clusters\n",
      "\tusing 'says' after character names\n",
      "\tallennlp coreference resolution\n",
      "\tspacy ner on document\n",
      "\tkeeping speaker sys clusters\n",
      "18 sys clusters\n",
      "MUC  : P = 0.9129 R = 0.8021 F1 = 0.8539\n",
      "B3   : P = 0.8308 R = 0.6253 F1 = 0.7135\n",
      "CEAFe: P = 0.6887 R = 0.3262 F1 = 0.4427\n",
      "CoNLL 2012 score: 0.6701\n",
      "loading spacy model\n"
     ]
    },
    {
     "name": "stderr",
     "output_type": "stream",
     "text": [
      "  2%|▏         | 8/525 [00:00<00:08, 62.79it/s]"
     ]
    },
    {
     "name": "stdout",
     "output_type": "stream",
     "text": [
      "spacy tokenization of screenplay elements\n"
     ]
    },
    {
     "name": "stderr",
     "output_type": "stream",
     "text": [
      "100%|██████████| 525/525 [00:06<00:00, 78.97it/s]\n"
     ]
    },
    {
     "name": "stdout",
     "output_type": "stream",
     "text": [
      "finding global gold mention positions\n",
      "\t888 gold mentions\n",
      "\t881 (99.21%) gold mentions found after parse\n",
      "\t880 (99.10%) gold mentions' spacy tokenization span found\n",
      "finding gold clusters\n",
      "44 gold clusters\n",
      "finding sys clusters\n",
      "\tusing 'says' after character names\n",
      "\tallennlp coreference resolution\n",
      "\tspacy ner on document\n",
      "\tkeeping speaker sys clusters\n",
      "26 sys clusters\n",
      "MUC  : P = 0.9143 R = 0.8170 F1 = 0.8629\n",
      "B3   : P = 0.6874 R = 0.6628 F1 = 0.6749\n",
      "CEAFe: P = 0.5728 R = 0.3384 F1 = 0.4255\n",
      "CoNLL 2012 score: 0.6544\n"
     ]
    }
   ],
   "source": [
    "basterds_result3 = evaluate_coreference_by_joining_elements(basterds_parsed_file, basterds_coref_file, coreference_model=predictor, use_speaker_sep=True, keep_speaker_sys_clusters=True, heuristic_speaker_resolution=False, min_speaker_sim=0.6, max_speaker_merges=3)\n",
    "\n",
    "bourne_result3 = evaluate_coreference_by_joining_elements(bourne_parsed_file, bourne_coref_file, coreference_model=predictor, use_speaker_sep=True, keep_speaker_sys_clusters=True, heuristic_speaker_resolution=False, min_speaker_sim=0.6, max_speaker_merges=3)\n",
    "\n",
    "shawshank_result3 = evaluate_coreference_by_joining_elements(shawshank_parsed_file, shawshank_coref_file, coreference_model=predictor, use_speaker_sep=True, keep_speaker_sys_clusters=True, heuristic_speaker_resolution=False, min_speaker_sim=0.6, max_speaker_merges=3)"
   ]
  },
  {
   "cell_type": "markdown",
   "metadata": {},
   "source": [
    "## Permutation Test"
   ]
  },
  {
   "cell_type": "code",
   "execution_count": 8,
   "metadata": {},
   "outputs": [
    {
     "data": {
      "text/plain": [
       "dict_keys(['evaluation', 'gold_clusters', 'sys_clusters', 'coref_dataframe', 'document', 'coref_result', 'mention_tags', 'start_line_index', 'end_line_index'])"
      ]
     },
     "execution_count": 8,
     "metadata": {},
     "output_type": "execute_result"
    }
   ],
   "source": [
    "basterds_result.keys()"
   ]
  },
  {
   "cell_type": "code",
   "execution_count": 9,
   "metadata": {},
   "outputs": [
    {
     "data": {
      "text/plain": [
       "dict_keys(['muc', 'bcubed', 'ceafe', 'conll2012'])"
      ]
     },
     "execution_count": 9,
     "metadata": {},
     "output_type": "execute_result"
    }
   ],
   "source": [
    "basterds_result['evaluation'].keys()"
   ]
  },
  {
   "cell_type": "code",
   "execution_count": 10,
   "metadata": {},
   "outputs": [
    {
     "data": {
      "text/plain": [
       "dict_keys(['R', 'P', 'F1'])"
      ]
     },
     "execution_count": 10,
     "metadata": {},
     "output_type": "execute_result"
    }
   ],
   "source": [
    "basterds_result['evaluation']['conll2012'].keys()"
   ]
  },
  {
   "cell_type": "code",
   "execution_count": 11,
   "metadata": {},
   "outputs": [
    {
     "data": {
      "text/plain": [
       "(0, 591)"
      ]
     },
     "execution_count": 11,
     "metadata": {},
     "output_type": "execute_result"
    }
   ],
   "source": [
    "basterds_result[\"start_line_index\"], basterds_result[\"end_line_index\"]"
   ]
  },
  {
   "cell_type": "code",
   "execution_count": 12,
   "metadata": {},
   "outputs": [],
   "source": [
    "def scene_stats(result):\n",
    "    n_scenes = 0\n",
    "    n_tokens_arr = []\n",
    "    n_tokens = 0\n",
    "    i = 0\n",
    "\n",
    "    while i < len(result[\"mention_tags\"]):\n",
    "        if result[\"mention_tags\"][i] == \"S\":\n",
    "            n_scenes += 1\n",
    "            while i < len(result[\"mention_tags\"]) and result[\"mention_tags\"][i] == \"S\":\n",
    "                i += 1\n",
    "        else:\n",
    "            if i > 0 and result[\"mention_tags\"][i - 1] == \"S\":\n",
    "                n_tokens_arr.append(n_tokens)\n",
    "                n_tokens = 0\n",
    "            n_tokens += 1\n",
    "            i += 1\n",
    "    \n",
    "    if len(n_tokens_arr) < n_scenes:\n",
    "        n_tokens_arr.append(n_tokens)\n",
    "\n",
    "    print(f\"{n_scenes} scenes, #tokens in scenes = {n_tokens_arr}\")"
   ]
  },
  {
   "cell_type": "code",
   "execution_count": 13,
   "metadata": {},
   "outputs": [
    {
     "name": "stdout",
     "output_type": "stream",
     "text": [
      "4 scenes, #tokens in scenes = [0, 898, 37, 6810]\n"
     ]
    }
   ],
   "source": [
    "scene_stats(basterds_result)"
   ]
  },
  {
   "cell_type": "code",
   "execution_count": 57,
   "metadata": {},
   "outputs": [],
   "source": [
    "def division_F1(result, n_divisions):\n",
    "    gold_clusters = list(result[\"gold_clusters\"].values())\n",
    "    sys_clusters = result[\"sys_clusters\"]\n",
    "    n_tokens = len(result[\"mention_tags\"])\n",
    "    size = n_tokens // n_divisions\n",
    "\n",
    "    for j in range(n_divisions):\n",
    "        start_token_index = size * j\n",
    "        end_token_index = size * (j + 1)\n",
    "\n",
    "        pruned_gold_clusters = []\n",
    "        pruned_sys_clusters = []\n",
    "\n",
    "        for cluster in gold_clusters:\n",
    "            cluster = set([(i, j) for i, j in cluster if i >= start_token_index and j < end_token_index])\n",
    "            if len(cluster) > 0:\n",
    "                pruned_gold_clusters.append(cluster)\n",
    "\n",
    "        for cluster in sys_clusters:\n",
    "            cluster = set([(i, j) for i, j in cluster if i >= start_token_index and j < end_token_index])\n",
    "            if len(cluster) > 0:\n",
    "                pruned_sys_clusters.append(cluster)\n",
    "\n",
    "        n_gold_mentions = sum([1 for c in pruned_gold_clusters for m in c])\n",
    "        n_sys_mentions = sum([1 for c in pruned_sys_clusters for m in c])\n",
    "        \n",
    "#         print(f\"{i} {len(pruned_gold_clusters)} {len(pruned_sys_clusters)} {n_gold_mentions} {n_sys_mentions}\")\n",
    "        \n",
    "        F1 = evaluate_coreference(pruned_gold_clusters, pruned_sys_clusters, verbose=False)[\"conll2012\"][\"F1\"]\n",
    "        yield F1\n",
    "\n",
    "def test(rule, n_divisions):\n",
    "    assert rule in [0, 1, 2, 3]\n",
    "    \n",
    "    if rule == 0:\n",
    "        alt_results = [basterds_baseline_result, bourne_baseline_result, shawshank_baseline_result]\n",
    "    elif rule == 1:\n",
    "        alt_results = [basterds_result1, bourne_result1, shawshank_result1]\n",
    "    elif rule == 2:\n",
    "        alt_results = [basterds_result2, bourne_result2, shawshank_result2]\n",
    "    else:\n",
    "        alt_results = [basterds_result3, bourne_result3, shawshank_result3]\n",
    "        \n",
    "    results = [basterds_result, bourne_result, shawshank_result]\n",
    "    \n",
    "    if n_divisions > 1:\n",
    "        F1_arr = [F1 for result in results for F1 in division_F1(result, n_divisions)]\n",
    "        alt_F1_arr = [F1 for result in alt_results for F1 in division_F1(result, n_divisions)]\n",
    "    else:\n",
    "        F1_arr = [result[\"evaluation\"][\"conll2012\"][\"F1\"] for result in results]\n",
    "        alt_F1_arr = [result[\"evaluation\"][\"conll2012\"][\"F1\"] for result in alt_results]\n",
    "    \n",
    "    \n",
    "    for x in F1_arr:\n",
    "        print(f\"{x:.3f}\", end=\" \")\n",
    "    print()\n",
    "    for y in alt_F1_arr:\n",
    "        print(f\"{y:.3f}\", end=\" \")\n",
    "    print()\n",
    "    \n",
    "    F1_arr = np.array(F1_arr)\n",
    "    alt_F1_arr = np.array(alt_F1_arr)\n",
    "    \n",
    "    diff = F1_arr - alt_F1_arr\n",
    "    normal_pvalue = stats.shapiro(diff).pvalue\n",
    "    print(f\"H0:normality pvalue = {normal_pvalue:.3f}\")\n",
    "    _, pvalue = stats.ttest_rel(F1_arr, alt_F1_arr)\n",
    "    print(f\"T-test matched pairs H0: diff = 0 pvalue = {pvalue:.3f}\")\n",
    "    \n",
    "    pvalue = evaluate.permutation_test(F1_arr, alt_F1_arr, method=\"exact\", num_rounds=10000)\n",
    "    print(f\"permutation-test H0: same means pvalue = {pvalue:.3f}\")\n",
    "    \n",
    "    pvalue = evaluate.permutation_test(F1_arr - alt_F1_arr, np.zeros(len(F1_arr)), method=\"approximate\", num_rounds=10000)\n",
    "    print(f\"permutation-test H0: diff = 0 pvalue = {pvalue:.3f}\")"
   ]
  },
  {
   "cell_type": "code",
   "execution_count": 58,
   "metadata": {},
   "outputs": [
    {
     "name": "stdout",
     "output_type": "stream",
     "text": [
      "0.646 0.504 0.534 0.512 0.735 0.744 0.623 0.727 0.609 0.711 0.623 0.702 \n",
      "0.472 0.469 0.404 0.488 0.537 0.554 0.459 0.583 0.591 0.330 0.504 0.452 \n",
      "H0:normality pvalue = 0.352\n",
      "T-test matched pairs H0: diff = 0 pvalue = 0.000\n",
      "permutation-test H0: same means pvalue = 0.000\n",
      "permutation-test H0: diff = 0 pvalue = 0.000\n"
     ]
    }
   ],
   "source": [
    "test(0, n_divisions=4)"
   ]
  },
  {
   "cell_type": "code",
   "execution_count": null,
   "metadata": {},
   "outputs": [],
   "source": []
  }
 ],
 "metadata": {
  "kernelspec": {
   "display_name": "allennlp",
   "language": "python",
   "name": "allennlp"
  },
  "language_info": {
   "codemirror_mode": {
    "name": "ipython",
    "version": 3
   },
   "file_extension": ".py",
   "mimetype": "text/x-python",
   "name": "python",
   "nbconvert_exporter": "python",
   "pygments_lexer": "ipython3",
   "version": "3.6.7"
  }
 },
 "nbformat": 4,
 "nbformat_minor": 4
}
