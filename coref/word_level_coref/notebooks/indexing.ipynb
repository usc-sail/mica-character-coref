{
 "cells": [
  {
   "cell_type": "code",
   "execution_count": 1,
   "metadata": {},
   "outputs": [],
   "source": [
    "import torch"
   ]
  },
  {
   "cell_type": "code",
   "execution_count": 7,
   "metadata": {},
   "outputs": [
    {
     "name": "stdout",
     "output_type": "stream",
     "text": [
      "tensor([[ 2.5618e-01,  3.3226e-01,  4.8130e-01, -9.3854e-01, -9.7170e-01],\n",
      "        [-1.0546e+00, -6.6085e-02,  1.0697e+00,  7.9909e-01,  5.5631e-01],\n",
      "        [ 1.7949e+00, -2.1497e-01, -1.5403e-01,  4.4426e-02, -7.7781e-01],\n",
      "        [ 1.4190e-01,  1.2782e+00, -1.1070e+00, -4.7487e-01, -1.1851e+00],\n",
      "        [ 8.8170e-01,  7.3966e-01,  1.3822e-01,  3.2915e-01, -6.3017e-01],\n",
      "        [ 4.3565e-01,  1.3138e+00, -4.8758e-01, -2.2067e+00, -2.5352e-01],\n",
      "        [-1.3492e-01, -6.1838e-01,  2.4325e-01, -1.3214e-01,  9.7455e-04],\n",
      "        [-5.5636e-01, -6.8322e-01, -1.0738e+00,  4.7040e-01,  7.1143e-02],\n",
      "        [-1.0308e+00, -1.1290e+00, -3.2487e-01,  1.4191e+00,  8.0993e-02],\n",
      "        [ 1.3985e+00,  1.4575e-01, -5.3387e-01, -1.0747e+00,  1.6808e+00]])\n",
      "tensor([[-0.3928,  0.4072],\n",
      "        [-0.3063, -0.0190],\n",
      "        [-0.5324, -0.7111],\n",
      "        [ 0.5063, -1.0020]])\n"
     ]
    }
   ],
   "source": [
    "E = torch.randn((10, 5))\n",
    "I = torch.randn((4, 2))\n",
    "\n",
    "print(E)\n",
    "print(I)"
   ]
  },
  {
   "cell_type": "code",
   "execution_count": 8,
   "metadata": {},
   "outputs": [
    {
     "ename": "IndexError",
     "evalue": "tensors used as indices must be long, byte or bool tensors",
     "output_type": "error",
     "traceback": [
      "\u001b[0;31m---------------------------------------------------------------------------\u001b[0m",
      "\u001b[0;31mIndexError\u001b[0m                                Traceback (most recent call last)",
      "\u001b[1;32m/home/sbaruah_usc_edu/mica_text_coref/coref/word_level_coref/notebooks/indexing.ipynb Cell 3\u001b[0m in \u001b[0;36m<cell line: 1>\u001b[0;34m()\u001b[0m\n\u001b[0;32m----> <a href='vscode-notebook-cell://ssh-remote%2Bsailnlp.us-west1-b.sail-ccmi/home/sbaruah_usc_edu/mica_text_coref/coref/word_level_coref/notebooks/indexing.ipynb#W2sdnNjb2RlLXJlbW90ZQ%3D%3D?line=0'>1</a>\u001b[0m E[I]\n",
      "\u001b[0;31mIndexError\u001b[0m: tensors used as indices must be long, byte or bool tensors"
     ]
    }
   ],
   "source": [
    "E[I]"
   ]
  },
  {
   "cell_type": "code",
   "execution_count": null,
   "metadata": {},
   "outputs": [],
   "source": []
  }
 ],
 "metadata": {
  "kernelspec": {
   "display_name": "Python 3.10.4 ('coreference')",
   "language": "python",
   "name": "python3"
  },
  "language_info": {
   "codemirror_mode": {
    "name": "ipython",
    "version": 3
   },
   "file_extension": ".py",
   "mimetype": "text/x-python",
   "name": "python",
   "nbconvert_exporter": "python",
   "pygments_lexer": "ipython3",
   "version": "3.10.4"
  },
  "orig_nbformat": 4,
  "vscode": {
   "interpreter": {
    "hash": "6e9e5767629d26198a734ee01c9558510355f25ffdcffebbd890d86f684e7226"
   }
  }
 },
 "nbformat": 4,
 "nbformat_minor": 2
}
