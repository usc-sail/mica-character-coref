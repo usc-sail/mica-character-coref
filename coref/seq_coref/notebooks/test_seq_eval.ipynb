{
 "cells": [
  {
   "cell_type": "code",
   "execution_count": 1,
   "metadata": {},
   "outputs": [],
   "source": [
    "import torch"
   ]
  },
  {
   "cell_type": "code",
   "execution_count": 3,
   "metadata": {},
   "outputs": [
    {
     "name": "stdout",
     "output_type": "stream",
     "text": [
      "true: torch.Size([22601, 512]) torch.int64\n",
      "pred: torch.Size([22601, 512]) torch.int64\n",
      "attn: torch.Size([22601, 512]) torch.float32\n"
     ]
    }
   ],
   "source": [
    "true = torch.load(\"/home/sbaruah_usc_edu/mica_text_coref/data/results/epoch_1/train/labels.pt\")\n",
    "pred = torch.load(\"/home/sbaruah_usc_edu/mica_text_coref/data/results/epoch_1/train/predictions.pt\")\n",
    "attn = torch.load(\"/home/sbaruah_usc_edu/mica_text_coref/data/results/epoch_1/train/attn_mask.pt\")\n",
    "\n",
    "print(f\"true: {true.shape} {true.dtype}\")\n",
    "print(f\"pred: {pred.shape} {pred.dtype}\")\n",
    "print(f\"attn: {attn.shape} {attn.dtype}\")"
   ]
  },
  {
   "cell_type": "code",
   "execution_count": 4,
   "metadata": {},
   "outputs": [
    {
     "name": "stdout",
     "output_type": "stream",
     "text": [
      "active true: torch.Size([9387262]) torch.int64\n",
      "active pred: torch.Size([9387262]) torch.int64\n"
     ]
    }
   ],
   "source": [
    "active_true = true[attn == 1]\n",
    "active_pred = pred[attn == 1]\n",
    "\n",
    "print(f\"active true: {active_true.shape} {active_true.dtype}\")\n",
    "print(f\"active pred: {active_pred.shape} {active_pred.dtype}\")"
   ]
  },
  {
   "cell_type": "code",
   "execution_count": 5,
   "metadata": {},
   "outputs": [
    {
     "name": "stdout",
     "output_type": "stream",
     "text": [
      "tensor(0.0945) tensor(0.8833)\n"
     ]
    }
   ],
   "source": [
    "x = ((active_true != 0) & (active_true == active_pred)).sum()\n",
    "y = ((active_true != 0) & (active_true != active_pred)).sum()\n",
    "z = ((active_pred != 0) & (active_true != active_pred)).sum()\n",
    "r = x/(x + y)\n",
    "p = x/(x + z)\n",
    "print(p, r)"
   ]
  },
  {
   "cell_type": "code",
   "execution_count": null,
   "metadata": {},
   "outputs": [],
   "source": []
  }
 ],
 "metadata": {
  "kernelspec": {
   "display_name": "Python 3.10.4 ('coreference')",
   "language": "python",
   "name": "python3"
  },
  "language_info": {
   "codemirror_mode": {
    "name": "ipython",
    "version": 3
   },
   "file_extension": ".py",
   "mimetype": "text/x-python",
   "name": "python",
   "nbconvert_exporter": "python",
   "pygments_lexer": "ipython3",
   "version": "3.10.4"
  },
  "orig_nbformat": 4,
  "vscode": {
   "interpreter": {
    "hash": "6e9e5767629d26198a734ee01c9558510355f25ffdcffebbd890d86f684e7226"
   }
  }
 },
 "nbformat": 4,
 "nbformat_minor": 2
}
