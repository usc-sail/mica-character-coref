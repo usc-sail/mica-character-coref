{
 "cells": [
  {
   "cell_type": "code",
   "execution_count": 2,
   "metadata": {},
   "outputs": [],
   "source": [
    "import numpy as np\n",
    "import torch\n",
    "from torch import nn\n",
    "from transformers import LongformerTokenizer, LongformerModel"
   ]
  },
  {
   "cell_type": "code",
   "execution_count": 2,
   "metadata": {},
   "outputs": [
    {
     "name": "stderr",
     "output_type": "stream",
     "text": [
      "Some weights of the model checkpoint at allenai/longformer-base-4096 were not used when initializing LongformerModel: ['lm_head.dense.bias', 'lm_head.layer_norm.weight', 'lm_head.layer_norm.bias', 'lm_head.dense.weight', 'lm_head.decoder.weight', 'lm_head.bias']\n",
      "- This IS expected if you are initializing LongformerModel from the checkpoint of a model trained on another task or with another architecture (e.g. initializing a BertForSequenceClassification model from a BertForPreTraining model).\n",
      "- This IS NOT expected if you are initializing LongformerModel from the checkpoint of a model that you expect to be exactly identical (initializing a BertForSequenceClassification model from a BertForSequenceClassification model).\n"
     ]
    }
   ],
   "source": [
    "tokenizer = LongformerTokenizer.from_pretrained(\"allenai/longformer-base-4096\")\n",
    "model = LongformerModel.from_pretrained(\"allenai/longformer-base-4096\")"
   ]
  },
  {
   "cell_type": "code",
   "execution_count": 3,
   "metadata": {},
   "outputs": [],
   "source": [
    "document = \"\"\"Transformer-based models are unable to process long sequences due to their self-attention operation, which scales quadratically with the sequence length. To address this limitation, we introduce the Longformer with an attention mechanism that scales linearly with sequence length, making it easy to process documents of thousands of tokens or longer. Longformer's attention mechanism is a drop-in replacement for the standard self-attention and combines a local windowed attention with a task motivated global attention. Following prior work on long-sequence transformers, we evaluate Longformer on character-level language modeling and achieve state-of-the-art results on text8 and enwik8. In contrast to most prior work, we also pretrain Longformer and finetune it on a variety of downstream tasks. Our pretrained Longformer consistently outperforms RoBERTa on long document tasks and sets new state-of-the-art results on WikiHop and TriviaQA.\"\"\""
   ]
  },
  {
   "cell_type": "code",
   "execution_count": 4,
   "metadata": {},
   "outputs": [],
   "source": [
    "tokens = tokenizer.tokenize(document)"
   ]
  },
  {
   "cell_type": "code",
   "execution_count": 5,
   "metadata": {},
   "outputs": [
    {
     "name": "stdout",
     "output_type": "stream",
     "text": [
      "First 20 tokens = ['Trans', 'former', '-', 'based', 'Ġmodels', 'Ġare', 'Ġunable', 'Ġto', 'Ġprocess', 'Ġlong', 'Ġsequences', 'Ġdue', 'Ġto', 'Ġtheir', 'Ġself', '-', 'att', 'ention', 'Ġoperation', ',']\n",
      "Last  20 tokens = ['Ġand', 'Ġsets', 'Ġnew', 'Ġstate', '-', 'of', '-', 'the', '-', 'art', 'Ġresults', 'Ġon', 'ĠWiki', 'Hop', 'Ġand', 'ĠTri', 'via', 'Q', 'A', '.']\n",
      "Total number of tokens = 195\n"
     ]
    }
   ],
   "source": [
    "print(f\"First 20 tokens = {tokens[:20]}\")\n",
    "print(f\"Last  20 tokens = {tokens[-20:]}\")\n",
    "print(f\"Total number of tokens = {len(tokens)}\")"
   ]
  },
  {
   "cell_type": "code",
   "execution_count": 8,
   "metadata": {},
   "outputs": [
    {
     "name": "stdout",
     "output_type": "stream",
     "text": [
      "special ids  = [0, 2, 3, 1, 50264]\n",
      "special tokens map = {'bos_token': '<s>', 'eos_token': '</s>', 'unk_token': '<unk>', 'sep_token': '</s>', 'pad_token': '<pad>', 'cls_token': '<s>', 'mask_token': '<mask>'}\n",
      "\n",
      "pad token id = 1, pad_token = <pad>\n",
      "unk token id = 3, unk token = <unk>\n",
      "beginning-of-sentence (bos), bos token id = 0, bos token = <s>\n",
      "end-of-sentence (eos), eos token id = 2, eos token = </s>\n",
      "mask token id = 50264, mask token = <mask>\n",
      "cls token id = 0, cls token = <s>\n",
      "sep token id = 2, sep token = </s>\n",
      "\n",
      "model max length = 4096\n",
      "max length sentence = 4094\n",
      "max length sentence pair = 4092\n"
     ]
    }
   ],
   "source": [
    "print(f\"special ids  = {tokenizer.all_special_ids}\")\n",
    "print(f\"special tokens map = {tokenizer.special_tokens_map}\")\n",
    "print()\n",
    "\n",
    "print(f\"pad token id = {tokenizer.pad_token_id}, \"\n",
    "      f\"pad_token = {tokenizer.pad_token}\")\n",
    "print(f\"unk token id = {tokenizer.unk_token_id}, \"\n",
    "      f\"unk token = {tokenizer.unk_token}\")\n",
    "print(f\"beginning-of-sentence (bos), bos token id = {tokenizer.bos_token_id}, \"\n",
    "      f\"bos token = {tokenizer.bos_token}\")\n",
    "print(f\"end-of-sentence (eos), eos token id = {tokenizer.eos_token_id}, \"\n",
    "      f\"eos token = {tokenizer.eos_token}\")\n",
    "print(f\"mask token id = {tokenizer.mask_token_id}, \"\n",
    "      f\"mask token = {tokenizer.mask_token}\")\n",
    "print(f\"cls token id = {tokenizer.cls_token_id}, \"\n",
    "      f\"cls token = {tokenizer.cls_token}\")\n",
    "print(f\"sep token id = {tokenizer.sep_token_id}, \"\n",
    "      f\"sep token = {tokenizer.sep_token}\")\n",
    "print()\n",
    "\n",
    "print(f\"model max length = {tokenizer.model_max_length}\")\n",
    "print(f\"max length sentence = {tokenizer.max_len_single_sentence}\")\n",
    "print(f\"max length sentence pair = {tokenizer.max_len_sentences_pair}\")"
   ]
  },
  {
   "cell_type": "code",
   "execution_count": 9,
   "metadata": {},
   "outputs": [
    {
     "name": "stdout",
     "output_type": "stream",
     "text": [
      "Number of token ids = 195\n",
      "First 10 token ids = [19163, 22098, 12, 805, 3092, 32, 3276, 7, 609, 251]\n",
      "Last 10 token ids = [775, 15, 45569, 30158, 8, 6892, 11409, 1864, 250, 4]\n"
     ]
    }
   ],
   "source": [
    "token_ids = tokenizer.convert_tokens_to_ids(tokens)\n",
    "print(f\"Number of token ids = {len(token_ids)}\")\n",
    "print(f\"First 10 token ids = {token_ids[:10]}\")\n",
    "print(f\"Last 10 token ids = {token_ids[-10:]}\")"
   ]
  },
  {
   "cell_type": "code",
   "execution_count": 11,
   "metadata": {},
   "outputs": [
    {
     "data": {
      "text/plain": [
       "{'input_ids': [0, 19163, 22098, 12, 805, 3092, 32, 3276, 7, 609, 251, 26929, 528, 7, 49, 1403, 12, 2611, 19774, 2513, 6, 61, 21423, 15694, 338, 23050, 19, 5, 13931, 5933, 4, 598, 1100, 42, 22830, 6, 52, 6581, 5, 2597, 22098, 19, 41, 1503, 9562, 14, 21423, 24248, 23099, 19, 13931, 5933, 6, 442, 24, 1365, 7, 609, 2339, 9, 1583, 9, 22121, 50, 1181, 4, 2597, 22098, 18, 1503, 9562, 16, 10, 1874, 12, 179, 5010, 13, 5, 2526, 1403, 12, 2611, 19774, 8, 15678, 10, 400, 2931, 196, 1503, 19, 10, 3685, 7958, 720, 1503, 4, 3515, 2052, 173, 15, 251, 12, 46665, 7891, 268, 6, 52, 10516, 2597, 22098, 15, 2048, 12, 4483, 2777, 19039, 8, 3042, 194, 12, 1116, 12, 627, 12, 2013, 775, 15, 2788, 398, 8, 1177, 39224, 398, 4, 96, 5709, 7, 144, 2052, 173, 6, 52, 67, 11857, 9946, 2597, 22098, 8, 8746, 594, 4438, 24, 15, 10, 3143, 9, 18561, 8558, 4, 1541, 11857, 26492, 2597, 22098, 6566, 9980, 33334, 3830, 11126, 38495, 15, 251, 3780, 8558, 8, 3880, 92, 194, 12, 1116, 12, 627, 12, 2013, 775, 15, 45569, 30158, 8, 6892, 11409, 1864, 250, 4, 2], 'attention_mask': [1, 1, 1, 1, 1, 1, 1, 1, 1, 1, 1, 1, 1, 1, 1, 1, 1, 1, 1, 1, 1, 1, 1, 1, 1, 1, 1, 1, 1, 1, 1, 1, 1, 1, 1, 1, 1, 1, 1, 1, 1, 1, 1, 1, 1, 1, 1, 1, 1, 1, 1, 1, 1, 1, 1, 1, 1, 1, 1, 1, 1, 1, 1, 1, 1, 1, 1, 1, 1, 1, 1, 1, 1, 1, 1, 1, 1, 1, 1, 1, 1, 1, 1, 1, 1, 1, 1, 1, 1, 1, 1, 1, 1, 1, 1, 1, 1, 1, 1, 1, 1, 1, 1, 1, 1, 1, 1, 1, 1, 1, 1, 1, 1, 1, 1, 1, 1, 1, 1, 1, 1, 1, 1, 1, 1, 1, 1, 1, 1, 1, 1, 1, 1, 1, 1, 1, 1, 1, 1, 1, 1, 1, 1, 1, 1, 1, 1, 1, 1, 1, 1, 1, 1, 1, 1, 1, 1, 1, 1, 1, 1, 1, 1, 1, 1, 1, 1, 1, 1, 1, 1, 1, 1, 1, 1, 1, 1, 1, 1, 1, 1, 1, 1, 1, 1, 1, 1, 1, 1, 1, 1, 1, 1, 1, 1, 1, 1]}"
      ]
     },
     "execution_count": 11,
     "metadata": {},
     "output_type": "execute_result"
    }
   ],
   "source": [
    "tokenizer(document)"
   ]
  },
  {
   "cell_type": "code",
   "execution_count": 18,
   "metadata": {},
   "outputs": [],
   "source": [
    "token_ids_pt = torch.LongTensor(token_ids)\n",
    "attn_mask = torch.FloatTensor([1 for _ in range(len(token_ids))])\n",
    "global_attn_mask = torch.FloatTensor([0 for _ in range(len(token_ids))])\n",
    "global_attn_mask[100] = 1\n",
    "global_attn_mask[150] = 1\n",
    "output = model(token_ids_pt.unsqueeze(0), attn_mask.unsqueeze(0), \n",
    "                global_attn_mask.unsqueeze(0))"
   ]
  },
  {
   "cell_type": "code",
   "execution_count": 19,
   "metadata": {},
   "outputs": [
    {
     "data": {
      "text/plain": [
       "transformers.models.longformer.modeling_longformer.LongformerBaseModelOutputWithPooling"
      ]
     },
     "execution_count": 19,
     "metadata": {},
     "output_type": "execute_result"
    }
   ],
   "source": [
    "type(output)"
   ]
  },
  {
   "cell_type": "code",
   "execution_count": 21,
   "metadata": {},
   "outputs": [
    {
     "data": {
      "text/plain": [
       "(torch.Size([1, 195, 768]), torch.float32)"
      ]
     },
     "execution_count": 21,
     "metadata": {},
     "output_type": "execute_result"
    }
   ],
   "source": [
    "output.last_hidden_state.shape, output.last_hidden_state.dtype"
   ]
  },
  {
   "cell_type": "code",
   "execution_count": 24,
   "metadata": {},
   "outputs": [
    {
     "name": "stdout",
     "output_type": "stream",
     "text": [
      "torch.Size([5, 12, 10]) torch.float32\n"
     ]
    }
   ],
   "source": [
    "embed = nn.Embedding(3, 10)\n",
    "embedding_ids = np.random.randint(0, 3, size=(5, 12))\n",
    "embedding_ids_pt = torch.IntTensor(embedding_ids)\n",
    "embedding_out = embed(embedding_ids_pt)\n",
    "print(embedding_out.shape, embedding_out.dtype)"
   ]
  },
  {
   "cell_type": "code",
   "execution_count": 26,
   "metadata": {},
   "outputs": [
    {
     "name": "stdout",
     "output_type": "stream",
     "text": [
      "torch.int32 torch.Size([5, 12])\n"
     ]
    }
   ],
   "source": [
    "embedding_argmax = embedding_out.argmax(dim=2).int()\n",
    "print(embedding_argmax.dtype, embedding_argmax.shape)"
   ]
  },
  {
   "cell_type": "code",
   "execution_count": 27,
   "metadata": {},
   "outputs": [
    {
     "data": {
      "text/plain": [
       "tensor([[9, 9, 9, 6, 9, 6, 9, 9, 6, 9, 9, 9],\n",
       "        [9, 9, 6, 9, 6, 9, 9, 9, 9, 9, 9, 9],\n",
       "        [9, 9, 9, 9, 6, 9, 6, 6, 9, 9, 6, 9],\n",
       "        [6, 9, 6, 9, 9, 9, 6, 6, 9, 9, 6, 9],\n",
       "        [6, 6, 9, 6, 6, 6, 6, 9, 9, 6, 9, 6]], dtype=torch.int32)"
      ]
     },
     "execution_count": 27,
     "metadata": {},
     "output_type": "execute_result"
    }
   ],
   "source": [
    "embedding_argmax"
   ]
  },
  {
   "cell_type": "code",
   "execution_count": 29,
   "metadata": {},
   "outputs": [
    {
     "name": "stdout",
     "output_type": "stream",
     "text": [
      "label_ids : shape=torch.Size([10, 12]) dtype=torch.int32\n",
      "attn      : shape=torch.Size([10, 12]) dtype=torch.float32\n",
      "logits    : shape=torch.Size([10, 12, 3]) dtype=torch.float32\n"
     ]
    }
   ],
   "source": [
    "B = 10\n",
    "L = 12\n",
    "C = 3\n",
    "label_ids = torch.IntTensor(np.random.randint(0, C, size=(B, L)))\n",
    "attn = np.zeros((B, L), dtype=float)\n",
    "for i in range(B):\n",
    "    l = np.random.randint(0, L + 1)\n",
    "    attn[i, :l] = 1.\n",
    "attn = torch.FloatTensor(attn)\n",
    "logits = torch.FloatTensor(np.random.randn(B, L, C))\n",
    "\n",
    "print(f\"label_ids : shape={label_ids.shape} dtype={label_ids.dtype}\")\n",
    "print(f\"attn      : shape={attn.shape} dtype={attn.dtype}\")\n",
    "print(f\"logits    : shape={logits.shape} dtype={logits.dtype}\")"
   ]
  },
  {
   "cell_type": "code",
   "execution_count": 31,
   "metadata": {},
   "outputs": [
    {
     "data": {
      "text/plain": [
       "tensor([[1., 1., 1., 1., 1., 1., 1., 0., 0., 0., 0., 0.],\n",
       "        [1., 0., 0., 0., 0., 0., 0., 0., 0., 0., 0., 0.],\n",
       "        [1., 1., 1., 1., 1., 1., 0., 0., 0., 0., 0., 0.],\n",
       "        [1., 1., 1., 0., 0., 0., 0., 0., 0., 0., 0., 0.],\n",
       "        [1., 1., 1., 1., 1., 1., 1., 1., 1., 1., 0., 0.],\n",
       "        [1., 1., 1., 1., 1., 1., 0., 0., 0., 0., 0., 0.],\n",
       "        [1., 1., 1., 1., 1., 0., 0., 0., 0., 0., 0., 0.],\n",
       "        [1., 1., 1., 1., 1., 1., 1., 1., 0., 0., 0., 0.],\n",
       "        [1., 1., 1., 1., 1., 1., 1., 1., 1., 1., 0., 0.],\n",
       "        [1., 1., 1., 1., 1., 1., 1., 1., 1., 1., 1., 1.]])"
      ]
     },
     "execution_count": 31,
     "metadata": {},
     "output_type": "execute_result"
    }
   ],
   "source": [
    "attn"
   ]
  },
  {
   "cell_type": "code",
   "execution_count": 33,
   "metadata": {},
   "outputs": [
    {
     "data": {
      "text/plain": [
       "tensor([[0, 1, 0, 0, 1, 1, 0, 0, 2, 1, 2, 2],\n",
       "        [2, 0, 2, 1, 2, 1, 1, 2, 1, 0, 1, 0],\n",
       "        [0, 2, 0, 0, 0, 0, 1, 2, 1, 1, 0, 2],\n",
       "        [2, 1, 2, 2, 0, 1, 0, 1, 2, 1, 1, 0],\n",
       "        [2, 0, 0, 2, 2, 0, 0, 2, 1, 1, 2, 0],\n",
       "        [2, 1, 2, 1, 2, 0, 2, 2, 2, 0, 2, 0],\n",
       "        [1, 1, 1, 2, 0, 1, 0, 0, 1, 0, 2, 1],\n",
       "        [2, 2, 0, 1, 1, 0, 0, 1, 1, 1, 1, 0],\n",
       "        [0, 1, 0, 2, 0, 0, 0, 0, 0, 2, 1, 0],\n",
       "        [2, 0, 1, 2, 2, 1, 0, 2, 2, 2, 2, 2]], dtype=torch.int32)"
      ]
     },
     "execution_count": 33,
     "metadata": {},
     "output_type": "execute_result"
    }
   ],
   "source": [
    "label_ids"
   ]
  },
  {
   "cell_type": "code",
   "execution_count": 34,
   "metadata": {},
   "outputs": [
    {
     "name": "stdout",
     "output_type": "stream",
     "text": [
      "tensor([0, 1, 0, 0, 1, 1, 0, 2, 0, 2, 0, 0, 0, 0, 2, 1, 2, 2, 0, 0, 2, 2, 0, 0,\n",
      "        2, 1, 1, 2, 1, 2, 1, 2, 0, 1, 1, 1, 2, 0, 2, 2, 0, 1, 1, 0, 0, 1, 0, 1,\n",
      "        0, 2, 0, 0, 0, 0, 0, 2, 2, 0, 1, 2, 2, 1, 0, 2, 2, 2, 2, 2],\n",
      "       dtype=torch.int32)\n",
      "torch.Size([68])\n"
     ]
    }
   ],
   "source": [
    "print(label_ids[attn == 1.])\n",
    "print(label_ids[attn == 1.].shape)"
   ]
  },
  {
   "cell_type": "code",
   "execution_count": 47,
   "metadata": {},
   "outputs": [
    {
     "name": "stdout",
     "output_type": "stream",
     "text": [
      "torch.Size([120, 3]) torch.Size([120])\n",
      "torch.Size([68, 3])\n"
     ]
    }
   ],
   "source": [
    "print(logits.flatten(0, 1).shape, attn.flatten().shape)\n",
    "print(logits.flatten(0, 1)[attn.flatten() == 1.].shape)"
   ]
  },
  {
   "cell_type": "code",
   "execution_count": 48,
   "metadata": {},
   "outputs": [
    {
     "name": "stdout",
     "output_type": "stream",
     "text": [
      "active labels : shape = torch.Size([68]), dtype = torch.int32\n",
      "active logits : shape = torch.Size([68, 3]), dtype = torch.float32\n"
     ]
    }
   ],
   "source": [
    "active_labels = label_ids[attn == 1.]\n",
    "active_logits = logits.flatten(0, 1)[attn.flatten() == 1.]\n",
    "print(f\"active labels : shape = {active_labels.shape}, \"\n",
    "      f\"dtype = {active_labels.dtype}\")\n",
    "print(f\"active logits : shape = {active_logits.shape}, \"\n",
    "      f\"dtype = {active_logits.dtype}\")"
   ]
  },
  {
   "cell_type": "code",
   "execution_count": 51,
   "metadata": {},
   "outputs": [
    {
     "name": "stdout",
     "output_type": "stream",
     "text": [
      "label distribution = [27 17 24]\n"
     ]
    }
   ],
   "source": [
    "label_count = np.bincount(active_labels)\n",
    "print(f\"label distribution = {label_count}\")"
   ]
  },
  {
   "cell_type": "code",
   "execution_count": 59,
   "metadata": {},
   "outputs": [
    {
     "name": "stdout",
     "output_type": "stream",
     "text": [
      "class weight = tensor([0.0357, 0.0556, 0.0400]), device = cpu\n"
     ]
    }
   ],
   "source": [
    "weights = torch.FloatTensor(1/(1 + label_count), device=\"cpu\")\n",
    "print(f\"class weight = {weights}, device = {weights.device}\")"
   ]
  },
  {
   "cell_type": "code",
   "execution_count": 60,
   "metadata": {},
   "outputs": [
    {
     "name": "stdout",
     "output_type": "stream",
     "text": [
      "groundtruth = torch.int32 torch.Size([50]), prediction = torch.int32 torch.Size([50]), id = 40\n",
      "groundtruth = torch.int32 torch.Size([50]), prediction = torch.int32 torch.Size([50]), id = 28\n",
      "groundtruth = torch.int32 torch.Size([50]), prediction = torch.int32 torch.Size([50]), id = 59\n",
      "groundtruth = torch.int32 torch.Size([50]), prediction = torch.int32 torch.Size([50]), id = 64\n",
      "groundtruth = torch.int32 torch.Size([50]), prediction = torch.int32 torch.Size([50]), id = 69\n",
      "groundtruth = torch.int32 torch.Size([50]), prediction = torch.int32 torch.Size([50]), id = 7\n",
      "groundtruth = torch.int32 torch.Size([50]), prediction = torch.int32 torch.Size([50]), id = 36\n",
      "groundtruth = torch.int32 torch.Size([50]), prediction = torch.int32 torch.Size([50]), id = 42\n",
      "groundtruth = torch.int32 torch.Size([50]), prediction = torch.int32 torch.Size([50]), id = 93\n",
      "groundtruth = torch.int32 torch.Size([50]), prediction = torch.int32 torch.Size([50]), id = 9\n"
     ]
    }
   ],
   "source": [
    "groundtruth = torch.IntTensor(np.random.randint(0, 5, size=(10, 50)))\n",
    "predictions = torch.IntTensor(np.random.randint(0, 5, size=(10, 50)))\n",
    "identifiers = torch.IntTensor(np.random.randint(0, 100, size=(10)))\n",
    "\n",
    "for gt, pred, ident in zip(groundtruth, predictions, identifiers):\n",
    "    print(f\"groundtruth = {gt.dtype} {gt.shape}, \"\n",
    "          f\"prediction = {pred.dtype} {pred.shape}, id = {ident}\")"
   ]
  },
  {
   "cell_type": "code",
   "execution_count": 4,
   "metadata": {},
   "outputs": [],
   "source": [
    "x = torch.randint(0, 5, size=(1, 1)).to(\"cuda:0\")"
   ]
  },
  {
   "cell_type": "code",
   "execution_count": 5,
   "metadata": {},
   "outputs": [
    {
     "data": {
      "text/plain": [
       "tensor([[4]], device='cuda:0')"
      ]
     },
     "execution_count": 5,
     "metadata": {},
     "output_type": "execute_result"
    }
   ],
   "source": [
    "x"
   ]
  },
  {
   "cell_type": "code",
   "execution_count": 7,
   "metadata": {},
   "outputs": [
    {
     "data": {
      "text/plain": [
       "int"
      ]
     },
     "execution_count": 7,
     "metadata": {},
     "output_type": "execute_result"
    }
   ],
   "source": [
    "type(x.item())"
   ]
  },
  {
   "cell_type": "code",
   "execution_count": null,
   "metadata": {},
   "outputs": [],
   "source": []
  }
 ],
 "metadata": {
  "kernelspec": {
   "display_name": "Python 3.10.4 ('coreference')",
   "language": "python",
   "name": "python3"
  },
  "language_info": {
   "codemirror_mode": {
    "name": "ipython",
    "version": 3
   },
   "file_extension": ".py",
   "mimetype": "text/x-python",
   "name": "python",
   "nbconvert_exporter": "python",
   "pygments_lexer": "ipython3",
   "version": "3.10.4"
  },
  "orig_nbformat": 4,
  "vscode": {
   "interpreter": {
    "hash": "6e9e5767629d26198a734ee01c9558510355f25ffdcffebbd890d86f684e7226"
   }
  }
 },
 "nbformat": 4,
 "nbformat_minor": 2
}
