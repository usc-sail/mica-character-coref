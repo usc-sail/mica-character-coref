{
 "cells": [
  {
   "cell_type": "code",
   "execution_count": 30,
   "metadata": {},
   "outputs": [],
   "source": [
    "from mica_text_coref.coref.seq_coref import data\n",
    "from mica_text_coref.coref.seq_coref import data_util\n",
    "from mica_text_coref.coref.seq_coref import util\n",
    "\n",
    "import time\n",
    "import torch\n",
    "import tqdm"
   ]
  },
  {
   "cell_type": "code",
   "execution_count": 2,
   "metadata": {},
   "outputs": [],
   "source": [
    "train_dataset = data_util.load_tensors((\"/home/sbaruah_usc_edu/\"\n",
    "    \"mica_text_coref/data/tensors/longformer_seq_tensors_512/train/\"),\n",
    "    device=\"cpu\")\n",
    "(token_ids, mention_ids, label_ids,\n",
    "    attn_mask, global_attn_mask, doc_ids) = train_dataset.tensors"
   ]
  },
  {
   "cell_type": "code",
   "execution_count": 27,
   "metadata": {},
   "outputs": [],
   "source": [
    "def convert_tensor_to_cluster(tensor: torch.LongTensor) -> set[data.Mention]:\n",
    "    \"\"\"Find the set of mentions from the annotated tensor\"\"\"\n",
    "    cluster: set[data.Mention] = set()\n",
    "    i = 0\n",
    "    while i < len(tensor):\n",
    "        if tensor[i] == 1:\n",
    "            j = i + 1\n",
    "            while j < len(tensor) and tensor[j] == 2:\n",
    "                j += 1\n",
    "            mention = data.Mention(i, j - 1)\n",
    "            cluster.add(mention)\n",
    "            i = j\n",
    "        else:\n",
    "            i += 1\n",
    "    return cluster\n",
    "\n",
    "def fast_convert_tensor_to_cluster(\n",
    "    tensor: torch.LongTensor) -> set[data.Mention]:\n",
    "    \"\"\"Find the set of mentions from the annotated tensor\"\"\"\n",
    "    cluster: set[data.Mention] = set()\n",
    "    n = len(tensor)\n",
    "    for i in torch.where(tensor == 1)[0]:\n",
    "        i = i.item()\n",
    "        j = i + 1\n",
    "        while j < n and tensor[j] == 2:\n",
    "            j += 1\n",
    "        mention = data.Mention(i, j - 1)\n",
    "        cluster.add(mention)\n",
    "    return cluster"
   ]
  },
  {
   "cell_type": "code",
   "execution_count": 31,
   "metadata": {},
   "outputs": [
    {
     "name": "stderr",
     "output_type": "stream",
     "text": [
      "100%|██████████| 22601/22601 [01:19<00:00, 285.86it/s]"
     ]
    },
    {
     "name": "stdout",
     "output_type": "stream",
     "text": [
      "0h 1m 19s\n"
     ]
    },
    {
     "name": "stderr",
     "output_type": "stream",
     "text": [
      "\n"
     ]
    }
   ],
   "source": [
    "start_time = time.time()\n",
    "\n",
    "for labels, attn in tqdm.tqdm(zip(label_ids, attn_mask), total=len(label_ids)):\n",
    "    convert_tensor_to_cluster(labels[attn == 1.])\n",
    "\n",
    "time_taken_str = util.convert_float_seconds_to_time_string(\n",
    "    time.time() - start_time)\n",
    "print(time_taken_str)"
   ]
  },
  {
   "cell_type": "code",
   "execution_count": 32,
   "metadata": {},
   "outputs": [
    {
     "name": "stderr",
     "output_type": "stream",
     "text": [
      "100%|██████████| 22601/22601 [00:03<00:00, 7456.34it/s]"
     ]
    },
    {
     "name": "stdout",
     "output_type": "stream",
     "text": [
      "0h 0m 3s\n"
     ]
    },
    {
     "name": "stderr",
     "output_type": "stream",
     "text": [
      "\n"
     ]
    }
   ],
   "source": [
    "start_time = time.time()\n",
    "\n",
    "for labels, attn in tqdm.tqdm(zip(label_ids, attn_mask), total=len(label_ids)):\n",
    "    fast_convert_tensor_to_cluster(labels[attn == 1.])\n",
    "\n",
    "time_taken_str = util.convert_float_seconds_to_time_string(\n",
    "    time.time() - start_time)\n",
    "print(time_taken_str)"
   ]
  },
  {
   "cell_type": "code",
   "execution_count": null,
   "metadata": {},
   "outputs": [],
   "source": []
  }
 ],
 "metadata": {
  "kernelspec": {
   "display_name": "Python 3.10.4 ('coreference')",
   "language": "python",
   "name": "python3"
  },
  "language_info": {
   "codemirror_mode": {
    "name": "ipython",
    "version": 3
   },
   "file_extension": ".py",
   "mimetype": "text/x-python",
   "name": "python",
   "nbconvert_exporter": "python",
   "pygments_lexer": "ipython3",
   "version": "3.10.4"
  },
  "orig_nbformat": 4,
  "vscode": {
   "interpreter": {
    "hash": "6e9e5767629d26198a734ee01c9558510355f25ffdcffebbd890d86f684e7226"
   }
  }
 },
 "nbformat": 4,
 "nbformat_minor": 2
}
