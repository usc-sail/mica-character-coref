{
 "cells": [
  {
   "cell_type": "code",
   "execution_count": 1,
   "metadata": {},
   "outputs": [],
   "source": [
    "import numpy as np"
   ]
  },
  {
   "cell_type": "code",
   "execution_count": 5,
   "metadata": {},
   "outputs": [],
   "source": [
    "conll_lines = []\n",
    "doc_id, word_id = -1, 0\n",
    "\n",
    "with open(\"/home/sbaruah_usc_edu/mica_text_coref/data/temp/test.english.conll\") as fr:\n",
    "    for line in fr:\n",
    "        line = line.strip()\n",
    "        newline = line\n",
    "        if len(line.strip()) == 0:\n",
    "            word_id = 0\n",
    "        elif line.startswith(\"#begin\"):\n",
    "            doc_id += 1\n",
    "            newline = f\"#begin document doc_{doc_id}; part 000\"\n",
    "        elif line.startswith(\"#end\"):\n",
    "            word_id = 0\n",
    "        else:\n",
    "            elements = line.split()\n",
    "            label = elements[-1]\n",
    "            newline = f\"doc_{doc_id} 0 {word_id} -- - - - - - - - \" + label\n",
    "            word_id += 1\n",
    "        conll_lines.append(newline)\n",
    "\n",
    "with open(\"/home/sbaruah_usc_edu/mica_text_coref/data/temp/test2.english.conll\", \"w\") as fw:\n",
    "    fw.write(\"\\n\".join(conll_lines))"
   ]
  },
  {
   "cell_type": "code",
   "execution_count": null,
   "metadata": {},
   "outputs": [],
   "source": []
  }
 ],
 "metadata": {
  "kernelspec": {
   "display_name": "Python 3.10.4 ('coreference')",
   "language": "python",
   "name": "python3"
  },
  "language_info": {
   "codemirror_mode": {
    "name": "ipython",
    "version": 3
   },
   "file_extension": ".py",
   "mimetype": "text/x-python",
   "name": "python",
   "nbconvert_exporter": "python",
   "pygments_lexer": "ipython3",
   "version": "3.10.4"
  },
  "orig_nbformat": 4,
  "vscode": {
   "interpreter": {
    "hash": "6e9e5767629d26198a734ee01c9558510355f25ffdcffebbd890d86f684e7226"
   }
  }
 },
 "nbformat": 4,
 "nbformat_minor": 2
}
